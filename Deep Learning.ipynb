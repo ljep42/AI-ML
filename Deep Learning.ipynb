{
 "cells": [
  {
   "cell_type": "code",
   "execution_count": 1,
   "metadata": {},
   "outputs": [
    {
     "data": {
      "text/plain": [
       "int"
      ]
     },
     "execution_count": 1,
     "metadata": {},
     "output_type": "execute_result"
    }
   ],
   "source": [
    "type(2)"
   ]
  },
  {
   "cell_type": "code",
   "execution_count": 2,
   "metadata": {},
   "outputs": [
    {
     "data": {
      "text/plain": [
       "float"
      ]
     },
     "execution_count": 2,
     "metadata": {},
     "output_type": "execute_result"
    }
   ],
   "source": [
    "type(2.1)"
   ]
  },
  {
   "cell_type": "code",
   "execution_count": 1,
   "metadata": {},
   "outputs": [
    {
     "data": {
      "text/plain": [
       "float"
      ]
     },
     "execution_count": 1,
     "metadata": {},
     "output_type": "execute_result"
    }
   ],
   "source": [
    " type(4.2)"
   ]
  },
  {
   "cell_type": "code",
   "execution_count": 1,
   "metadata": {},
   "outputs": [
    {
     "ename": "SyntaxError",
     "evalue": "invalid syntax (<ipython-input-1-edf9433b99a1>, line 1)",
     "output_type": "error",
     "traceback": [
      "\u001b[1;36m  File \u001b[1;32m\"<ipython-input-1-edf9433b99a1>\"\u001b[1;36m, line \u001b[1;32m1\u001b[0m\n\u001b[1;33m    show env\u001b[0m\n\u001b[1;37m           ^\u001b[0m\n\u001b[1;31mSyntaxError\u001b[0m\u001b[1;31m:\u001b[0m invalid syntax\n"
     ]
    }
   ],
   "source": [
    "show env"
   ]
  },
  {
   "cell_type": "code",
   "execution_count": 2,
   "metadata": {},
   "outputs": [
    {
     "name": "stdout",
     "output_type": "stream",
     "text": [
      "\n",
      "     active environment : base\n",
      "    active env location : C:\\ProgramData\\Anaconda3\n",
      "       user config file : C:\\Users\\Lee\\.condarc\n",
      " populated config files : C:\\Users\\Lee\\.condarc\n",
      "          conda version : 4.9.2\n",
      "    conda-build version : 3.18.11\n",
      "         python version : 3.7.7.final.0\n",
      "Note: you may need to restart the kernel to use updated packages.\n",
      "       virtual packages : __cuda=11.1=0\n",
      "\n",
      "                          __win=0=0\n",
      "                          __archspec=1=x86_64\n",
      "       base environment : C:\\ProgramData\\Anaconda3  (read only)\n",
      "           channel URLs : https://repo.anaconda.com/pkgs/main/win-64\n",
      "                          https://repo.anaconda.com/pkgs/main/noarch\n",
      "                          https://repo.anaconda.com/pkgs/r/win-64\n",
      "                          https://repo.anaconda.com/pkgs/r/noarch\n",
      "                          https://repo.anaconda.com/pkgs/msys2/win-64\n",
      "                          https://repo.anaconda.com/pkgs/msys2/noarch\n",
      "          package cache : C:\\ProgramData\\Anaconda3\\pkgs\n",
      "                          C:\\Users\\Lee\\.conda\\pkgs\n",
      "                          C:\\Users\\Lee\\AppData\\Local\\conda\\conda\\pkgs\n",
      "       envs directories : C:\\Users\\Lee\\.conda\\envs\n",
      "                          C:\\ProgramData\\Anaconda3\\envs\n",
      "                          C:\\Users\\Lee\\AppData\\Local\\conda\\conda\\envs\n",
      "               platform : win-64\n",
      "             user-agent : conda/4.9.2 requests/2.24.0 CPython/3.7.7 Windows/10 Windows/10.0.19041\n",
      "          administrator : False\n",
      "             netrc file : None\n",
      "           offline mode : False\n",
      "\n"
     ]
    }
   ],
   "source": [
    "conda info"
   ]
  },
  {
   "cell_type": "code",
   "execution_count": 4,
   "metadata": {},
   "outputs": [],
   "source": [
    "from __future__ import print_function"
   ]
  },
  {
   "cell_type": "code",
   "execution_count": 5,
   "metadata": {},
   "outputs": [],
   "source": [
    "import torch"
   ]
  },
  {
   "cell_type": "code",
   "execution_count": 6,
   "metadata": {},
   "outputs": [],
   "source": [
    "x = torch.empty(5,3)"
   ]
  },
  {
   "cell_type": "code",
   "execution_count": 7,
   "metadata": {},
   "outputs": [
    {
     "name": "stdout",
     "output_type": "stream",
     "text": [
      "tensor([[0., 0., 0.],\n",
      "        [0., 0., 0.],\n",
      "        [0., 0., 0.],\n",
      "        [0., 0., 0.],\n",
      "        [0., 0., 0.]])\n"
     ]
    }
   ],
   "source": [
    "print(x)"
   ]
  },
  {
   "cell_type": "code",
   "execution_count": 8,
   "metadata": {},
   "outputs": [],
   "source": [
    "x = torch.rand(5,3)"
   ]
  },
  {
   "cell_type": "code",
   "execution_count": 9,
   "metadata": {},
   "outputs": [
    {
     "name": "stdout",
     "output_type": "stream",
     "text": [
      "tensor([[2.4612e-02, 6.3119e-01, 3.5421e-02],\n",
      "        [2.4935e-01, 5.5712e-01, 7.3735e-02],\n",
      "        [3.6714e-01, 3.7647e-01, 2.4674e-01],\n",
      "        [4.0114e-01, 6.3087e-01, 2.2850e-01],\n",
      "        [9.9013e-01, 6.8748e-04, 8.5868e-01]])\n"
     ]
    }
   ],
   "source": [
    "print(x)"
   ]
  },
  {
   "cell_type": "code",
   "execution_count": 8,
   "metadata": {},
   "outputs": [],
   "source": [
    "import numpy as np\n"
   ]
  },
  {
   "cell_type": "code",
   "execution_count": 9,
   "metadata": {},
   "outputs": [],
   "source": [
    "a = np.array([0,1,2,3])"
   ]
  },
  {
   "cell_type": "code",
   "execution_count": 10,
   "metadata": {},
   "outputs": [],
   "source": [
    "b = np.array([4,5,6,7])"
   ]
  },
  {
   "cell_type": "code",
   "execution_count": 11,
   "metadata": {},
   "outputs": [],
   "source": [
    "c = np.array([[0,1,2,3],[4,5,6,7]])"
   ]
  },
  {
   "cell_type": "code",
   "execution_count": 12,
   "metadata": {},
   "outputs": [],
   "source": [
    "d = np.zeros((2,5))"
   ]
  },
  {
   "cell_type": "code",
   "execution_count": 13,
   "metadata": {},
   "outputs": [],
   "source": [
    "e = np.random.rand(2,5)"
   ]
  },
  {
   "cell_type": "code",
   "execution_count": 14,
   "metadata": {},
   "outputs": [
    {
     "name": "stdout",
     "output_type": "stream",
     "text": [
      "[0 1 2 3]\n",
      "[4 5 6 7]\n",
      "[[0 1 2 3]\n",
      " [4 5 6 7]]\n",
      "[[0. 0. 0. 0. 0.]\n",
      " [0. 0. 0. 0. 0.]]\n",
      "[[0.07839933 0.54700469 0.13225595 0.93807321 0.80896967]\n",
      " [0.56814809 0.27908742 0.980385   0.24911224 0.80826857]]\n"
     ]
    }
   ],
   "source": [
    "print(a)\n",
    "print(b)\n",
    "print(c)\n",
    "print(d)\n",
    "print(e)"
   ]
  },
  {
   "cell_type": "code",
   "execution_count": 8,
   "metadata": {},
   "outputs": [
    {
     "name": "stdout",
     "output_type": "stream",
     "text": [
      "[ 0  5 12 21]\n"
     ]
    }
   ],
   "source": [
    "print(a * b)"
   ]
  },
  {
   "cell_type": "code",
   "execution_count": 9,
   "metadata": {},
   "outputs": [
    {
     "name": "stdout",
     "output_type": "stream",
     "text": [
      "[[ 0  1  4  9]\n",
      " [ 0  5 12 21]]\n"
     ]
    }
   ],
   "source": [
    "print(a * c)"
   ]
  },
  {
   "cell_type": "code",
   "execution_count": 10,
   "metadata": {},
   "outputs": [
    {
     "name": "stdout",
     "output_type": "stream",
     "text": [
      "[[0. 0. 0. 0.]\n",
      " [0. 0. 0. 0.]]\n"
     ]
    }
   ],
   "source": [
    "print(a * d)"
   ]
  },
  {
   "cell_type": "code",
   "execution_count": 11,
   "metadata": {},
   "outputs": [
    {
     "ename": "ValueError",
     "evalue": "operands could not be broadcast together with shapes (4,) (2,5) ",
     "output_type": "error",
     "traceback": [
      "\u001b[1;31m---------------------------------------------------------------------------\u001b[0m",
      "\u001b[1;31mValueError\u001b[0m                                Traceback (most recent call last)",
      "\u001b[1;32m<ipython-input-11-76f6dfe4e06b>\u001b[0m in \u001b[0;36m<module>\u001b[1;34m\u001b[0m\n\u001b[1;32m----> 1\u001b[1;33m \u001b[0mprint\u001b[0m\u001b[1;33m(\u001b[0m\u001b[0ma\u001b[0m \u001b[1;33m*\u001b[0m \u001b[0me\u001b[0m\u001b[1;33m)\u001b[0m\u001b[1;33m\u001b[0m\u001b[1;33m\u001b[0m\u001b[0m\n\u001b[0m",
      "\u001b[1;31mValueError\u001b[0m: operands could not be broadcast together with shapes (4,) (2,5) "
     ]
    }
   ],
   "source": [
    "print(a * e)"
   ]
  },
  {
   "cell_type": "code",
   "execution_count": 12,
   "metadata": {},
   "outputs": [],
   "source": [
    "a = np.zeros((1,4))"
   ]
  },
  {
   "cell_type": "code",
   "execution_count": 13,
   "metadata": {},
   "outputs": [],
   "source": [
    "b = np.zeros((4,3))"
   ]
  },
  {
   "cell_type": "code",
   "execution_count": 14,
   "metadata": {},
   "outputs": [],
   "source": [
    "c = a.dot(b)"
   ]
  },
  {
   "cell_type": "code",
   "execution_count": 15,
   "metadata": {},
   "outputs": [
    {
     "name": "stdout",
     "output_type": "stream",
     "text": [
      "(1, 3)\n"
     ]
    }
   ],
   "source": [
    "print(c.shape)"
   ]
  },
  {
   "cell_type": "code",
   "execution_count": 16,
   "metadata": {},
   "outputs": [],
   "source": [
    "d = a.dot(b)"
   ]
  },
  {
   "cell_type": "code",
   "execution_count": 17,
   "metadata": {},
   "outputs": [],
   "source": [
    "knob = 0.5"
   ]
  },
  {
   "cell_type": "code",
   "execution_count": 18,
   "metadata": {},
   "outputs": [],
   "source": [
    "input = 0.5\n",
    "pred_act = 0.8\n",
    "pred = input * knob"
   ]
  },
  {
   "cell_type": "code",
   "execution_count": 19,
   "metadata": {},
   "outputs": [
    {
     "name": "stdout",
     "output_type": "stream",
     "text": [
      "0.30250000000000005\n"
     ]
    }
   ],
   "source": [
    "error = (pred - pred_act) ** 2\n",
    "print(error)"
   ]
  },
  {
   "cell_type": "code",
   "execution_count": 53,
   "metadata": {},
   "outputs": [
    {
     "name": "stdout",
     "output_type": "stream",
     "text": [
      "iteration:0 Error:0.30250000000000005 Prediction:0.25 weight:0.775\n",
      "iteration:1 Error:0.17015625000000004 Prediction:0.3875 weight:0.9812500000000001\n",
      "iteration:2 Error:0.095712890625 Prediction:0.49062500000000003 weight:1.1359375\n",
      "iteration:3 Error:0.05383850097656251 Prediction:0.56796875 weight:1.251953125\n",
      "iteration:4 Error:0.03028415679931642 Prediction:0.6259765625 weight:1.33896484375\n",
      "iteration:5 Error:0.0170348381996155 Prediction:0.669482421875 weight:1.4042236328125\n",
      "iteration:6 Error:0.00958209648728372 Prediction:0.70211181640625 weight:1.453167724609375\n",
      "iteration:7 Error:0.005389929274097089 Prediction:0.7265838623046875 weight:1.4898757934570312\n",
      "iteration:8 Error:0.0030318352166796153 Prediction:0.7449378967285156 weight:1.5174068450927733\n",
      "iteration:9 Error:0.0017054073093822882 Prediction:0.7587034225463867 weight:1.53805513381958\n",
      "iteration:10 Error:0.0009592916115275371 Prediction:0.76902756690979 weight:1.553541350364685\n",
      "iteration:11 Error:0.0005396015314842384 Prediction:0.7767706751823426 weight:1.5651560127735138\n",
      "iteration:12 Error:0.000303525861459885 Prediction:0.7825780063867569 weight:1.5738670095801353\n",
      "iteration:13 Error:0.00017073329707118678 Prediction:0.7869335047900676 weight:1.5804002571851015\n",
      "iteration:14 Error:9.603747960254256e-05 Prediction:0.7902001285925507 weight:1.5853001928888262\n",
      "iteration:15 Error:5.402108227642978e-05 Prediction:0.7926500964444131 weight:1.5889751446666196\n",
      "iteration:16 Error:3.038685878049206e-05 Prediction:0.7944875723333098 weight:1.5917313584999646\n",
      "iteration:17 Error:1.7092608064027242e-05 Prediction:0.7958656792499823 weight:1.5937985188749735\n",
      "iteration:18 Error:9.614592036015323e-06 Prediction:0.7968992594374867 weight:1.5953488891562302\n",
      "iteration:19 Error:5.408208020258491e-06 Prediction:0.7976744445781151 weight:1.5965116668671726\n"
     ]
    }
   ],
   "source": [
    "weight = 0.5\n",
    "input = 0.5\n",
    "goal_prediction = 0.8\n",
    "\n",
    "step_amount = 0.001\n",
    "\n",
    "for n in range(20):\n",
    "    prediction = input * weight\n",
    "    error = (prediction - goal_prediction) ** 2\n",
    "    weight_delta = (prediction - goal_prediction) * input\n",
    "    alpha = 0.01\n",
    "    weight -= weight_delta\n",
    "    #weight -= weight_delta * alpha\n",
    "    \n",
    "    print(\"iteration:\" + str(n) + \" Error:\" + str(error) + \" Prediction:\" + str(prediction) + \" weight:\" + str(weight))\n",
    "    \n",
    "#     up_prediction = input * (weight + step_amount)\n",
    "#     up_error = (goal_prediction - up_prediction) ** 2\n",
    "    \n",
    "#     down_prediction = input * (weight - step_amount)\n",
    "#     down_error = (goal_prediction - down_prediction) ** 2\n",
    "    \n",
    "#     if(down_error < up_error):\n",
    "#         weight = weight - step_amount\n",
    "        \n",
    "#     if(down_error >= up_error):\n",
    "#         weight = weight + step_amount"
   ]
  },
  {
   "cell_type": "code",
   "execution_count": 3,
   "metadata": {},
   "outputs": [
    {
     "name": "stdout",
     "output_type": "stream",
     "text": [
      "-----\n",
      "Weight:0.0\n",
      "Error:0.6400000000000001 Prediction:0.0\n",
      "Delta:-0.8 Weight Delta:-0.8800000000000001\n",
      "-----\n",
      "Weight:0.8800000000000001\n",
      "Error:0.02822400000000005 Prediction:0.9680000000000002\n",
      "Delta:0.16800000000000015 Weight Delta:0.1848000000000002\n",
      "-----\n",
      "Weight:0.6951999999999999\n",
      "Error:0.0012446784000000064 Prediction:0.76472\n",
      "Delta:-0.03528000000000009 Weight Delta:-0.0388080000000001\n",
      "-----\n",
      "Weight:0.734008\n",
      "Error:5.4890317439999896e-05 Prediction:0.8074088\n",
      "Delta:0.007408799999999993 Weight Delta:0.008149679999999992\n"
     ]
    }
   ],
   "source": [
    "weight, goal_pred, input = (0.0, 0.8, 1.1)\n",
    "for iteration in range(4):\n",
    "    print(\"-----\\nWeight:\" + str(weight))\n",
    "    pred = input * weight\n",
    "    error = (pred - goal_pred) ** 2\n",
    "    delta = pred - goal_pred\n",
    "    weight_delta = delta * input\n",
    "    weight = weight - weight_delta\n",
    "    print(\"Error:\" + str(error) + \" Prediction:\" + str(pred))\n",
    "    print(\"Delta:\" + str(delta) + \" Weight Delta:\" + str(weight_delta))"
   ]
  },
  {
   "cell_type": "code",
   "execution_count": 128,
   "metadata": {},
   "outputs": [
    {
     "name": "stdout",
     "output_type": "stream",
     "text": [
      "iteration:  1 \n",
      " input:  3 \n",
      " weight:  0.5\n",
      " Prediction =  3  *  0.5  =  1.5\n",
      " delta:  0.7 \n",
      " error:  0.48999999999999994 \n",
      " weight_delta:  2.0999999999999996\n",
      " new weight:  0.479\n",
      "iteration:  2 \n",
      " input:  3 \n",
      " weight:  0.479\n",
      " Prediction =  3  *  0.479  =  1.4369999999999998\n",
      " delta:  0.6369999999999998 \n",
      " error:  0.4057689999999997 \n",
      " weight_delta:  1.9109999999999994\n",
      " new weight:  0.45988999999999997\n",
      "iteration:  3 \n",
      " input:  3 \n",
      " weight:  0.45988999999999997\n",
      " Prediction =  3  *  0.45988999999999997  =  1.37967\n",
      " delta:  0.5796699999999999 \n",
      " error:  0.33601730889999987 \n",
      " weight_delta:  1.7390099999999997\n",
      " new weight:  0.44249989999999995\n",
      "iteration:  4 \n",
      " input:  3 \n",
      " weight:  0.44249989999999995\n",
      " Prediction =  3  *  0.44249989999999995  =  1.3274996999999997\n",
      " delta:  0.5274996999999997 \n",
      " error:  0.27825593350008965 \n",
      " weight_delta:  1.582499099999999\n",
      " new weight:  0.42667490899999994\n",
      "iteration:  5 \n",
      " input:  3 \n",
      " weight:  0.42667490899999994\n",
      " Prediction =  3  *  0.42667490899999994  =  1.2800247269999998\n",
      " delta:  0.48002472699999976 \n",
      " error:  0.2304237385314243 \n",
      " weight_delta:  1.4400741809999993\n",
      " new weight:  0.41227416718999993\n",
      "iteration:  6 \n",
      " input:  3 \n",
      " weight:  0.41227416718999993\n",
      " Prediction =  3  *  0.41227416718999993  =  1.2368225015699998\n",
      " delta:  0.4368225015699998 \n",
      " error:  0.19081389787787248 \n",
      " weight_delta:  1.3104675047099994\n",
      " new weight:  0.39916949214289993\n",
      "iteration:  7 \n",
      " input:  3 \n",
      " weight:  0.39916949214289993\n",
      " Prediction =  3  *  0.39916949214289993  =  1.1975084764286998\n",
      " delta:  0.3975084764286998 \n",
      " error:  0.15801298883266618 \n",
      " weight_delta:  1.1925254292860994\n",
      " new weight:  0.3872442378500389\n",
      "iteration:  8 \n",
      " input:  3 \n",
      " weight:  0.3872442378500389\n",
      " Prediction =  3  *  0.3872442378500389  =  1.1617327135501168\n",
      " delta:  0.3617327135501167 \n",
      " error:  0.13085055605233079 \n",
      " weight_delta:  1.0851981406503501\n",
      " new weight:  0.3763922564435354\n",
      "iteration:  9 \n",
      " input:  3 \n",
      " weight:  0.3763922564435354\n",
      " Prediction =  3  *  0.3763922564435354  =  1.1291767693306063\n",
      " delta:  0.32917676933060624 \n",
      " error:  0.10835734546693515 \n",
      " weight_delta:  0.9875303079918187\n",
      " new weight:  0.3665169533636172\n",
      "iteration:  10 \n",
      " input:  3 \n",
      " weight:  0.3665169533636172\n",
      " Prediction =  3  *  0.3665169533636172  =  1.0995508600908517\n",
      " delta:  0.29955086009085163 \n",
      " error:  0.08973071778116896 \n",
      " weight_delta:  0.8986525802725549\n",
      " new weight:  0.35753042756089165\n",
      "iteration:  11 \n",
      " input:  3 \n",
      " weight:  0.35753042756089165\n",
      " Prediction =  3  *  0.35753042756089165  =  1.072591282682675\n",
      " delta:  0.27259128268267485 \n",
      " error:  0.07430600739458595 \n",
      " weight_delta:  0.8177738480480246\n",
      " new weight:  0.3493526890804114\n",
      "iteration:  12 \n",
      " input:  3 \n",
      " weight:  0.3493526890804114\n",
      " Prediction =  3  *  0.3493526890804114  =  1.048058067241234\n",
      " delta:  0.24805806724123403 \n",
      " error:  0.06153280472345658 \n",
      " weight_delta:  0.7441742017237021\n",
      " new weight:  0.3419109470631744\n",
      "iteration:  13 \n",
      " input:  3 \n",
      " weight:  0.3419109470631744\n",
      " Prediction =  3  *  0.3419109470631744  =  1.025732841189523\n",
      " delta:  0.22573284118952297 \n",
      " error:  0.050955315591494396 \n",
      " weight_delta:  0.6771985235685689\n",
      " new weight:  0.3351389618274887\n",
      "iteration:  14 \n",
      " input:  3 \n",
      " weight:  0.3351389618274887\n",
      " Prediction =  3  *  0.3351389618274887  =  1.005416885482466\n",
      " delta:  0.20541688548246606 \n",
      " error:  0.042196096841316574 \n",
      " weight_delta:  0.6162506564473982\n",
      " new weight:  0.3289764552630147\n",
      "iteration:  15 \n",
      " input:  3 \n",
      " weight:  0.3289764552630147\n",
      " Prediction =  3  *  0.3289764552630147  =  0.9869293657890441\n",
      " delta:  0.18692936578904407 \n",
      " error:  0.03494258779429424 \n",
      " weight_delta:  0.5607880973671322\n",
      " new weight:  0.3233685742893434\n",
      "iteration:  16 \n",
      " input:  3 \n",
      " weight:  0.3233685742893434\n",
      " Prediction =  3  *  0.3233685742893434  =  0.9701057228680302\n",
      " delta:  0.17010572286803016 \n",
      " error:  0.02893595695245508 \n",
      " weight_delta:  0.5103171686040905\n",
      " new weight:  0.3182654026033025\n",
      "iteration:  17 \n",
      " input:  3 \n",
      " weight:  0.3182654026033025\n",
      " Prediction =  3  *  0.3182654026033025  =  0.9547962078099075\n",
      " delta:  0.15479620780990744 \n",
      " error:  0.02396186595232805 \n",
      " weight_delta:  0.4643886234297223\n",
      " new weight:  0.31362151636900526\n",
      "iteration:  18 \n",
      " input:  3 \n",
      " weight:  0.31362151636900526\n",
      " Prediction =  3  *  0.31362151636900526  =  0.9408645491070158\n",
      " delta:  0.14086454910701574 \n",
      " error:  0.01984282119512285 \n",
      " weight_delta:  0.4225936473210472\n",
      " new weight:  0.3093955798957948\n",
      "iteration:  19 \n",
      " input:  3 \n",
      " weight:  0.3093955798957948\n",
      " Prediction =  3  *  0.3093955798957948  =  0.9281867396873844\n",
      " delta:  0.12818673968738437 \n",
      " error:  0.016431840231681243 \n",
      " weight_delta:  0.3845602190621531\n",
      " new weight:  0.3055499777051733\n",
      "iteration:  20 \n",
      " input:  3 \n",
      " weight:  0.3055499777051733\n",
      " Prediction =  3  *  0.3055499777051733  =  0.9166499331155198\n",
      " delta:  0.11664993311551974 \n",
      " error:  0.01360720689585523 \n",
      " weight_delta:  0.34994979934655923\n",
      " new weight:  0.3020504797117077\n"
     ]
    }
   ],
   "source": [
    "weight = 0.5\n",
    "goal_pred = 0.8\n",
    "input = 3\n",
    "for n in range(20):\n",
    "    pred = input * weight\n",
    "    error = (pred - goal_pred) ** 2\n",
    "    delta = pred - goal_pred\n",
    "    weight_delta = input * delta\n",
    "    alpha = 0.01\n",
    "    print(\"iteration: \", n+1, \"\\n input: \", input, \"\\n weight: \", weight)\n",
    "    print(\" Prediction = \", input, \" * \", weight, \" = \", pred)\n",
    "    print(\" delta: \", delta, \"\\n error: \", error, \"\\n weight_delta: \", weight_delta)\n",
    "    weight -= weight_delta * alpha\n",
    "    print(\" new weight: \", weight)\n",
    "    "
   ]
  },
  {
   "cell_type": "code",
   "execution_count": 4,
   "metadata": {},
   "outputs": [
    {
     "name": "stdout",
     "output_type": "stream",
     "text": [
      "input:  [8.5, 0.65, 1.2]\n",
      "weights:  [0.1, 0.2, -0.1]\n",
      "prediction:  0.8600000000000001\n",
      "true value:  1\n",
      "error:  0.01959999999999997\n",
      "delta raw error -0.1399999999999999\n",
      "weight deltas:  [-1.189999999999999, -0.09099999999999994, -0.16799999999999987]\n",
      "new weights: [0.1119, 0.20091, -0.09832]\n",
      "\n",
      "\n",
      "input:  [8.5, 0.65, 1.2]\n",
      "weights:  [0.1119, 0.20091, -0.09832]\n",
      "prediction:  0.9637574999999999\n",
      "true value:  1\n",
      "error:  0.0013135188062500048\n",
      "delta raw error -0.036242500000000066\n",
      "weight deltas:  [-0.30806125000000056, -0.023557625000000044, -0.04349100000000008]\n",
      "new weights: [0.11498061250000001, 0.20114557625, -0.09788509000000001]\n",
      "\n",
      "\n",
      "input:  [8.5, 0.65, 1.2]\n",
      "weights:  [0.11498061250000001, 0.20114557625, -0.09788509000000001]\n",
      "prediction:  0.9906177228125002\n",
      "true value:  1\n",
      "error:  8.802712522307997e-05\n",
      "delta raw error -0.009382277187499843\n",
      "weight deltas:  [-0.07974935609374867, -0.006098480171874899, -0.011258732624999811]\n",
      "new weights: [0.1157781060609375, 0.20120656105171877, -0.09777250267375001]\n",
      "\n",
      "\n"
     ]
    }
   ],
   "source": [
    "# multiple input to 1 output\n",
    "toes = [8.5 , 9.5, 9.9, 9.0]\n",
    "winloss = [0.65, 0.8, 0.8, 0.9]\n",
    "fans = [1.2 , 1.3, 0.5, 1.0]\n",
    "\n",
    "# multiple inputs with only 1 output\n",
    "input = [toes[0], winloss[0], fans[0]]\n",
    "weights = [0.1, 0.2, -.1]\n",
    "alpha = 0.01\n",
    "\n",
    "win_or_lose_binary = [1, 1, 0, 1]\n",
    "# prediction tries to get close to true value\n",
    "true = win_or_lose_binary[0]\n",
    "\n",
    "def neural_network(inp, wei):\n",
    "    pred = 0\n",
    "    for i in range(len(inp)):\n",
    "        pred += (inp[i] * wei[i])\n",
    "    return pred\n",
    "\n",
    "def ele_mul(number, vector):\n",
    "    output = [0, 0, 0]\n",
    "    assert(len(output) == len(vector))\n",
    "    for i in range(len(vector)):\n",
    "        output[i] = number * vector[i]\n",
    "    return output\n",
    "\n",
    "for iter in range(3):\n",
    "    # multiply weights * input\n",
    "    prediction = neural_network(input, weights)\n",
    "    # calc error\n",
    "    error = (prediction - true) ** 2\n",
    "    # calc raw error\n",
    "    delta = prediction - true\n",
    "    # calc weight delta to correct for scaling, negative reversal, and stopping\n",
    "    # basically raw error * input\n",
    "    weight_deltas = ele_mul(delta, input)\n",
    "    \n",
    "    # print out variables\n",
    "    print(\"input: \", input)\n",
    "    print(\"weights: \", weights)\n",
    "    print(\"prediction: \", prediction)\n",
    "    print(\"true value: \", true)\n",
    "    print(\"error: \", error)\n",
    "    print(\"delta raw error\", delta)\n",
    "    print(\"weight deltas: \" , weight_deltas)\n",
    "\n",
    "    # update new weights\n",
    "    for i in range(len(weights)):\n",
    "        weights[i] -= alpha * weight_deltas[i]\n",
    "    print(\"new weights:\", weights)\n",
    "    print(\"\\n\")\n",
    "\n",
    "\n"
   ]
  },
  {
   "cell_type": "code",
   "execution_count": 153,
   "metadata": {},
   "outputs": [
    {
     "name": "stdout",
     "output_type": "stream",
     "text": [
      "0.9906177228125002\n"
     ]
    }
   ],
   "source": [
    "print(prediction)"
   ]
  },
  {
   "cell_type": "code",
   "execution_count": 154,
   "metadata": {},
   "outputs": [
    {
     "name": "stdout",
     "output_type": "stream",
     "text": [
      "0.9166499331155198\n"
     ]
    }
   ],
   "source": [
    "print(pred)"
   ]
  },
  {
   "cell_type": "code",
   "execution_count": 5,
   "metadata": {},
   "outputs": [
    {
     "name": "stdout",
     "output_type": "stream",
     "text": [
      "input:  [8.5, 0.65, 1.2]\n",
      "weights:  [0.1, 0.2, -0.1]\n",
      "prediction:  0.8600000000000001\n",
      "error:  0.01959999999999997\n",
      "delta raw error -0.1399999999999999\n",
      "weight deltas:  [0, -0.09099999999999994, -0.16799999999999987]\n",
      "new weights: [0.1, 0.2273, -0.04960000000000005]\n",
      "\n",
      "\n",
      "input:  [8.5, 0.65, 1.2]\n",
      "weights:  [0.1, 0.2273, -0.04960000000000005]\n",
      "prediction:  0.9382250000000001\n",
      "error:  0.003816150624999989\n",
      "delta raw error -0.06177499999999991\n",
      "weight deltas:  [0, -0.040153749999999946, -0.07412999999999989]\n",
      "new weights: [0.1, 0.239346125, -0.02736100000000008]\n",
      "\n",
      "\n",
      "input:  [8.5, 0.65, 1.2]\n",
      "weights:  [0.1, 0.239346125, -0.02736100000000008]\n",
      "prediction:  0.97274178125\n",
      "error:  0.000743010489422852\n",
      "delta raw error -0.027258218750000007\n",
      "weight deltas:  [0, -0.017717842187500006, -0.032709862500000006]\n",
      "new weights: [0.1, 0.24466147765625, -0.017548041250000077]\n",
      "\n",
      "\n",
      "input:  [8.5, 0.65, 1.2]\n",
      "weights:  [0.1, 0.24466147765625, -0.017548041250000077]\n",
      "prediction:  0.9879723109765626\n",
      "error:  0.00014466530324451716\n",
      "delta raw error -0.012027689023437427\n",
      "weight deltas:  [0, -0.007817997865234327, -0.014433226828124911]\n",
      "new weights: [0.1, 0.24700687701582028, -0.013218073201562604]\n",
      "\n",
      "\n",
      "input:  [8.5, 0.65, 1.2]\n",
      "weights:  [0.1, 0.24700687701582028, -0.013218073201562604]\n",
      "prediction:  0.9946927822184082\n",
      "error:  2.816656058124442e-05\n",
      "delta raw error -0.005307217781591822\n",
      "weight deltas:  [0, -0.0034496915580346844, -0.006368661337910186]\n",
      "new weights: [0.1, 0.2480417844832307, -0.011307474800189548]\n",
      "\n",
      "\n"
     ]
    }
   ],
   "source": [
    "# freeze weight 1, and nn will still 'learn' without it where weight 1 may hold predictive power.\n",
    "# the model effective learns to predict without it, and thus never incorporates it into its prediction\n",
    "toes = [8.5 , 9.5, 9.9, 9.0]\n",
    "winloss = [0.65, 0.8, 0.8, 0.9]\n",
    "fans = [1.2 , 1.3, 0.5, 1.0]\n",
    "\n",
    "# multiple inputs with only 1 output\n",
    "input = [toes[0], winloss[0], fans[0]]\n",
    "weights = [0.1, 0.2, -.1]\n",
    "# adjust alpha\n",
    "alpha = 0.3\n",
    "\n",
    "win_or_lose_binary = [1, 1, 0, 1]\n",
    "# prediction tries to get close to true value\n",
    "true = win_or_lose_binary[0]\n",
    "\n",
    "def neural_network(inp, wei):\n",
    "    pred = 0\n",
    "    for i in range(len(inp)):\n",
    "        pred += (inp[i] * wei[i])\n",
    "    return pred\n",
    "\n",
    "def ele_mul(number, vector):\n",
    "    output = [0, 0, 0]\n",
    "    assert(len(output) == len(vector))\n",
    "    for i in range(len(vector)):\n",
    "        output[i] = number * vector[i]\n",
    "    return output\n",
    "\n",
    "for iter in range(5):\n",
    "    # multiply weights * input\n",
    "    prediction = neural_network(input, weights)\n",
    "    # calc error\n",
    "    error = (prediction - true) ** 2\n",
    "    # calc raw error\n",
    "    delta = prediction - true\n",
    "    # calc weight delta to correct for scaling, negative reversal, and stopping\n",
    "    weight_deltas = ele_mul(delta, input)\n",
    "    # freeze weight\n",
    "    weight_deltas[0] = 0\n",
    "    # print out variables\n",
    "    print(\"input: \", input)\n",
    "    print(\"weights: \", weights)\n",
    "    print(\"prediction: \", prediction)\n",
    "    print(\"error: \", error)\n",
    "    print(\"delta raw error\", delta)\n",
    "    print(\"weight deltas: \" , weight_deltas)\n",
    "\n",
    "    # update new weights\n",
    "    for i in range(len(weights)):\n",
    "        weights[i] -= alpha * weight_deltas[i]\n",
    "    print(\"new weights:\", weights)\n",
    "    print(\"\\n\")"
   ]
  },
  {
   "cell_type": "code",
   "execution_count": 40,
   "metadata": {},
   "outputs": [
    {
     "name": "stdout",
     "output_type": "stream",
     "text": [
      "input:  0.65\n",
      "weights:  [0.3, 0.2, 0.9]\n",
      "prediction:  [0.195, 0.13, 0.5850000000000001]\n",
      "error:  [0.009025, 0.7569, 0.2352250000000001]\n",
      "delta raw error [0.095, -0.87, 0.4850000000000001]\n",
      "weight deltas:  [0.061750000000000006, -0.5655, 0.3152500000000001]\n",
      "new weights: [0.293825, 0.25655, 0.868475]\n",
      "\n",
      "\n",
      "input:  0.65\n",
      "weights:  [0.293825, 0.25655, 0.868475]\n",
      "prediction:  [0.19098625, 0.1667575, 0.56450875]\n",
      "error:  [0.008278497689062499, 0.69429306380625, 0.21576837882656252]\n",
      "delta raw error [0.09098624999999999, -0.8332425, 0.46450875]\n",
      "weight deltas:  [0.059141062499999994, -0.541607625, 0.3019306875]\n",
      "new weights: [0.28791089375, 0.3107107625, 0.83828193125]\n",
      "\n",
      "\n",
      "input:  0.65\n",
      "weights:  [0.28791089375, 0.3107107625, 0.83828193125]\n",
      "prediction:  [0.1871420809375, 0.20196199562500003, 0.5448832553125]\n",
      "error:  [0.007593742270117802, 0.6368646564268324, 0.19792111085744712]\n",
      "delta raw error [0.0871420809375, -0.7980380043749999, 0.44488325531250006]\n",
      "weight deltas:  [0.056642352609375, -0.5187247028437499, 0.28917411595312503]\n",
      "new weights: [0.2822466584890625, 0.362583232784375, 0.8093645196546875]\n",
      "\n",
      "\n"
     ]
    }
   ],
   "source": [
    "# MULTIPLE OUTPUTS FOR 1 INPUT\n",
    "# input\n",
    "winloss = [0.65, 1.0, 1.0, 0.9]\n",
    "input = winloss[0]\n",
    "weights = [0.3, 0.2, 0.9]\n",
    "alpha = 0.1\n",
    "\n",
    "# output\n",
    "hurt = [0.1, 0.0, 0.0, 0.1]\n",
    "win = [ 1, 1, 0, 1]\n",
    "sad = [0.1, 0.0, 0.1, 0.2]\n",
    "# prediction tries to get close to true value\n",
    "true = [hurt[0], win[0], sad[0]]\n",
    "\n",
    "def neural_network(inp, wei):\n",
    "    pred = 0\n",
    "    for i in range(len(inp)):\n",
    "        pred += (inp[i] * wei[i])\n",
    "    return pred\n",
    "\n",
    "def neural_network_multiout(inp, wei):\n",
    "    pred = [0,0,0]\n",
    "    for i in range(len(wei)):\n",
    "        pred[i] = (inp * wei[i])\n",
    "    return pred\n",
    "\n",
    "def ele_mul(number, vector):\n",
    "    output = [0, 0, 0]\n",
    "    assert(len(output) == len(vector))\n",
    "    for i in range(len(vector)):\n",
    "        output[i] = number * vector[i]\n",
    "    return output\n",
    "\n",
    "for iter in range(3):\n",
    "    # multiply weights * input\n",
    "    prediction = neural_network_multiout(input, weights)\n",
    "\n",
    "    # calc error, adjust based on data\n",
    "    error = [0,0,0]\n",
    "    delta = [0,0,0]\n",
    "    \n",
    "    for i in range(len(true)):\n",
    "        error[i] = (prediction[i] - true[i]) ** 2\n",
    "        delta[i] = (prediction[i] - true[i])\n",
    "        \n",
    "    # calc weight delta to correct for scaling, negative reversal, and stopping\n",
    "    weight_deltas = ele_mul(input, delta)\n",
    "\n",
    "    # print out variables\n",
    "    print(\"input: \", input)\n",
    "    print(\"weights: \", weights)\n",
    "    print(\"prediction: \", prediction)\n",
    "    print(\"error: \", error)\n",
    "    print(\"delta raw error\", delta)\n",
    "    print(\"weight deltas: \" , weight_deltas)\n",
    "\n",
    "    # update new weights\n",
    "    for i in range(len(weights)):\n",
    "        weights[i] -= alpha * weight_deltas[i]\n",
    "    print(\"new weights:\", weights)\n",
    "    print(\"\\n\")"
   ]
  },
  {
   "cell_type": "code",
   "execution_count": 6,
   "metadata": {},
   "outputs": [
    {
     "name": "stdout",
     "output_type": "stream",
     "text": [
      "input:  [8.5, 0.65, 1.2]\n",
      "weights:  [[0.1, 0.1, -0.3], [0.1, 0.2, 0.0], [0.0, 1.3, 0.1]]\n",
      "prediction:  [0.555, 0.9800000000000001, 0.9650000000000001]\n",
      "error:  [0.20702500000000007, 0.0003999999999999963, 0.7482250000000001]\n",
      "delta raw error [0.45500000000000007, -0.019999999999999907, 0.8650000000000001]\n",
      "[[0. 0. 0.]\n",
      " [0. 0. 0.]\n",
      " [0. 0. 0.]]\n",
      "input:  [8.5, 0.65, 1.2]\n",
      "weights:  [[0.1, 0.1, -0.3], [0.1, 0.2, 0.0], [0.0, 1.3, 0.1]]\n",
      "prediction:  [0.555, 0.9800000000000001, 0.9650000000000001]\n",
      "error:  [0.20702500000000007, 0.0003999999999999963, 0.7482250000000001]\n",
      "delta raw error [0.45500000000000007, -0.019999999999999907, 0.8650000000000001]\n",
      "weight deltas:  [[ 3.8675  -0.17     7.3525 ]\n",
      " [ 0.29575 -0.013    0.56225]\n",
      " [ 0.546   -0.024    1.038  ]]\n",
      "new weights: [[0.061325, 0.1017, -0.373525], [0.0970425, 0.20013, -0.005622500000000002], [-0.0054600000000000004, 1.30024, 0.08962]]\n",
      "\n",
      "\n",
      "input:  [8.5, 0.65, 1.2]\n",
      "weights:  [[0.061325, 0.1017, -0.373525], [0.0970425, 0.20013, -0.005622500000000002], [-0.0054600000000000004, 1.30024, 0.08962]]\n",
      "prediction:  [0.13913749999999997, 0.9481987500000001, 0.9062899999999999]\n",
      "error:  [0.0015317439062499973, 0.002683369501562491, 0.6501035640999999]\n",
      "delta raw error [0.039137499999999964, -0.05180124999999991, 0.80629]\n",
      "[[0. 0. 0.]\n",
      " [0. 0. 0.]\n",
      " [0. 0. 0.]]\n",
      "input:  [8.5, 0.65, 1.2]\n",
      "weights:  [[0.061325, 0.1017, -0.373525], [0.0970425, 0.20013, -0.005622500000000002], [-0.0054600000000000004, 1.30024, 0.08962]]\n",
      "prediction:  [0.13913749999999997, 0.9481987500000001, 0.9062899999999999]\n",
      "error:  [0.0015317439062499973, 0.002683369501562491, 0.6501035640999999]\n",
      "delta raw error [0.039137499999999964, -0.05180124999999991, 0.80629]\n",
      "weight deltas:  [[ 0.33266875 -0.44031062  6.853465  ]\n",
      " [ 0.02543937 -0.03367081  0.5240885 ]\n",
      " [ 0.046965   -0.0621615   0.967548  ]]\n",
      "new weights: [[0.0579983125, 0.10610310625, -0.44205965], [0.09678810625, 0.200466708125, -0.010863385000000001], [-0.00592965, 1.300861615, 0.07994452]]\n",
      "\n",
      "\n"
     ]
    }
   ],
   "source": [
    "# MULTIPLE INPUTS & OUTPUTS\n",
    "import numpy as np\n",
    "# input\n",
    "toes =  [8.5, 9.5, 9.9, 9.0]\n",
    "wlrec = [0.65,0.8, 0.8, 0.9]\n",
    "nfans = [1.2, 1.3, 0.5, 1.0]\n",
    "\n",
    "input = [toes[0], wlrec[0], nfans[0]]\n",
    "#          toes, win, fans\n",
    "weights = [[0.1, 0.1, -0.3],# hurt\n",
    "           [0.1, 0.2, 0.0], # win\n",
    "           [0.0, 1.3, 0.1]] # sad\n",
    "\n",
    "alpha = 0.01\n",
    "\n",
    "# output\n",
    "hurt = [0.1, 0.0, 0.0, 0.1]\n",
    "win = [ 1, 1, 0, 1]\n",
    "sad = [0.1, 0.0, 0.1, 0.2]\n",
    "\n",
    "# prediction tries to get close to true value\n",
    "true = [hurt[0], win[0], sad[0]]\n",
    "\n",
    "def neural_network(inp, wei):\n",
    "    pred = 0\n",
    "    for i in range(len(inp)):\n",
    "        pred += (inp[i] * wei[i])\n",
    "    return pred\n",
    "\n",
    "def neural_network_multiout(inp, wei):\n",
    "    pred = [0,0,0]\n",
    "    for i in range(len(wei)):\n",
    "        pred[i] = (inp * wei[i])\n",
    "    return pred\n",
    "\n",
    "def vect_mat_mult(vect_input, matrix_weights):\n",
    "    assert(len(vect_input) == len(matrix_weights))\n",
    "    output = [0,0,0]\n",
    "    for i in range(len(vect_input)):\n",
    "        output[i] = w_sum(vect_input, matrix_weights[i])\n",
    "    return output\n",
    "\n",
    "def w_sum(input2, weight):\n",
    "    p = 0\n",
    "    #print(\"input: \", input2)\n",
    "    #print(\"weight: \", weight)\n",
    "    for i in range(len(input2)):\n",
    "        p += input2[i] * weight[i]\n",
    "    return p\n",
    "\n",
    "def ele_mul(number, vector):\n",
    "    output = [0, 0, 0]\n",
    "    assert(len(output) == len(vector))\n",
    "    for i in range(len(vector)):\n",
    "        output[i] = number * vector[i]\n",
    "    return output\n",
    "\n",
    "def ele_mul_2(vector_a, vector_b):\n",
    "    outp = np.zeros((len(vector_a), len(vector_b)))\n",
    "    print(outp)\n",
    "                    \n",
    "    for i in range(len(vector_a)):\n",
    "        for j in range(len(vector_b)):\n",
    "            outp[i][j] = vector_a[i] * vector_b[j]\n",
    "    return outp\n",
    "\n",
    "for iter in range(2):\n",
    "    # multiply weights * input\n",
    "    prediction = vect_mat_mult(input, weights)\n",
    "\n",
    "    # calc error, adjust based on data\n",
    "    error = [0,0,0]\n",
    "    delta = [0,0,0]\n",
    "    \n",
    "    for i in range(len(true)):\n",
    "        error[i] = (prediction[i] - true[i]) ** 2\n",
    "        delta[i] = (prediction[i] - true[i])\n",
    "        \n",
    "    print(\"input: \", input)\n",
    "    print(\"weights: \", weights)\n",
    "    print(\"prediction: \", prediction)\n",
    "    print(\"error: \", error)\n",
    "    print(\"delta raw error\", delta)   \n",
    "    # calc weight delta to correct for scaling, negative reversal, and stopping\n",
    "    weight_deltas = ele_mul_2(input, delta)\n",
    "\n",
    "    # print out variables\n",
    "    print(\"input: \", input)\n",
    "    print(\"weights: \", weights)\n",
    "    print(\"prediction: \", prediction)\n",
    "    print(\"error: \", error)\n",
    "    print(\"delta raw error\", delta)\n",
    "    print(\"weight deltas: \" , weight_deltas)\n",
    "\n",
    "    # update new weights\n",
    "    for i in range(len(weights)):\n",
    "        for j in range(len(weights[0])):\n",
    "            weights[i][j] -= alpha * weight_deltas[i][j]\n",
    "    print(\"new weights:\", weights)\n",
    "    print(\"\\n\")"
   ]
  },
  {
   "cell_type": "code",
   "execution_count": null,
   "metadata": {},
   "outputs": [],
   "source": []
  }
 ],
 "metadata": {
  "kernelspec": {
   "display_name": "Python 3",
   "language": "python",
   "name": "python3"
  },
  "language_info": {
   "codemirror_mode": {
    "name": "ipython",
    "version": 3
   },
   "file_extension": ".py",
   "mimetype": "text/x-python",
   "name": "python",
   "nbconvert_exporter": "python",
   "pygments_lexer": "ipython3",
   "version": "3.7.7"
  }
 },
 "nbformat": 4,
 "nbformat_minor": 2
}
