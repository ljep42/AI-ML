{
 "cells": [
  {
   "cell_type": "code",
   "execution_count": 17,
   "metadata": {},
   "outputs": [
    {
     "data": {
      "text/plain": [
       "<matplotlib.collections.PathCollection at 0x1ec4edc5e08>"
      ]
     },
     "execution_count": 17,
     "metadata": {},
     "output_type": "execute_result"
    },
    {
     "data": {
      "image/png": "[encoded data removed]",
      "text/plain": [
       "<Figure size 432x288 with 1 Axes>"
      ]
     },
     "metadata": {
      "needs_background": "light"
     },
     "output_type": "display_data"
    }
   ],
   "source": [
    "# from https://towardsdatascience.com/polynomial-regression-bbe8b9d97491\n",
    "from IPython.core.interactiveshell import InteractiveShell # allows Jupyter to display multiple output to screen\n",
    "\n",
    "import numpy as np\n",
    "import matplotlib.pyplot as plt\n",
    "InteractiveShell.ast_node_interactivity = \"all\" # allows Jupyter to display multiple output to screen\n",
    "# generate seed value for pseudo random number\n",
    "np.random.seed(0)\n",
    "# create x values\n",
    "x = 2 - 3 * np.random.normal(0,1,20)\n",
    "# create y values\n",
    "y = x - 2 * (x ** 2) + 0.5 * (x ** 3) + np.random.normal(-3,3, 20)\n",
    "# plot\n",
    "plt.scatter(x,y, s=10)\n",
    "plt.show()"
   ]
  },
  {
   "cell_type": "code",
   "execution_count": 18,
   "metadata": {},
   "outputs": [
    {
     "data": {
      "text/plain": [
       "LinearRegression()"
      ]
     },
     "execution_count": 18,
     "metadata": {},
     "output_type": "execute_result"
    },
    {
     "data": {
      "text/plain": [
       "<matplotlib.collections.PathCollection at 0x1ec4ed586c8>"
      ]
     },
     "execution_count": 18,
     "metadata": {},
     "output_type": "execute_result"
    },
    {
     "data": {
      "text/plain": [
       "[<matplotlib.lines.Line2D at 0x1ec4ed74d88>]"
      ]
     },
     "execution_count": 18,
     "metadata": {},
     "output_type": "execute_result"
    },
    {
     "data": {
      "image/png": "[encoded data removed]",
      "text/plain": [
       "<Figure size 432x288 with 1 Axes>"
      ]
     },
     "metadata": {
      "needs_background": "light"
     },
     "output_type": "display_data"
    },
    {
     "name": "stdout",
     "output_type": "stream",
     "text": [
      "[[-3.29215704]\n",
      " [ 0.79952837]\n",
      " [-0.93621395]\n",
      " [-4.7226796 ]\n",
      " [-3.60267397]\n",
      " [ 4.93183364]\n",
      " [-0.85026525]\n",
      " [ 2.45407162]\n",
      " [ 2.30965656]\n",
      " [ 0.76820449]\n",
      " [ 1.56786929]\n",
      " [-2.36282052]\n",
      " [-0.28311318]\n",
      " [ 1.63497495]\n",
      " [ 0.6684103 ]\n",
      " [ 0.99897702]\n",
      " [-2.48223722]\n",
      " [ 2.61547479]\n",
      " [ 1.0607969 ]\n",
      " [ 4.56228722]]\n",
      "score:  11.889431199878441 \n",
      "square err:  15.908242501429998 \n",
      "rsquared:  0.6386750054827146\n"
     ]
    }
   ],
   "source": [
    "from sklearn.linear_model import LinearRegression\n",
    "from sklearn import metrics\n",
    "\n",
    "# use np.newaxis to increase the dimension of the existing array by one more dimension\n",
    "x = x[:, np.newaxis]\n",
    "y = y[:, np.newaxis]\n",
    "\n",
    "# create model\n",
    "model = LinearRegression()\n",
    "# fit model\n",
    "model.fit(x,y)\n",
    "# make predictions\n",
    "y_pred = model.predict(x)\n",
    "\n",
    "# plot\n",
    "plt.scatter(x,y,s=10)\n",
    "plt.plot(x, y_pred, color='r')\n",
    "plt.show()\n",
    "\n",
    "print(x)\n",
    "# get metrics\n",
    "mae = metrics.mean_absolute_error(y, y_pred)\n",
    "mse = metrics.mean_squared_error(y, y_pred, squared=False)\n",
    "r2 = metrics.r2_score(y, y_pred)\n",
    "print(\"score: \", mae, \"\\nsquare err: \", mse, \"\\nrsquared: \", r2)"
   ]
  },
  {
   "cell_type": "code",
   "execution_count": 19,
   "metadata": {},
   "outputs": [
    {
     "name": "stdout",
     "output_type": "stream",
     "text": [
      "(20, 3)\n"
     ]
    },
    {
     "data": {
      "text/plain": [
       "LinearRegression()"
      ]
     },
     "execution_count": 19,
     "metadata": {},
     "output_type": "execute_result"
    },
    {
     "name": "stdout",
     "output_type": "stream",
     "text": [
      "score:  8.336589199791176 \n",
      "square err:  10.120437473614711 \n",
      "rsquared:  0.8537647164420812\n"
     ]
    },
    {
     "data": {
      "text/plain": [
       "<matplotlib.collections.PathCollection at 0x1ec4f1aae88>"
      ]
     },
     "execution_count": 19,
     "metadata": {},
     "output_type": "execute_result"
    },
    {
     "data": {
      "text/plain": [
       "[<matplotlib.lines.Line2D at 0x1ec4edc1dc8>]"
      ]
     },
     "execution_count": 19,
     "metadata": {},
     "output_type": "execute_result"
    },
    {
     "data": {
      "image/png": "[encoded data removed]",
      "text/plain": [
       "<Figure size 432x288 with 1 Axes>"
      ]
     },
     "metadata": {
      "needs_background": "light"
     },
     "output_type": "display_data"
    }
   ],
   "source": [
    "from sklearn.preprocessing import PolynomialFeatures\n",
    "import operator\n",
    "\n",
    "# create new model with higher degree\n",
    "x_poly1 = PolynomialFeatures(degree=2).fit_transform(x)\n",
    "print(x_poly1.shape)\n",
    "model.fit(x_poly1,y)\n",
    "y_poly_pred1 = model.predict(x_poly1)\n",
    "\n",
    "# get metrics\n",
    "mae = metrics.mean_absolute_error(y, y_poly_pred1)\n",
    "mse = metrics.mean_squared_error(y, y_poly_pred1, squared=False)\n",
    "r2 = metrics.r2_score(y, y_poly_pred1)\n",
    "print(\"score: \", mae, \"\\nsquare err: \", mse, \"\\nrsquared: \", r2)\n",
    "\n",
    "# plot\n",
    "plt.scatter(x, y, s=10)\n",
    "# sort the values of x before line plot\n",
    "sort_axis = operator.itemgetter(0)\n",
    "sorted_zip = sorted(zip(x,y_poly_pred1), key=sort_axis)\n",
    "x, y_poly_pred1 = zip(*sorted_zip)\n",
    "plt.plot(x, y_poly_pred1, color='m')\n",
    "plt.show()"
   ]
  },
  {
   "cell_type": "code",
   "execution_count": 20,
   "metadata": {},
   "outputs": [
    {
     "data": {
      "text/plain": [
       "LinearRegression()"
      ]
     },
     "execution_count": 20,
     "metadata": {},
     "output_type": "execute_result"
    },
    {
     "name": "stdout",
     "output_type": "stream",
     "text": [
      "score:  2.6605031581551106 \n",
      "square err:  3.449895507408724 \n",
      "rsquared:  0.9830071790386679\n"
     ]
    },
    {
     "data": {
      "text/plain": [
       "<matplotlib.collections.PathCollection at 0x1ec4f215948>"
      ]
     },
     "execution_count": 20,
     "metadata": {},
     "output_type": "execute_result"
    },
    {
     "data": {
      "text/plain": [
       "[<matplotlib.lines.Line2D at 0x1ec4f204688>]"
      ]
     },
     "execution_count": 20,
     "metadata": {},
     "output_type": "execute_result"
    },
    {
     "data": {
      "image/png": "[encoded data removed]",
      "text/plain": [
       "<Figure size 432x288 with 1 Axes>"
      ]
     },
     "metadata": {
      "needs_background": "light"
     },
     "output_type": "display_data"
    }
   ],
   "source": [
    "# generate x data again\n",
    "np.random.seed(0)\n",
    "x = 2 - 3 * np.random.normal(0, 1, 20)\n",
    "x = x[:, np.newaxis]\n",
    "\n",
    "# create new model with higher degree\n",
    "x_poly1 = PolynomialFeatures(degree=3).fit_transform(x)\n",
    "model.fit(x_poly1,y)\n",
    "y_poly_pred1 = model.predict(x_poly1)\n",
    "\n",
    "# get metrics\n",
    "mae = metrics.mean_absolute_error(y, y_poly_pred1)\n",
    "mse = metrics.mean_squared_error(y, y_poly_pred1, squared=False)\n",
    "r2 = metrics.r2_score(y, y_poly_pred1)\n",
    "print(\"score: \", mae, \"\\nsquare err: \", mse, \"\\nrsquared: \", r2)\n",
    "\n",
    "# plot\n",
    "plt.scatter(x, y, s=10)\n",
    "# sort the values of x before line plot\n",
    "sort_axis = operator.itemgetter(0)\n",
    "sorted_zip = sorted(zip(x,y_poly_pred1), key=sort_axis)\n",
    "x, y_poly_pred1 = zip(*sorted_zip)\n",
    "plt.plot(x, y_poly_pred1, color='m')\n",
    "plt.show()"
   ]
  },
  {
   "cell_type": "code",
   "execution_count": null,
   "metadata": {},
   "outputs": [],
   "source": []
  }
 ],
 "metadata": {
  "kernelspec": {
   "display_name": "Python 3",
   "language": "python",
   "name": "python3"
  },
  "language_info": {
   "codemirror_mode": {
    "name": "ipython",
    "version": 3
   },
   "file_extension": ".py",
   "mimetype": "text/x-python",
   "name": "python",
   "nbconvert_exporter": "python",
   "pygments_lexer": "ipython3",
   "version": "3.7.7"
  }
 },
 "nbformat": 4,
 "nbformat_minor": 4
}
