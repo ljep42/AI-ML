{
 "cells": [
  {
   "cell_type": "code",
   "execution_count": 2,
   "id": "variable-tomorrow",
   "metadata": {},
   "outputs": [
    {
     "data": {
      "text/plain": [
       "['199.72.81.55 - - [01/Jul/1995:00:00:01 -0400] \"GET /history/apollo/ HTTP/1.0\" 200 6245',\n",
       " 'unicomp6.unicomp.net - - [01/Jul/1995:00:00:06 -0400] \"GET /shuttle/countdown/ HTTP/1.0\" 200 3985',\n",
       " '199.120.110.21 - - [01/Jul/1995:00:00:09 -0400] \"GET /shuttle/missions/sts-73/mission-sts-73.html HTTP/1.0\" 200 4085',\n",
       " 'burger.letters.com - - [01/Jul/1995:00:00:11 -0400] \"GET /shuttle/countdown/liftoff.html HTTP/1.0\" 304 0',\n",
       " '199.120.110.21 - - [01/Jul/1995:00:00:11 -0400] \"GET /shuttle/missions/sts-73/sts-73-patch-small.gif HTTP/1.0\" 200 4179',\n",
       " 'burger.letters.com - - [01/Jul/1995:00:00:12 -0400] \"GET /images/NASA-logosmall.gif HTTP/1.0\" 304 0',\n",
       " 'burger.letters.com - - [01/Jul/1995:00:00:12 -0400] \"GET /shuttle/countdown/video/livevideo.gif HTTP/1.0\" 200 0',\n",
       " '205.212.115.106 - - [01/Jul/1995:00:00:12 -0400] \"GET /shuttle/countdown/countdown.html HTTP/1.0\" 200 3985',\n",
       " 'd104.aa.net - - [01/Jul/1995:00:00:13 -0400] \"GET /shuttle/countdown/ HTTP/1.0\" 200 3985',\n",
       " '129.94.144.152 - - [01/Jul/1995:00:00:13 -0400] \"GET / HTTP/1.0\" 200 7074']"
      ]
     },
     "execution_count": 2,
     "metadata": {},
     "output_type": "execute_result"
    }
   ],
   "source": [
    "# import file as rdd\n",
    "file = sc.textFile('/home/lee/Downloads/NASA_access_log_Jul95.txt')\n",
    "# grab top 10\n",
    "file.take(10)"
   ]
  },
  {
   "cell_type": "code",
   "execution_count": 3,
   "id": "romantic-italy",
   "metadata": {},
   "outputs": [
    {
     "data": {
      "text/plain": [
       "1891715"
      ]
     },
     "execution_count": 3,
     "metadata": {},
     "output_type": "execute_result"
    }
   ],
   "source": [
    "# get total count\n",
    "file.count()"
   ]
  },
  {
   "cell_type": "code",
   "execution_count": 18,
   "id": "unusual-terrorist",
   "metadata": {},
   "outputs": [],
   "source": [
    "# turn into CSV format and split into columns, remove any records where columns are empty\n",
    "parsed_logs = file.map(lambda l: l \\\n",
    "        .replace(' - - [', ',') \\\n",
    "        .replace('] \"', ',') \\\n",
    "        .replace('\" ', ',')\n",
    "        .replace(' ', ',')\n",
    "        .split(',')) \\\n",
    ".filter(lambda l: len(l) == 8)\n",
    "\n",
    "# get total count after filter\n",
    "parsed_logs.count()"
   ]
  },
  {
   "cell_type": "code",
   "execution_count": 20,
   "id": "creative-vision",
   "metadata": {},
   "outputs": [
    {
     "data": {
      "text/plain": [
       "pyspark.rdd.PipelinedRDD"
      ]
     },
     "execution_count": 20,
     "metadata": {},
     "output_type": "execute_result"
    }
   ],
   "source": [
    "# check type\n",
    "type(parsed_logs)"
   ]
  },
  {
   "cell_type": "code",
   "execution_count": 22,
   "id": "altered-dover",
   "metadata": {},
   "outputs": [
    {
     "data": {
      "text/plain": [
       "pyspark.sql.dataframe.DataFrame"
      ]
     },
     "execution_count": 22,
     "metadata": {},
     "output_type": "execute_result"
    }
   ],
   "source": [
    "# convert rdd to dataframe\n",
    "df_parsed_logs = parsed_logs.toDF()\n",
    "# check type\n",
    "type(df_parsed_logs)"
   ]
  },
  {
   "cell_type": "code",
   "execution_count": 23,
   "id": "ready-saint",
   "metadata": {},
   "outputs": [
    {
     "data": {
      "text/plain": [
       "Row(_1='199.72.81.55', _2='01/Jul/1995:00:00:01', _3='-0400', _4='GET', _5='/history/apollo/', _6='HTTP/1.0', _7='200', _8='6245')"
      ]
     },
     "execution_count": 23,
     "metadata": {},
     "output_type": "execute_result"
    }
   ],
   "source": [
    "# get top row\n",
    "df_parsed_logs.head()"
   ]
  },
  {
   "cell_type": "code",
   "execution_count": 24,
   "id": "cultural-independence",
   "metadata": {},
   "outputs": [
    {
     "data": {
      "text/plain": [
       "81885"
      ]
     },
     "execution_count": 24,
     "metadata": {},
     "output_type": "execute_result"
    }
   ],
   "source": [
    "# validate distinct count\n",
    "df_parsed_logs.select('_1').distinct().count()"
   ]
  },
  {
   "cell_type": "code",
   "execution_count": 30,
   "id": "municipal-partner",
   "metadata": {},
   "outputs": [
    {
     "name": "stdout",
     "output_type": "stream",
     "text": [
      "+--------------------+\n",
      "|                  _1|\n",
      "+--------------------+\n",
      "|ppp3_136.bekkoame...|\n",
      "|    ppp31.texoma.com|\n",
      "|ix-wc7-20.ix.netc...|\n",
      "|nb1-du5.polarnet....|\n",
      "|    ttyb5.shasta.com|\n",
      "|dialup00004.cinet...|\n",
      "|dd14-025.compuser...|\n",
      "|nigrlpr.actrix.ge...|\n",
      "| uckm001.pn.itnet.it|\n",
      "|      queulen.puc.cl|\n",
      "|pipe2.nyc.pipelin...|\n",
      "|      198.53.164.131|\n",
      "|asdsun.larc.nasa.gov|\n",
      "|pm45-52.smartlink...|\n",
      "|     193.166.184.116|\n",
      "|       194.20.34.120|\n",
      "|dd09-021.compuser...|\n",
      "|     leo.racsa.co.cr|\n",
      "| freenet.carleton.ca|\n",
      "|  enigma.idirect.com|\n",
      "+--------------------+\n",
      "only showing top 20 rows\n",
      "\n"
     ]
    }
   ],
   "source": [
    "# get distinct IP/Host names\n",
    "distinct_logs = df_parsed_logs.select('_1').distinct()\n",
    "distinct_logs.coalesce(1).write.csv('/home/lee/Downloads/NASA_Distinct')\n",
    "distinct_logs.show()"
   ]
  },
  {
   "cell_type": "code",
   "execution_count": 31,
   "id": "inclusive-seven",
   "metadata": {},
   "outputs": [
    {
     "name": "stdout",
     "output_type": "stream",
     "text": [
      "+----+-------+\n",
      "|  _4|  count|\n",
      "+----+-------+\n",
      "|POST|    111|\n",
      "|HEAD|   3945|\n",
      "| GET|1844926|\n",
      "+----+-------+\n",
      "\n"
     ]
    }
   ],
   "source": [
    "# get request count for all\n",
    "df_parsed_logs.groupBy('_4').count().show()"
   ]
  },
  {
   "cell_type": "code",
   "execution_count": 53,
   "id": "smaller-tourism",
   "metadata": {},
   "outputs": [
    {
     "name": "stdout",
     "output_type": "stream",
     "text": [
      "+--------------------+--------+\n",
      "|                  _1| sum(_8)|\n",
      "+--------------------+--------+\n",
      "|ppp3_136.bekkoame...|  224403|\n",
      "|    ppp31.texoma.com| 1486571|\n",
      "|ix-wc7-20.ix.netc...|  406994|\n",
      "|nb1-du5.polarnet....|  409095|\n",
      "|    ttyb5.shasta.com|  138918|\n",
      "|dialup00004.cinet...|   72814|\n",
      "|dd14-025.compuser...|  760617|\n",
      "|nigrlpr.actrix.ge...|   88557|\n",
      "| uckm001.pn.itnet.it|  349801|\n",
      "|      queulen.puc.cl| 1753836|\n",
      "|pipe2.nyc.pipelin...| 2283246|\n",
      "|      198.53.164.131|   76930|\n",
      "|asdsun.larc.nasa.gov|  193436|\n",
      "|pm45-52.smartlink...|    7918|\n",
      "|     193.166.184.116|       0|\n",
      "|       194.20.34.120|  602948|\n",
      "|dd09-021.compuser...|   58781|\n",
      "|     leo.racsa.co.cr|    3980|\n",
      "| freenet.carleton.ca|   23081|\n",
      "|  enigma.idirect.com|22370563|\n",
      "+--------------------+--------+\n",
      "only showing top 20 rows\n",
      "\n"
     ]
    }
   ],
   "source": [
    "# convert column from string to int\n",
    "df_parsed_logs = df_parsed_logs.withColumn('_8', df_parsed_logs['_8'].cast('Integer'))\n",
    "\n",
    "# check\n",
    "#df_parsed_logs.select('_8').dtypes\n",
    "\n",
    "# get IP and bytes sum count\n",
    "groupBy_logs = df_parsed_logs.groupBy('_1').sum('_8')\n",
    "groupBy_logs.coalesce(1).write.csv('/home/lee/Downloads/NASA_GroupBy')\n",
    "groupBy_logs.show()"
   ]
  },
  {
   "cell_type": "code",
   "execution_count": 54,
   "id": "detected-eligibility",
   "metadata": {},
   "outputs": [
    {
     "name": "stdout",
     "output_type": "stream",
     "text": [
      "+--------------------+---+-----+\n",
      "|                  _1| _4|count|\n",
      "+--------------------+---+-----+\n",
      "|sam-slip-l6.neoso...|GET|    5|\n",
      "|           198.6.9.2|GET|   12|\n",
      "|dial3-10.midwest.net|GET|   13|\n",
      "|  mill2.millcomm.com|GET|  167|\n",
      "|      198.59.100.170|GET|   14|\n",
      "|      srf-36.nbn.com|GET|    9|\n",
      "|sbd0124.deltanet.com|GET|   11|\n",
      "|  miafl2-19.gate.net|GET|   25|\n",
      "|  hplabs.nbnet.nb.ca|GET|    7|\n",
      "|ibbeta18.ppp.usit...|GET|    9|\n",
      "|ppp056-stdkn2.ula...|GET|   78|\n",
      "|gr01.ppp.alliance...|GET|    2|\n",
      "|ad03-027.compuser...|GET|   79|\n",
      "| comserv-d-1.usc.edu|GET|   23|\n",
      "|   bhbwin.acadia.net|GET|   26|\n",
      "|     roy.slip.lm.com|GET|   35|\n",
      "|        biron.mv.com|GET|    2|\n",
      "|  dialup57.aloha.com|GET|    3|\n",
      "|dd12-011.compuser...|GET|   31|\n",
      "|    ttyq0.tyrell.net|GET|   26|\n",
      "+--------------------+---+-----+\n",
      "only showing top 20 rows\n",
      "\n"
     ]
    }
   ],
   "source": [
    "# get IP and Request count\n",
    "groupByMulti_logs = df_parsed_logs.groupBy('_1','_4').count()\n",
    "groupByMulti_logs.coalesce(1).write.csv('/home/lee/Downloads/NASA_GroupByMulti')\n",
    "groupByMulti_logs.show()"
   ]
  },
  {
   "cell_type": "code",
   "execution_count": null,
   "id": "united-success",
   "metadata": {},
   "outputs": [],
   "source": []
  }
 ],
 "metadata": {
  "kernelspec": {
   "display_name": "Python 3",
   "language": "python",
   "name": "python3"
  },
  "language_info": {
   "codemirror_mode": {
    "name": "ipython",
    "version": 3
   },
   "file_extension": ".py",
   "mimetype": "text/x-python",
   "name": "python",
   "nbconvert_exporter": "python",
   "pygments_lexer": "ipython3",
   "version": "3.8.5"
  }
 },
 "nbformat": 4,
 "nbformat_minor": 5
}
