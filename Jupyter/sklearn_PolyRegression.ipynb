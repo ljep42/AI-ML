{
 "cells": [
  {
   "cell_type": "code",
   "execution_count": 1,
   "metadata": {},
   "outputs": [],
   "source": [
    "# from https://towardsdatascience.com/polynomial-regression-bbe8b9d97491\n",
    "\n",
    "import numpy as np\n",
    "import operator\n",
    "import matplotlib.pyplot as plt\n",
    "from tabulate import tabulate\n",
    "from sklearn.linear_model import LinearRegression\n",
    "from sklearn.preprocessing import PolynomialFeatures\n",
    "from sklearn import metrics"
   ]
  },
  {
   "cell_type": "markdown",
   "metadata": {},
   "source": [
    "### Linear Regression 1 Degree\n",
    "\n",
    "This originally came from the source above and I just did it for practice. \n",
    "\n",
    "I will just go through the steps that shows how adding more polynomial features to your model will help improve the accuracy and will fit the data better.\n",
    "\n",
    "NOTE: Must get metrics before doing a sort"
   ]
  },
  {
   "cell_type": "code",
   "execution_count": 2,
   "metadata": {},
   "outputs": [],
   "source": [
    "# generate seed value for pseudo random number\n",
    "np.random.seed(0)\n",
    "size=50\n",
    "mu = 3\n",
    "sigma = 1.5 \n",
    "\n",
    "\n",
    "# create x values\n",
    "x = 2 - 3 * np.random.normal(0,1,size)\n",
    "# create y values\n",
    "y = x - 2 * (x ** 2) + 0.5 * (x ** 3) + np.random.normal(mu,sigma, size)\n",
    "\n",
    "# use np.newaxis to increase the dimension of the existing array by one more dimension\n",
    "x = x[:, np.newaxis]\n",
    "y = y[:, np.newaxis]"
   ]
  },
  {
   "cell_type": "code",
   "execution_count": 5,
   "metadata": {},
   "outputs": [
    {
     "data": {
      "image/png": "[encoded data removed]",
      "text/plain": [
       "<Figure size 432x288 with 1 Axes>"
      ]
     },
     "metadata": {
      "needs_background": "light"
     },
     "output_type": "display_data"
    }
   ],
   "source": [
    "fig, ax = plt.subplots()\n",
    "\n",
    "ax.scatter(x,y)\n",
    "\n",
    "plt.show()\n",
    "plt.close()"
   ]
  },
  {
   "cell_type": "code",
   "execution_count": 6,
   "metadata": {},
   "outputs": [],
   "source": [
    "# create model\n",
    "model = LinearRegression()\n",
    "# fit model\n",
    "model.fit(x,y)\n",
    "# make predictions\n",
    "pred = model.predict(x)\n",
    "\n",
    "# get metrics\n",
    "mae = metrics.mean_absolute_error(y, pred)\n",
    "rmse = metrics.mean_squared_error(y, pred, squared=False)\n",
    "r2 = metrics.r2_score(y, pred)"
   ]
  },
  {
   "cell_type": "code",
   "execution_count": 7,
   "metadata": {},
   "outputs": [
    {
     "data": {
      "image/png": "[encoded data removed]",
      "text/plain": [
       "<Figure size 432x288 with 1 Axes>"
      ]
     },
     "metadata": {
      "needs_background": "light"
     },
     "output_type": "display_data"
    }
   ],
   "source": [
    "# plot\n",
    "fig, ax = plt.subplots()\n",
    "\n",
    "ax.scatter(x,y)\n",
    "ax.plot(x, pred, color='r')\n",
    "plt.show()\n",
    "plt.close()"
   ]
  },
  {
   "cell_type": "code",
   "execution_count": 8,
   "metadata": {},
   "outputs": [
    {
     "data": {
      "text/html": [
       "<table>\n",
       "<thead>\n",
       "<tr><th>Metric  </th><th style=\"text-align: right;\">    Score</th></tr>\n",
       "</thead>\n",
       "<tbody>\n",
       "<tr><td>mae     </td><td style=\"text-align: right;\">21.6394  </td></tr>\n",
       "<tr><td>rMSE    </td><td style=\"text-align: right;\">31.5359  </td></tr>\n",
       "<tr><td>r2      </td><td style=\"text-align: right;\"> 0.655819</td></tr>\n",
       "</tbody>\n",
       "</table>"
      ],
      "text/plain": [
       "'<table>\\n<thead>\\n<tr><th>Metric  </th><th style=\"text-align: right;\">    Score</th></tr>\\n</thead>\\n<tbody>\\n<tr><td>mae     </td><td style=\"text-align: right;\">21.6394  </td></tr>\\n<tr><td>rMSE    </td><td style=\"text-align: right;\">31.5359  </td></tr>\\n<tr><td>r2      </td><td style=\"text-align: right;\"> 0.655819</td></tr>\\n</tbody>\\n</table>'"
      ]
     },
     "execution_count": 8,
     "metadata": {},
     "output_type": "execute_result"
    }
   ],
   "source": [
    "results = [['mae', mae], ['rMSE', rmse], ['r2', r2]]\n",
    "tabulate(results, tablefmt='html', headers=['Metric', 'Score'])"
   ]
  },
  {
   "cell_type": "markdown",
   "metadata": {},
   "source": [
    "### Polynomial Degree 2"
   ]
  },
  {
   "cell_type": "code",
   "execution_count": 9,
   "metadata": {},
   "outputs": [],
   "source": [
    "# generate seed value for pseudo random number\n",
    "x = None\n",
    "y = None\n",
    "np.random.seed(0)\n",
    "\n",
    "# create x values\n",
    "x = 2 - 3 * np.random.normal(0,1,size)\n",
    "# create y values\n",
    "y = x - 2 * (x ** 2) + 0.5 * (x ** 3) + np.random.normal(mu,sigma, size)\n",
    "\n",
    "# use np.newaxis to increase the dimension of the existing array by one more dimension\n",
    "x = x[:, np.newaxis]\n",
    "y = y[:, np.newaxis]"
   ]
  },
  {
   "cell_type": "code",
   "execution_count": 10,
   "metadata": {},
   "outputs": [],
   "source": [
    "# create new model with higher degree\n",
    "x_poly = PolynomialFeatures(degree=2).fit_transform(x)\n",
    "model.fit(x_poly,y)\n",
    "poly_pred = model.predict(x_poly)"
   ]
  },
  {
   "cell_type": "code",
   "execution_count": 11,
   "metadata": {},
   "outputs": [
    {
     "data": {
      "text/html": [
       "<table>\n",
       "<thead>\n",
       "<tr><th>Metric  </th><th style=\"text-align: right;\">    Score</th></tr>\n",
       "</thead>\n",
       "<tbody>\n",
       "<tr><td>mae     </td><td style=\"text-align: right;\">20.8915  </td></tr>\n",
       "<tr><td>rmse    </td><td style=\"text-align: right;\">27.3985  </td></tr>\n",
       "<tr><td>r2      </td><td style=\"text-align: right;\"> 0.740205</td></tr>\n",
       "</tbody>\n",
       "</table>"
      ],
      "text/plain": [
       "'<table>\\n<thead>\\n<tr><th>Metric  </th><th style=\"text-align: right;\">    Score</th></tr>\\n</thead>\\n<tbody>\\n<tr><td>mae     </td><td style=\"text-align: right;\">20.8915  </td></tr>\\n<tr><td>rmse    </td><td style=\"text-align: right;\">27.3985  </td></tr>\\n<tr><td>r2      </td><td style=\"text-align: right;\"> 0.740205</td></tr>\\n</tbody>\\n</table>'"
      ]
     },
     "execution_count": 11,
     "metadata": {},
     "output_type": "execute_result"
    }
   ],
   "source": [
    "# get metrics\n",
    "mae = metrics.mean_absolute_error(y, poly_pred)\n",
    "rmse = metrics.mean_squared_error(y, poly_pred, squared=False)\n",
    "r2 = metrics.r2_score(y, poly_pred)\n",
    "\n",
    "results = [['mae', mae], ['rmse', rmse], ['r2', r2]]\n",
    "tabulate(results, tablefmt='html', headers=['Metric', 'Score'])"
   ]
  },
  {
   "cell_type": "code",
   "execution_count": 12,
   "metadata": {},
   "outputs": [
    {
     "data": {
      "image/png": "[encoded data removed]",
      "text/plain": [
       "<Figure size 432x288 with 1 Axes>"
      ]
     },
     "metadata": {
      "needs_background": "light"
     },
     "output_type": "display_data"
    }
   ],
   "source": [
    "# NOTE: have to sort these values BEFORE PLOTTING!\n",
    "# plot\n",
    "fig, ax = plt.subplots()\n",
    "\n",
    "ax.scatter(x,y)\n",
    "# sort the values of x before line plot\n",
    "sort_axis = operator.itemgetter(0)\n",
    "sorted_zip = sorted(zip(x,poly_pred), key=sort_axis)\n",
    "# unzip values\n",
    "x, poly_pred = zip(*sorted_zip)\n",
    "ax.plot(x, poly_pred, color='m')\n",
    "\n",
    "plt.show()\n",
    "plt.close()"
   ]
  },
  {
   "cell_type": "markdown",
   "metadata": {},
   "source": [
    "## Polynomial Degree 3"
   ]
  },
  {
   "cell_type": "code",
   "execution_count": 13,
   "metadata": {},
   "outputs": [],
   "source": [
    "# generate seed value for pseudo random number\n",
    "x = None\n",
    "y = None\n",
    "np.random.seed(0)\n",
    "# create x values\n",
    "x = 2 - 3 * np.random.normal(0,1,size)\n",
    "# create y values\n",
    "y = x - 2 * (x ** 2) + 0.5 * (x ** 3) + np.random.normal(mu,sigma, size)\n",
    "\n",
    "# use np.newaxis to increase the dimension of the existing array by one more dimension\n",
    "x = x[:, np.newaxis]\n",
    "y = y[:, np.newaxis]"
   ]
  },
  {
   "cell_type": "code",
   "execution_count": 14,
   "metadata": {},
   "outputs": [],
   "source": [
    "# create new model with higher degree\n",
    "x_poly = PolynomialFeatures(degree=3).fit_transform(x)\n",
    "\n",
    "model.fit(x_poly,y)\n",
    "poly_pred = model.predict(x_poly)"
   ]
  },
  {
   "cell_type": "code",
   "execution_count": 15,
   "metadata": {},
   "outputs": [
    {
     "data": {
      "text/html": [
       "<table>\n",
       "<thead>\n",
       "<tr><th>Metric  </th><th style=\"text-align: right;\">  Score</th></tr>\n",
       "</thead>\n",
       "<tbody>\n",
       "<tr><td>mae     </td><td style=\"text-align: right;\">1.05765</td></tr>\n",
       "<tr><td>rmse    </td><td style=\"text-align: right;\">1.29493</td></tr>\n",
       "<tr><td>r2      </td><td style=\"text-align: right;\">0.99942</td></tr>\n",
       "</tbody>\n",
       "</table>"
      ],
      "text/plain": [
       "'<table>\\n<thead>\\n<tr><th>Metric  </th><th style=\"text-align: right;\">  Score</th></tr>\\n</thead>\\n<tbody>\\n<tr><td>mae     </td><td style=\"text-align: right;\">1.05765</td></tr>\\n<tr><td>rmse    </td><td style=\"text-align: right;\">1.29493</td></tr>\\n<tr><td>r2      </td><td style=\"text-align: right;\">0.99942</td></tr>\\n</tbody>\\n</table>'"
      ]
     },
     "execution_count": 15,
     "metadata": {},
     "output_type": "execute_result"
    }
   ],
   "source": [
    "# get metrics\n",
    "mae = metrics.mean_absolute_error(y, poly_pred)\n",
    "rmse = metrics.mean_squared_error(y, poly_pred, squared=False)\n",
    "r2 = metrics.r2_score(y, poly_pred)\n",
    "\n",
    "results = [['mae', mae], ['rmse', rmse], ['r2', r2]]\n",
    "tabulate(results, tablefmt='html', headers=['Metric', 'Score'])"
   ]
  },
  {
   "cell_type": "code",
   "execution_count": 16,
   "metadata": {},
   "outputs": [
    {
     "data": {
      "image/png": "[encoded data removed]",
      "text/plain": [
       "<Figure size 432x288 with 1 Axes>"
      ]
     },
     "metadata": {
      "needs_background": "light"
     },
     "output_type": "display_data"
    }
   ],
   "source": [
    "# NOTE: have to sort these values BEFORE PLOTTING!\n",
    "# plot\n",
    "fig, ax = plt.subplots()\n",
    "\n",
    "ax.scatter(x,y)\n",
    "# sort the values of x before line plot\n",
    "sort_axis = operator.itemgetter(0)\n",
    "sorted_zip = sorted(zip(x,poly_pred), key=sort_axis)\n",
    "# unzip values\n",
    "x, poly_pred = zip(*sorted_zip)\n",
    "ax.plot(x, poly_pred, color='m')\n",
    "\n",
    "plt.show()\n",
    "plt.close()"
   ]
  },
  {
   "cell_type": "markdown",
   "metadata": {},
   "source": [
    "Neat! we can see the regression line fits the data better and better as our model becomes more 'complex' and incorporates more features. $R^{2}$ is very high at .999 and defintely overfit for a predction model but still interesting to see."
   ]
  },
  {
   "cell_type": "markdown",
   "metadata": {},
   "source": [
    "### Further Investigation\n",
    "\n",
    "Here I want to play around with some of the variables and see whats going on"
   ]
  },
  {
   "cell_type": "code",
   "execution_count": 17,
   "metadata": {},
   "outputs": [],
   "source": [
    "# generate seed value for pseudo random number\n",
    "x = None\n",
    "y = None\n",
    "np.random.seed(0)\n",
    "size = 50\n",
    "mu = 5\n",
    "sigma = 1 \n",
    "# create x values\n",
    "x = 2 - 3 * np.random.normal(0,1,size)\n",
    "# create y values\n",
    "y = x - 2 * (x ** 2) + 0.5 * (x ** 3) + np.random.normal(mu,sigma, size)\n",
    "\n"
   ]
  },
  {
   "cell_type": "code",
   "execution_count": 18,
   "metadata": {},
   "outputs": [],
   "source": [
    "# use np.newaxis to increase the dimension of the existing array by one more dimension\n",
    "x = x[:, np.newaxis]\n",
    "y = y[:, np.newaxis]"
   ]
  },
  {
   "cell_type": "code",
   "execution_count": 19,
   "metadata": {},
   "outputs": [
    {
     "data": {
      "text/plain": [
       "(50, 1)"
      ]
     },
     "execution_count": 19,
     "metadata": {},
     "output_type": "execute_result"
    }
   ],
   "source": [
    "y.shape"
   ]
  },
  {
   "cell_type": "code",
   "execution_count": 20,
   "metadata": {},
   "outputs": [
    {
     "data": {
      "text/plain": [
       "(50, 1)"
      ]
     },
     "execution_count": 20,
     "metadata": {},
     "output_type": "execute_result"
    }
   ],
   "source": [
    "x.shape"
   ]
  },
  {
   "cell_type": "code",
   "execution_count": 21,
   "metadata": {},
   "outputs": [
    {
     "data": {
      "image/png": "[encoded data removed]",
      "text/plain": [
       "<Figure size 432x288 with 1 Axes>"
      ]
     },
     "metadata": {
      "needs_background": "light"
     },
     "output_type": "display_data"
    }
   ],
   "source": [
    "fig, ax = plt.subplots()\n",
    "\n",
    "ax.plot(x, '.')\n",
    "\n",
    "plt.show()\n",
    "plt.close()"
   ]
  },
  {
   "cell_type": "code",
   "execution_count": 22,
   "metadata": {},
   "outputs": [
    {
     "data": {
      "image/png": "[encoded data removed]",
      "text/plain": [
       "<Figure size 432x288 with 1 Axes>"
      ]
     },
     "metadata": {
      "needs_background": "light"
     },
     "output_type": "display_data"
    }
   ],
   "source": [
    "fig, ax = plt.subplots()\n",
    "\n",
    "ax.scatter(x,y)\n",
    "\n",
    "plt.show()\n",
    "plt.close()"
   ]
  },
  {
   "cell_type": "markdown",
   "metadata": {},
   "source": [
    "Ok now lets see what happens when I use the Poly Features and transform x"
   ]
  },
  {
   "cell_type": "code",
   "execution_count": 32,
   "metadata": {},
   "outputs": [],
   "source": [
    "# create new feature matrix of higher degree\n",
    "x_poly = PolynomialFeatures(degree=2).fit_transform(x)"
   ]
  },
  {
   "cell_type": "code",
   "execution_count": 33,
   "metadata": {},
   "outputs": [
    {
     "data": {
      "text/plain": [
       "(50, 3)"
      ]
     },
     "execution_count": 33,
     "metadata": {},
     "output_type": "execute_result"
    }
   ],
   "source": [
    "x_poly.shape"
   ]
  },
  {
   "cell_type": "code",
   "execution_count": 34,
   "metadata": {},
   "outputs": [
    {
     "data": {
      "text/plain": [
       "array([[ 1.        , -3.29215704, 10.83829796]])"
      ]
     },
     "execution_count": 34,
     "metadata": {},
     "output_type": "execute_result"
    }
   ],
   "source": [
    "x_poly[:1]"
   ]
  },
  {
   "cell_type": "code",
   "execution_count": 35,
   "metadata": {},
   "outputs": [
    {
     "data": {
      "text/plain": [
       "array([[-3.29215704]])"
      ]
     },
     "execution_count": 35,
     "metadata": {},
     "output_type": "execute_result"
    }
   ],
   "source": [
    "x[:1]"
   ]
  },
  {
   "cell_type": "markdown",
   "metadata": {},
   "source": [
    "This makes sense its just transforming the input vector to include more features of defined polynomial\n",
    "\n",
    "Because we input degree=2 into the Poly Features method our new feature vector now has our original x and the x*x value since our new model went from\n",
    "\n",
    "$y = \\beta_{0} + \\beta_{1}x$ \n",
    "\n",
    "to\n",
    "\n",
    "$y = \\beta_{0} + \\beta_{1}x + \\beta_{2}x*x$\n",
    "\n",
    "which is the same as\n",
    "\n",
    "$y = \\beta_{0} + \\beta_{1}x + \\beta_{2}x^2$\n",
    "\n"
   ]
  },
  {
   "cell_type": "markdown",
   "metadata": {},
   "source": [
    "Remember the $\\beta_{n}$ are the coeffecients, that is what we are trying to predict/model/find, the x values are our features\n",
    "\n",
    "\n",
    "Now I want to see how the regression line changes from degree to degree and plot all the points. Regression lines find the line of best i.e. They try to minimize the error between points, so I want to see how the data 'pulls' the line into a line of better fit. Lets see"
   ]
  },
  {
   "cell_type": "code",
   "execution_count": 36,
   "metadata": {},
   "outputs": [],
   "source": [
    "x_poly = PolynomialFeatures(degree=2).fit_transform(x)\n",
    "model.fit(x_poly,y)\n",
    "pred = model.predict(x_poly)\n",
    "\n",
    "x_poly2 = PolynomialFeatures(degree=3).fit_transform(x)\n",
    "model.fit(x_poly2,y)\n",
    "pred2 = model.predict(x_poly2)"
   ]
  },
  {
   "cell_type": "code",
   "execution_count": 37,
   "metadata": {},
   "outputs": [],
   "source": [
    "# lets create the x values of the features x, x*x and x*x*x\n",
    "test1 = [x[1] for x in x_poly2[:]]\n",
    "test2 = [x[2] for x in x_poly2[:]]\n",
    "test3 = [x[3] for x in x_poly2[:]]"
   ]
  },
  {
   "cell_type": "code",
   "execution_count": 38,
   "metadata": {},
   "outputs": [
    {
     "data": {
      "image/png": "[encoded data removed]",
      "text/plain": [
       "<Figure size 1080x864 with 2 Axes>"
      ]
     },
     "metadata": {
      "needs_background": "light"
     },
     "output_type": "display_data"
    }
   ],
   "source": [
    "fig, (ax, ax2) = plt.subplots(2,1,figsize=(15,12))\n",
    "\n",
    "ax.scatter(test1, y, color='g')\n",
    "ax.scatter(test2, y, color='m')\n",
    "ax.set_title(\"2nd Degree Poly\")\n",
    "\n",
    "ax2.scatter(test1, y, color='g')\n",
    "ax2.scatter(test2, y, color='m')\n",
    "ax2.scatter(test3, y, color='grey')\n",
    "ax2.set_title(\"3rd Degree Poly\")\n",
    "\n",
    "ax2.set_xlim(-30, 100)\n",
    "\n",
    "plt.show()\n",
    "plt.close()"
   ]
  },
  {
   "cell_type": "markdown",
   "metadata": {},
   "source": [
    "Neat so we have all the points plotted on a graph and can see the original data points in green. \n",
    "\n",
    "2nd degree poly data points (x*x) are in maroon and 3rd degree data points are in grey (x*x*x)\n",
    "\n",
    "You can start to visualize where the regression line will be by looking at the data sets and trying to find a line of best fit. Each data point in each set will try to 'pull' the line in that direction so as to minimize error.\n",
    "\n",
    "If we have only have the x*x term then the line is a quadratic and will look like an parabola, so you can try to visualize where the best fit parabola would go in the top graph.\n",
    "\n",
    "\n",
    "Lets plot the line now to check it out."
   ]
  },
  {
   "cell_type": "code",
   "execution_count": 39,
   "metadata": {},
   "outputs": [
    {
     "data": {
      "image/png": "[encoded data removed]",
      "text/plain": [
       "<Figure size 1080x1080 with 2 Axes>"
      ]
     },
     "metadata": {
      "needs_background": "light"
     },
     "output_type": "display_data"
    }
   ],
   "source": [
    "# plot\n",
    "fig, (ax,ax2) = plt.subplots(2,1, figsize=(15,15))\n",
    "\n",
    "ax.scatter(x,y, color='g')\n",
    "ax.scatter(test2, y, color='m')\n",
    "# sort the values of x before line plot\n",
    "sort_axis = operator.itemgetter(0)\n",
    "sorted_zip = sorted(zip(x,pred), key=sort_axis)\n",
    "x_, pred_ = zip(*sorted_zip)\n",
    "ax.plot(x_, pred_, color='r')\n",
    "ax.set_xlim(-30, 100)\n",
    "ax.set_title(\"2nd Degree Poly w/ Reg Line\")\n",
    "\n",
    "ax2.scatter(x,y, color='g')\n",
    "ax2.scatter(test2, y, color='m')\n",
    "ax2.scatter(test3, y, color='grey')\n",
    "# sort the values of x before line plot\n",
    "sort_axis = operator.itemgetter(0)\n",
    "sorted_zip = sorted(zip(x,pred2), key=sort_axis)\n",
    "x_, pred_ = zip(*sorted_zip)\n",
    "ax2.plot(x_, pred_, color='r')\n",
    "ax2.set_xlim(-30, 100)\n",
    "ax2.set_title(\"3rd Degree Poly w/ Reg Line\")\n",
    "\n",
    "plt.show()\n",
    "plt.close()"
   ]
  },
  {
   "cell_type": "code",
   "execution_count": null,
   "metadata": {},
   "outputs": [],
   "source": []
  }
 ],
 "metadata": {
  "kernelspec": {
   "display_name": "Python 3",
   "language": "python",
   "name": "python3"
  },
  "language_info": {
   "codemirror_mode": {
    "name": "ipython",
    "version": 3
   },
   "file_extension": ".py",
   "mimetype": "text/x-python",
   "name": "python",
   "nbconvert_exporter": "python",
   "pygments_lexer": "ipython3",
   "version": "3.7.7"
  }
 },
 "nbformat": 4,
 "nbformat_minor": 4
}
