{
 "cells": [
  {
   "cell_type": "code",
   "execution_count": 1,
   "id": "b34915e2-775b-4a73-bf8f-2f1f9fab528c",
   "metadata": {},
   "outputs": [],
   "source": [
    "import numpy as np\n",
    "import scipy\n",
    "import sklearn\n",
    "import matplotlib\n",
    "import pandas as pd\n",
    "import seaborn as sns\n",
    "import matplotlib.pyplot as plt\n",
    "import patsy\n",
    "\n",
    "import scipy.stats as stats\n",
    "import numpy.random as random\n",
    "from tabulate import tabulate\n",
    "\n",
    "import helper"
   ]
  },
  {
   "cell_type": "code",
   "execution_count": 2,
   "id": "a5679749-51b6-4e23-9515-1497118336a3",
   "metadata": {},
   "outputs": [
    {
     "name": "stdout",
     "output_type": "stream",
     "text": [
      "numpy==1.20.3\n",
      "scipy==1.7.1\n",
      "sklearn==0.23.2\n",
      "matplotlib==3.3.3\n",
      "pandas==1.2.2\n",
      "seaborn==0.11.1\n",
      "patsy==0.5.1\n"
     ]
    }
   ],
   "source": [
    "# get package and versions\n",
    "print('\\n'.join(f'{m.__name__}=={m.__version__}' for m in globals().values() if getattr(m, '__version__', None)))"
   ]
  },
  {
   "cell_type": "code",
   "execution_count": 3,
   "id": "4a3ecfb7-f2e2-47fe-ac78-bde5fe2fb4c2",
   "metadata": {},
   "outputs": [],
   "source": [
    "%matplotlib inline"
   ]
  },
  {
   "cell_type": "code",
   "execution_count": 4,
   "id": "2ad8764d-14b3-4c18-9ee0-c40063096d5d",
   "metadata": {},
   "outputs": [],
   "source": [
    "# https://www.kaggle.com/andrewmvd/heart-failure-clinical-data\n",
    "df = pd.read_csv('heart_failure_clinical_records_dataset.csv')"
   ]
  },
  {
   "cell_type": "code",
   "execution_count": 5,
   "id": "b644f37e-a794-4f84-b7e5-e2b6be29e7a6",
   "metadata": {},
   "outputs": [
    {
     "name": "stdout",
     "output_type": "stream",
     "text": [
      "<class 'pandas.core.frame.DataFrame'>\n",
      "RangeIndex: 299 entries, 0 to 298\n",
      "Data columns (total 13 columns):\n",
      " #   Column                    Non-Null Count  Dtype  \n",
      "---  ------                    --------------  -----  \n",
      " 0   age                       299 non-null    float64\n",
      " 1   anaemia                   299 non-null    int64  \n",
      " 2   creatinine_phosphokinase  299 non-null    int64  \n",
      " 3   diabetes                  299 non-null    int64  \n",
      " 4   ejection_fraction         299 non-null    int64  \n",
      " 5   high_blood_pressure       299 non-null    int64  \n",
      " 6   platelets                 299 non-null    float64\n",
      " 7   serum_creatinine          299 non-null    float64\n",
      " 8   serum_sodium              299 non-null    int64  \n",
      " 9   sex                       299 non-null    int64  \n",
      " 10  smoking                   299 non-null    int64  \n",
      " 11  time                      299 non-null    int64  \n",
      " 12  DEATH_EVENT               299 non-null    int64  \n",
      "dtypes: float64(3), int64(10)\n",
      "memory usage: 30.5 KB\n"
     ]
    }
   ],
   "source": [
    "df.info()"
   ]
  },
  {
   "cell_type": "code",
   "execution_count": 6,
   "id": "d36c52f2-d437-44e5-85fe-bdde042ed927",
   "metadata": {},
   "outputs": [
    {
     "data": {
      "text/html": [
       "<div>\n",
       "<style scoped>\n",
       "    .dataframe tbody tr th:only-of-type {\n",
       "        vertical-align: middle;\n",
       "    }\n",
       "\n",
       "    .dataframe tbody tr th {\n",
       "        vertical-align: top;\n",
       "    }\n",
       "\n",
       "    .dataframe thead th {\n",
       "        text-align: right;\n",
       "    }\n",
       "</style>\n",
       "<table border=\"1\" class=\"dataframe\">\n",
       "  <thead>\n",
       "    <tr style=\"text-align: right;\">\n",
       "      <th></th>\n",
       "      <th>age</th>\n",
       "      <th>anaemia</th>\n",
       "      <th>creatinine_phosphokinase</th>\n",
       "      <th>diabetes</th>\n",
       "      <th>ejection_fraction</th>\n",
       "      <th>high_blood_pressure</th>\n",
       "      <th>platelets</th>\n",
       "      <th>serum_creatinine</th>\n",
       "      <th>serum_sodium</th>\n",
       "      <th>sex</th>\n",
       "      <th>smoking</th>\n",
       "      <th>time</th>\n",
       "      <th>DEATH_EVENT</th>\n",
       "    </tr>\n",
       "  </thead>\n",
       "  <tbody>\n",
       "    <tr>\n",
       "      <th>count</th>\n",
       "      <td>299.000000</td>\n",
       "      <td>299.000000</td>\n",
       "      <td>299.000000</td>\n",
       "      <td>299.000000</td>\n",
       "      <td>299.000000</td>\n",
       "      <td>299.000000</td>\n",
       "      <td>299.000000</td>\n",
       "      <td>299.00000</td>\n",
       "      <td>299.000000</td>\n",
       "      <td>299.000000</td>\n",
       "      <td>299.00000</td>\n",
       "      <td>299.000000</td>\n",
       "      <td>299.00000</td>\n",
       "    </tr>\n",
       "    <tr>\n",
       "      <th>mean</th>\n",
       "      <td>60.833893</td>\n",
       "      <td>0.431438</td>\n",
       "      <td>581.839465</td>\n",
       "      <td>0.418060</td>\n",
       "      <td>38.083612</td>\n",
       "      <td>0.351171</td>\n",
       "      <td>263358.029264</td>\n",
       "      <td>1.39388</td>\n",
       "      <td>136.625418</td>\n",
       "      <td>0.648829</td>\n",
       "      <td>0.32107</td>\n",
       "      <td>130.260870</td>\n",
       "      <td>0.32107</td>\n",
       "    </tr>\n",
       "    <tr>\n",
       "      <th>std</th>\n",
       "      <td>11.894809</td>\n",
       "      <td>0.496107</td>\n",
       "      <td>970.287881</td>\n",
       "      <td>0.494067</td>\n",
       "      <td>11.834841</td>\n",
       "      <td>0.478136</td>\n",
       "      <td>97804.236869</td>\n",
       "      <td>1.03451</td>\n",
       "      <td>4.412477</td>\n",
       "      <td>0.478136</td>\n",
       "      <td>0.46767</td>\n",
       "      <td>77.614208</td>\n",
       "      <td>0.46767</td>\n",
       "    </tr>\n",
       "    <tr>\n",
       "      <th>min</th>\n",
       "      <td>40.000000</td>\n",
       "      <td>0.000000</td>\n",
       "      <td>23.000000</td>\n",
       "      <td>0.000000</td>\n",
       "      <td>14.000000</td>\n",
       "      <td>0.000000</td>\n",
       "      <td>25100.000000</td>\n",
       "      <td>0.50000</td>\n",
       "      <td>113.000000</td>\n",
       "      <td>0.000000</td>\n",
       "      <td>0.00000</td>\n",
       "      <td>4.000000</td>\n",
       "      <td>0.00000</td>\n",
       "    </tr>\n",
       "    <tr>\n",
       "      <th>25%</th>\n",
       "      <td>51.000000</td>\n",
       "      <td>0.000000</td>\n",
       "      <td>116.500000</td>\n",
       "      <td>0.000000</td>\n",
       "      <td>30.000000</td>\n",
       "      <td>0.000000</td>\n",
       "      <td>212500.000000</td>\n",
       "      <td>0.90000</td>\n",
       "      <td>134.000000</td>\n",
       "      <td>0.000000</td>\n",
       "      <td>0.00000</td>\n",
       "      <td>73.000000</td>\n",
       "      <td>0.00000</td>\n",
       "    </tr>\n",
       "    <tr>\n",
       "      <th>50%</th>\n",
       "      <td>60.000000</td>\n",
       "      <td>0.000000</td>\n",
       "      <td>250.000000</td>\n",
       "      <td>0.000000</td>\n",
       "      <td>38.000000</td>\n",
       "      <td>0.000000</td>\n",
       "      <td>262000.000000</td>\n",
       "      <td>1.10000</td>\n",
       "      <td>137.000000</td>\n",
       "      <td>1.000000</td>\n",
       "      <td>0.00000</td>\n",
       "      <td>115.000000</td>\n",
       "      <td>0.00000</td>\n",
       "    </tr>\n",
       "    <tr>\n",
       "      <th>75%</th>\n",
       "      <td>70.000000</td>\n",
       "      <td>1.000000</td>\n",
       "      <td>582.000000</td>\n",
       "      <td>1.000000</td>\n",
       "      <td>45.000000</td>\n",
       "      <td>1.000000</td>\n",
       "      <td>303500.000000</td>\n",
       "      <td>1.40000</td>\n",
       "      <td>140.000000</td>\n",
       "      <td>1.000000</td>\n",
       "      <td>1.00000</td>\n",
       "      <td>203.000000</td>\n",
       "      <td>1.00000</td>\n",
       "    </tr>\n",
       "    <tr>\n",
       "      <th>max</th>\n",
       "      <td>95.000000</td>\n",
       "      <td>1.000000</td>\n",
       "      <td>7861.000000</td>\n",
       "      <td>1.000000</td>\n",
       "      <td>80.000000</td>\n",
       "      <td>1.000000</td>\n",
       "      <td>850000.000000</td>\n",
       "      <td>9.40000</td>\n",
       "      <td>148.000000</td>\n",
       "      <td>1.000000</td>\n",
       "      <td>1.00000</td>\n",
       "      <td>285.000000</td>\n",
       "      <td>1.00000</td>\n",
       "    </tr>\n",
       "  </tbody>\n",
       "</table>\n",
       "</div>"
      ],
      "text/plain": [
       "              age     anaemia  creatinine_phosphokinase    diabetes  \\\n",
       "count  299.000000  299.000000                299.000000  299.000000   \n",
       "mean    60.833893    0.431438                581.839465    0.418060   \n",
       "std     11.894809    0.496107                970.287881    0.494067   \n",
       "min     40.000000    0.000000                 23.000000    0.000000   \n",
       "25%     51.000000    0.000000                116.500000    0.000000   \n",
       "50%     60.000000    0.000000                250.000000    0.000000   \n",
       "75%     70.000000    1.000000                582.000000    1.000000   \n",
       "max     95.000000    1.000000               7861.000000    1.000000   \n",
       "\n",
       "       ejection_fraction  high_blood_pressure      platelets  \\\n",
       "count         299.000000           299.000000     299.000000   \n",
       "mean           38.083612             0.351171  263358.029264   \n",
       "std            11.834841             0.478136   97804.236869   \n",
       "min            14.000000             0.000000   25100.000000   \n",
       "25%            30.000000             0.000000  212500.000000   \n",
       "50%            38.000000             0.000000  262000.000000   \n",
       "75%            45.000000             1.000000  303500.000000   \n",
       "max            80.000000             1.000000  850000.000000   \n",
       "\n",
       "       serum_creatinine  serum_sodium         sex    smoking        time  \\\n",
       "count         299.00000    299.000000  299.000000  299.00000  299.000000   \n",
       "mean            1.39388    136.625418    0.648829    0.32107  130.260870   \n",
       "std             1.03451      4.412477    0.478136    0.46767   77.614208   \n",
       "min             0.50000    113.000000    0.000000    0.00000    4.000000   \n",
       "25%             0.90000    134.000000    0.000000    0.00000   73.000000   \n",
       "50%             1.10000    137.000000    1.000000    0.00000  115.000000   \n",
       "75%             1.40000    140.000000    1.000000    1.00000  203.000000   \n",
       "max             9.40000    148.000000    1.000000    1.00000  285.000000   \n",
       "\n",
       "       DEATH_EVENT  \n",
       "count    299.00000  \n",
       "mean       0.32107  \n",
       "std        0.46767  \n",
       "min        0.00000  \n",
       "25%        0.00000  \n",
       "50%        0.00000  \n",
       "75%        1.00000  \n",
       "max        1.00000  "
      ]
     },
     "execution_count": 6,
     "metadata": {},
     "output_type": "execute_result"
    }
   ],
   "source": [
    "df.describe()"
   ]
  },
  {
   "cell_type": "markdown",
   "id": "d07d494a-2ee3-4e7b-829f-e82a44fe3ba1",
   "metadata": {},
   "source": [
    "# EDA"
   ]
  },
  {
   "cell_type": "markdown",
   "id": "6a896bf2-371e-4501-afd3-c1015966ad22",
   "metadata": {},
   "source": [
    "### Single Variable"
   ]
  },
  {
   "cell_type": "code",
   "execution_count": 7,
   "id": "74655c5e-450c-4c46-8d06-950dd54b042a",
   "metadata": {},
   "outputs": [],
   "source": [
    "def outliers(df, col):\n",
    "\n",
    "    Q1 = df[col].quantile(0.25)\n",
    "    Q3 = df[col].quantile(0.75)\n",
    "    IQR = Q3 - Q1\n",
    "\n",
    "    lower = Q1 - 1.5 * IQR\n",
    "    upper = Q3 + 1.5 * IQR\n",
    "    \n",
    "    return lower, upper"
   ]
  },
  {
   "cell_type": "code",
   "execution_count": 8,
   "id": "f0c3c1ca-6c41-48b0-87ef-98d083b10b02",
   "metadata": {},
   "outputs": [],
   "source": [
    "def remove_outliers(df, col, cond):\n",
    "    \n",
    "    # get upper and lower bound\n",
    "    lower, upper = outliers(df, col)\n",
    "    \n",
    "    # diff before\n",
    "    diff_before = df[(df[col] > upper) | (df[col] < lower)].shape[0]\n",
    "    \n",
    "    # rows before\n",
    "    rows_before = df[col].shape[0]\n",
    "\n",
    "    # filter\n",
    "    df = df[(df[col] <= upper) & (df[col] >= lower)].copy()\n",
    "    \n",
    "    # rows after\n",
    "    rows_after = df[col].shape[0]\n",
    "    \n",
    "    # rows removed\n",
    "    diff_after = rows_before - rows_after\n",
    "    assert (diff_after == diff_before), 'Diffs do not match!'\n",
    "    \n",
    "    return df, diff_after\n",
    "    \n",
    "\n",
    "def print_outlier_diff(df, df2, col):\n",
    "    # print diff\n",
    "    fig, (ax1, ax2) = plt.subplots(1,2, figsize=(12,4))\n",
    "\n",
    "    ax1.boxplot(df[col])\n",
    "    ax1.set_title(\"Original\")\n",
    "\n",
    "    ax2.boxplot(df2[col])\n",
    "    ax2.set_title(\"Outliers Removed\")\n",
    "\n",
    "    plt.show()\n",
    "    plt.close()\n",
    "\n",
    "    \n",
    "def outlier_stats(df, df2, col):\n",
    "    headers = ['Metric','Original', 'Filtered', '% Diff']\n",
    "    stats = [['Mean',df[col].mean(), df2[col].mean(), df2[col].mean()/df[col].mean() - 1],\n",
    "             ['Stdev',df[col].std(), df2[col].std(), df2[col].std()/df[col].std() - 1]]\n",
    "    \n",
    "    return stats, headers"
   ]
  },
  {
   "cell_type": "code",
   "execution_count": 9,
   "id": "5ee9475c-9ac9-435b-908c-f771b41df4f7",
   "metadata": {},
   "outputs": [],
   "source": [
    "def single_hist(data, col, bins=10, level='95'):\n",
    "    fig, ax1 = plt.subplots(figsize=(15,8))\n",
    "    mean = np.mean(data[col])\n",
    "    median = np.median(data[col])    \n",
    "    \n",
    "    ax1.hist(data[col], density=True, alpha=0.8, bins=bins)\n",
    "    ax1.axvline(mean, color='red')\n",
    "    ax1.axvline(median, color='orange')\n",
    "    if level == '99':\n",
    "        lower_bound = stats.mstats.mquantiles(data[col], [0.1, 0.99])[0]\n",
    "        upper_bound = stats.mstats.mquantiles(data[col], [0.1, 0.99])[1]\n",
    "    elif level == '95':\n",
    "        lower_bound = stats.mstats.mquantiles(data[col], [0.25, 0.975])[0]\n",
    "        upper_bound = stats.mstats.mquantiles(data[col], [0.25, 0.975])[1]\n",
    "    elif level == 'IQR':\n",
    "        lower_bound, upper_bound = outliers(data, col)\n",
    "    else:\n",
    "        print(\"use a higher level\")\n",
    "    \n",
    "    \n",
    "    #ax1.axvline(, color='gold')\n",
    "    #ax1.axvline(,  color='gold')\n",
    "    ax1.axvspan(lower_bound, upper_bound, color='gold', alpha=0.15)\n",
    "    ax1.set_title(col)\n",
    "        \n",
    "    plt.show()\n",
    "    plt.close()"
   ]
  },
  {
   "cell_type": "code",
   "execution_count": 10,
   "id": "298edf7d-b936-4e8c-8a1e-fe532098e94d",
   "metadata": {},
   "outputs": [],
   "source": [
    "def histos(data, cols):\n",
    "    \n",
    "    features = len(cols)\n",
    "    \n",
    "    rows = features // 3\n",
    "    \n",
    "    for x in range(rows):\n",
    "        \n",
    "        fig, (ax1, ax2, ax3) = plt.subplots(1,3, figsize=(20, rows))\n",
    "        \n",
    "        num = x*3\n",
    "        g = data[cols[num]]\n",
    "        mean = np.mean(g)\n",
    "        lower_bound, upper_bound = outliers(data, cols[num])\n",
    "        ax1.hist(data[cols[num]], density=True, alpha=0.8)\n",
    "        ax1.axvspan(lower_bound, upper_bound, color='gold', alpha=0.1)\n",
    "        ax1.axvline(mean, color='red')\n",
    "        ax1.set_title(cols[num])\n",
    "        \n",
    "        num += 1\n",
    "        g = data[cols[num]]\n",
    "        mean = np.mean(g)\n",
    "        lower_bound, upper_bound = outliers(data, cols[num])\n",
    "        ax2.hist(data[cols[num]], density=True, alpha=0.8)\n",
    "        ax2.axvspan(lower_bound, upper_bound, color='gold', alpha=0.1)\n",
    "        ax2.set_title(cols[num])\n",
    "        ax2.axvline(mean, color='red')\n",
    "        \n",
    "        num += 1\n",
    "        g = data[cols[num]]\n",
    "        mean = np.mean(g)\n",
    "        lower_bound, upper_bound = outliers(data, cols[num])\n",
    "        ax3.hist(data[cols[num]], density=True, alpha=0.8)\n",
    "        ax3.axvspan(lower_bound, upper_bound, color='gold', alpha=0.1)\n",
    "        ax3.set_title(cols[num])\n",
    "        ax3.axvline(mean, color='red')\n",
    "    \n",
    "    plt.show()\n",
    "    plt.close()"
   ]
  },
  {
   "cell_type": "code",
   "execution_count": 11,
   "id": "1871cfd8-4c36-46b2-9393-8b4db7b340f8",
   "metadata": {},
   "outputs": [],
   "source": [
    "def boxes(data, cols):\n",
    "    features = len(cols)\n",
    "    \n",
    "    rows = features // 3\n",
    "    \n",
    "    for x in range(rows):\n",
    "        fig, (ax1, ax2, ax3) = plt.subplots(1,3, figsize=(20, rows))\n",
    "        \n",
    "        num = x*3\n",
    "        g = data[cols[num]]\n",
    "        mean = np.mean(g)\n",
    "        ax1.boxplot(data[cols[num]])\n",
    "        ax1.set_title(cols[num])\n",
    "        \n",
    "        num += 1\n",
    "        g = data[cols[num]]\n",
    "        mean = np.mean(g)\n",
    "        ax2.boxplot(data[cols[num]])\n",
    "        ax2.set_title(cols[num])\n",
    "        \n",
    "        num += 1\n",
    "        g = data[cols[num]]\n",
    "        mean = np.mean(g)\n",
    "        ax3.boxplot(data[cols[num]])\n",
    "        ax3.set_title(cols[num])\n",
    "    \n",
    "    plt.show()\n",
    "    plt.close()"
   ]
  },
  {
   "cell_type": "code",
   "execution_count": 12,
   "id": "9622f6b1-69b3-4395-b5aa-b3978c11c2e6",
   "metadata": {},
   "outputs": [],
   "source": [
    "cols = df.keys()\n",
    "cols = cols.drop('DEATH_EVENT')\n",
    "\n",
    "cols = list(cols)"
   ]
  },
  {
   "cell_type": "code",
   "execution_count": 13,
   "id": "73abbcee-c483-461f-b023-122c63f99245",
   "metadata": {},
   "outputs": [
    {
     "data": {
      "image/png": "[encoded data removed]",
      "text/plain": [
       "<Figure size 1440x288 with 3 Axes>"
      ]
     },
     "metadata": {
      "needs_background": "light"
     },
     "output_type": "display_data"
    },
    {
     "data": {
      "image/png": "[encoded data removed]",
      "text/plain": [
       "<Figure size 1440x288 with 3 Axes>"
      ]
     },
     "metadata": {
      "needs_background": "light"
     },
     "output_type": "display_data"
    },
    {
     "data": {
      "image/png": "[encoded data removed]",
      "text/plain": [
       "<Figure size 1440x288 with 3 Axes>"
      ]
     },
     "metadata": {
      "needs_background": "light"
     },
     "output_type": "display_data"
    },
    {
     "data": {
      "image/png": "[encoded data removed]",
      "text/plain": [
       "<Figure size 1440x288 with 3 Axes>"
      ]
     },
     "metadata": {
      "needs_background": "light"
     },
     "output_type": "display_data"
    }
   ],
   "source": [
    "histos(df,cols)"
   ]
  },
  {
   "cell_type": "code",
   "execution_count": 14,
   "id": "75ff53ce-f3a5-4d78-95ca-a1b6ab02e686",
   "metadata": {},
   "outputs": [
    {
     "data": {
      "image/png": "[encoded data removed]",
      "text/plain": [
       "<Figure size 1440x288 with 3 Axes>"
      ]
     },
     "metadata": {
      "needs_background": "light"
     },
     "output_type": "display_data"
    },
    {
     "data": {
      "image/png": "[encoded data removed]",
      "text/plain": [
       "<Figure size 1440x288 with 3 Axes>"
      ]
     },
     "metadata": {
      "needs_background": "light"
     },
     "output_type": "display_data"
    },
    {
     "data": {
      "image/png": "[encoded data removed]",
      "text/plain": [
       "<Figure size 1440x288 with 3 Axes>"
      ]
     },
     "metadata": {
      "needs_background": "light"
     },
     "output_type": "display_data"
    },
    {
     "data": {
      "image/png": "[encoded data removed]",
      "text/plain": [
       "<Figure size 1440x288 with 3 Axes>"
      ]
     },
     "metadata": {
      "needs_background": "light"
     },
     "output_type": "display_data"
    }
   ],
   "source": [
    "boxes(df, cols)"
   ]
  },
  {
   "cell_type": "markdown",
   "id": "5b1ead2a-bcf2-48ed-8a65-e96ffeed256c",
   "metadata": {},
   "source": [
    "I only see outliers in the biomarkers\n",
    "\n",
    "Note: matplotlib boxplot whiskers only go do highest/lowest data point and do not extend to the full range (Q1/3 $\\pm$ 1.5*IRQ)"
   ]
  },
  {
   "cell_type": "markdown",
   "id": "057bb96f-5e33-49b2-a59e-2f916e6771be",
   "metadata": {},
   "source": [
    "we see some variables are only binary/categorical lets define those groups and look at an outlier graph"
   ]
  },
  {
   "cell_type": "code",
   "execution_count": 15,
   "id": "36620dbb-c94d-4813-a705-614594c6b568",
   "metadata": {},
   "outputs": [],
   "source": [
    "# create variable for category variables\n",
    "cols_cat = ['anaemia', 'diabetes','high_blood_pressure', 'sex', 'smoking']"
   ]
  },
  {
   "cell_type": "code",
   "execution_count": 16,
   "id": "c3e6d97f-591f-4112-93d4-e5a68a7c6085",
   "metadata": {},
   "outputs": [],
   "source": [
    "# create variable for numeric\n",
    "cols_num = [x for x in cols if x not in cols_cat]"
   ]
  },
  {
   "cell_type": "code",
   "execution_count": 17,
   "id": "42674f08-21cf-446f-ba47-bcb4f483cc5e",
   "metadata": {},
   "outputs": [
    {
     "data": {
      "text/html": [
       "<div>\n",
       "<style scoped>\n",
       "    .dataframe tbody tr th:only-of-type {\n",
       "        vertical-align: middle;\n",
       "    }\n",
       "\n",
       "    .dataframe tbody tr th {\n",
       "        vertical-align: top;\n",
       "    }\n",
       "\n",
       "    .dataframe thead th {\n",
       "        text-align: right;\n",
       "    }\n",
       "</style>\n",
       "<table border=\"1\" class=\"dataframe\">\n",
       "  <thead>\n",
       "    <tr style=\"text-align: right;\">\n",
       "      <th></th>\n",
       "      <th>serum_creatinine</th>\n",
       "    </tr>\n",
       "  </thead>\n",
       "  <tbody>\n",
       "    <tr>\n",
       "      <th>count</th>\n",
       "      <td>299.00000</td>\n",
       "    </tr>\n",
       "    <tr>\n",
       "      <th>mean</th>\n",
       "      <td>1.39388</td>\n",
       "    </tr>\n",
       "    <tr>\n",
       "      <th>std</th>\n",
       "      <td>1.03451</td>\n",
       "    </tr>\n",
       "    <tr>\n",
       "      <th>min</th>\n",
       "      <td>0.50000</td>\n",
       "    </tr>\n",
       "    <tr>\n",
       "      <th>25%</th>\n",
       "      <td>0.90000</td>\n",
       "    </tr>\n",
       "    <tr>\n",
       "      <th>50%</th>\n",
       "      <td>1.10000</td>\n",
       "    </tr>\n",
       "    <tr>\n",
       "      <th>75%</th>\n",
       "      <td>1.40000</td>\n",
       "    </tr>\n",
       "    <tr>\n",
       "      <th>max</th>\n",
       "      <td>9.40000</td>\n",
       "    </tr>\n",
       "  </tbody>\n",
       "</table>\n",
       "</div>"
      ],
      "text/plain": [
       "       serum_creatinine\n",
       "count         299.00000\n",
       "mean            1.39388\n",
       "std             1.03451\n",
       "min             0.50000\n",
       "25%             0.90000\n",
       "50%             1.10000\n",
       "75%             1.40000\n",
       "max             9.40000"
      ]
     },
     "execution_count": 17,
     "metadata": {},
     "output_type": "execute_result"
    }
   ],
   "source": [
    "df.serum_creatinine.describe().to_frame()"
   ]
  },
  {
   "cell_type": "code",
   "execution_count": 18,
   "id": "01e1882d-7f59-4f1e-8011-6a2367b57d9c",
   "metadata": {},
   "outputs": [
    {
     "data": {
      "image/png": "[encoded data removed]",
      "text/plain": [
       "<Figure size 1080x576 with 1 Axes>"
      ]
     },
     "metadata": {
      "needs_background": "light"
     },
     "output_type": "display_data"
    }
   ],
   "source": [
    "single_hist(df, 'serum_creatinine', bins=30, level='IQR')"
   ]
  },
  {
   "cell_type": "code",
   "execution_count": 19,
   "id": "b2473c54-b561-43a6-aab9-30aff5559af3",
   "metadata": {},
   "outputs": [],
   "source": [
    "lower1, upper1 = outliers(df, 'serum_creatinine')\n",
    "lower2, upper2 = outliers(df, 'creatinine_phosphokinase')\n",
    "lower3, upper3 = outliers(df, 'serum_sodium')"
   ]
  },
  {
   "cell_type": "code",
   "execution_count": 20,
   "id": "88d0e32b-fd85-4c7e-a900-ce30a3c31d85",
   "metadata": {
    "tags": []
   },
   "outputs": [],
   "source": [
    "cond1 = ((df['serum_creatinine'] > upper1) | (df['serum_creatinine'] < lower1))\n",
    "cond2 = ((df['creatinine_phosphokinase'] > upper2) | (df['creatinine_phosphokinase'] < lower2))\n",
    "cond3 = ((df['serum_sodium'] > upper3) | (df['serum_sodium'] < lower3))"
   ]
  },
  {
   "cell_type": "code",
   "execution_count": 21,
   "id": "e5b4e4ae-320c-436d-bce3-e66d6b0ed828",
   "metadata": {},
   "outputs": [
    {
     "name": "stdout",
     "output_type": "stream",
     "text": [
      "29\n",
      "2\n",
      "0\n"
     ]
    }
   ],
   "source": [
    "print(df[cond1].shape[0])\n",
    "print(df[cond1 & cond2].shape[0])\n",
    "print(df[cond1 & cond2 & cond3].shape[0])"
   ]
  },
  {
   "cell_type": "markdown",
   "id": "553bf98f-5652-45a7-a396-747d33841489",
   "metadata": {},
   "source": [
    "Interesting, there are 2 records of the 29 where they match outlieres in other variables. Lets take a look"
   ]
  },
  {
   "cell_type": "code",
   "execution_count": 22,
   "id": "426466d2-2d00-4cf7-a9bf-8b301555458a",
   "metadata": {},
   "outputs": [
    {
     "data": {
      "text/html": [
       "<div>\n",
       "<style scoped>\n",
       "    .dataframe tbody tr th:only-of-type {\n",
       "        vertical-align: middle;\n",
       "    }\n",
       "\n",
       "    .dataframe tbody tr th {\n",
       "        vertical-align: top;\n",
       "    }\n",
       "\n",
       "    .dataframe thead th {\n",
       "        text-align: right;\n",
       "    }\n",
       "</style>\n",
       "<table border=\"1\" class=\"dataframe\">\n",
       "  <thead>\n",
       "    <tr style=\"text-align: right;\">\n",
       "      <th></th>\n",
       "      <th>age</th>\n",
       "      <th>anaemia</th>\n",
       "      <th>creatinine_phosphokinase</th>\n",
       "      <th>diabetes</th>\n",
       "      <th>ejection_fraction</th>\n",
       "      <th>high_blood_pressure</th>\n",
       "      <th>platelets</th>\n",
       "      <th>serum_creatinine</th>\n",
       "      <th>serum_sodium</th>\n",
       "      <th>sex</th>\n",
       "      <th>smoking</th>\n",
       "      <th>time</th>\n",
       "      <th>DEATH_EVENT</th>\n",
       "    </tr>\n",
       "  </thead>\n",
       "  <tbody>\n",
       "  </tbody>\n",
       "</table>\n",
       "</div>"
      ],
      "text/plain": [
       "Empty DataFrame\n",
       "Columns: [age, anaemia, creatinine_phosphokinase, diabetes, ejection_fraction, high_blood_pressure, platelets, serum_creatinine, serum_sodium, sex, smoking, time, DEATH_EVENT]\n",
       "Index: []"
      ]
     },
     "execution_count": 22,
     "metadata": {},
     "output_type": "execute_result"
    }
   ],
   "source": [
    "# get lower values\n",
    "df[df['serum_creatinine'] < lower1]"
   ]
  },
  {
   "cell_type": "code",
   "execution_count": 23,
   "id": "a1a4e84e-1363-4e30-a32f-1dc51452ae69",
   "metadata": {},
   "outputs": [
    {
     "data": {
      "text/html": [
       "<div>\n",
       "<style scoped>\n",
       "    .dataframe tbody tr th:only-of-type {\n",
       "        vertical-align: middle;\n",
       "    }\n",
       "\n",
       "    .dataframe tbody tr th {\n",
       "        vertical-align: top;\n",
       "    }\n",
       "\n",
       "    .dataframe thead th {\n",
       "        text-align: right;\n",
       "    }\n",
       "</style>\n",
       "<table border=\"1\" class=\"dataframe\">\n",
       "  <thead>\n",
       "    <tr style=\"text-align: right;\">\n",
       "      <th></th>\n",
       "      <th>index</th>\n",
       "      <th>age</th>\n",
       "      <th>anaemia</th>\n",
       "      <th>creatinine_phosphokinase</th>\n",
       "      <th>diabetes</th>\n",
       "      <th>ejection_fraction</th>\n",
       "      <th>high_blood_pressure</th>\n",
       "      <th>platelets</th>\n",
       "      <th>serum_creatinine</th>\n",
       "      <th>serum_sodium</th>\n",
       "      <th>sex</th>\n",
       "      <th>smoking</th>\n",
       "      <th>time</th>\n",
       "      <th>DEATH_EVENT</th>\n",
       "    </tr>\n",
       "  </thead>\n",
       "  <tbody>\n",
       "    <tr>\n",
       "      <th>0</th>\n",
       "      <td>4</td>\n",
       "      <td>65.0</td>\n",
       "      <td>1</td>\n",
       "      <td>160</td>\n",
       "      <td>1</td>\n",
       "      <td>20</td>\n",
       "      <td>0</td>\n",
       "      <td>327000.00</td>\n",
       "      <td>2.7</td>\n",
       "      <td>116</td>\n",
       "      <td>0</td>\n",
       "      <td>0</td>\n",
       "      <td>8</td>\n",
       "      <td>1</td>\n",
       "    </tr>\n",
       "    <tr>\n",
       "      <th>1</th>\n",
       "      <td>9</td>\n",
       "      <td>80.0</td>\n",
       "      <td>1</td>\n",
       "      <td>123</td>\n",
       "      <td>0</td>\n",
       "      <td>35</td>\n",
       "      <td>1</td>\n",
       "      <td>388000.00</td>\n",
       "      <td>9.4</td>\n",
       "      <td>133</td>\n",
       "      <td>1</td>\n",
       "      <td>1</td>\n",
       "      <td>10</td>\n",
       "      <td>1</td>\n",
       "    </tr>\n",
       "    <tr>\n",
       "      <th>2</th>\n",
       "      <td>10</td>\n",
       "      <td>75.0</td>\n",
       "      <td>1</td>\n",
       "      <td>81</td>\n",
       "      <td>0</td>\n",
       "      <td>38</td>\n",
       "      <td>1</td>\n",
       "      <td>368000.00</td>\n",
       "      <td>4.0</td>\n",
       "      <td>131</td>\n",
       "      <td>1</td>\n",
       "      <td>1</td>\n",
       "      <td>10</td>\n",
       "      <td>1</td>\n",
       "    </tr>\n",
       "    <tr>\n",
       "      <th>3</th>\n",
       "      <td>28</td>\n",
       "      <td>58.0</td>\n",
       "      <td>1</td>\n",
       "      <td>60</td>\n",
       "      <td>0</td>\n",
       "      <td>38</td>\n",
       "      <td>0</td>\n",
       "      <td>153000.00</td>\n",
       "      <td>5.8</td>\n",
       "      <td>134</td>\n",
       "      <td>1</td>\n",
       "      <td>0</td>\n",
       "      <td>26</td>\n",
       "      <td>1</td>\n",
       "    </tr>\n",
       "    <tr>\n",
       "      <th>4</th>\n",
       "      <td>31</td>\n",
       "      <td>85.0</td>\n",
       "      <td>0</td>\n",
       "      <td>23</td>\n",
       "      <td>0</td>\n",
       "      <td>45</td>\n",
       "      <td>0</td>\n",
       "      <td>360000.00</td>\n",
       "      <td>3.0</td>\n",
       "      <td>132</td>\n",
       "      <td>1</td>\n",
       "      <td>0</td>\n",
       "      <td>28</td>\n",
       "      <td>1</td>\n",
       "    </tr>\n",
       "    <tr>\n",
       "      <th>5</th>\n",
       "      <td>35</td>\n",
       "      <td>69.0</td>\n",
       "      <td>0</td>\n",
       "      <td>582</td>\n",
       "      <td>1</td>\n",
       "      <td>35</td>\n",
       "      <td>0</td>\n",
       "      <td>228000.00</td>\n",
       "      <td>3.5</td>\n",
       "      <td>134</td>\n",
       "      <td>1</td>\n",
       "      <td>0</td>\n",
       "      <td>30</td>\n",
       "      <td>1</td>\n",
       "    </tr>\n",
       "    <tr>\n",
       "      <th>6</th>\n",
       "      <td>38</td>\n",
       "      <td>60.0</td>\n",
       "      <td>0</td>\n",
       "      <td>2656</td>\n",
       "      <td>1</td>\n",
       "      <td>30</td>\n",
       "      <td>0</td>\n",
       "      <td>305000.00</td>\n",
       "      <td>2.3</td>\n",
       "      <td>137</td>\n",
       "      <td>1</td>\n",
       "      <td>0</td>\n",
       "      <td>30</td>\n",
       "      <td>0</td>\n",
       "    </tr>\n",
       "    <tr>\n",
       "      <th>7</th>\n",
       "      <td>39</td>\n",
       "      <td>60.0</td>\n",
       "      <td>0</td>\n",
       "      <td>235</td>\n",
       "      <td>1</td>\n",
       "      <td>38</td>\n",
       "      <td>0</td>\n",
       "      <td>329000.00</td>\n",
       "      <td>3.0</td>\n",
       "      <td>142</td>\n",
       "      <td>0</td>\n",
       "      <td>0</td>\n",
       "      <td>30</td>\n",
       "      <td>1</td>\n",
       "    </tr>\n",
       "    <tr>\n",
       "      <th>8</th>\n",
       "      <td>48</td>\n",
       "      <td>80.0</td>\n",
       "      <td>1</td>\n",
       "      <td>553</td>\n",
       "      <td>0</td>\n",
       "      <td>20</td>\n",
       "      <td>1</td>\n",
       "      <td>140000.00</td>\n",
       "      <td>4.4</td>\n",
       "      <td>133</td>\n",
       "      <td>1</td>\n",
       "      <td>0</td>\n",
       "      <td>41</td>\n",
       "      <td>1</td>\n",
       "    </tr>\n",
       "    <tr>\n",
       "      <th>9</th>\n",
       "      <td>52</td>\n",
       "      <td>60.0</td>\n",
       "      <td>0</td>\n",
       "      <td>3964</td>\n",
       "      <td>1</td>\n",
       "      <td>62</td>\n",
       "      <td>0</td>\n",
       "      <td>263358.03</td>\n",
       "      <td>6.8</td>\n",
       "      <td>146</td>\n",
       "      <td>0</td>\n",
       "      <td>0</td>\n",
       "      <td>43</td>\n",
       "      <td>1</td>\n",
       "    </tr>\n",
       "    <tr>\n",
       "      <th>10</th>\n",
       "      <td>54</td>\n",
       "      <td>60.0</td>\n",
       "      <td>1</td>\n",
       "      <td>260</td>\n",
       "      <td>1</td>\n",
       "      <td>38</td>\n",
       "      <td>0</td>\n",
       "      <td>255000.00</td>\n",
       "      <td>2.2</td>\n",
       "      <td>132</td>\n",
       "      <td>0</td>\n",
       "      <td>1</td>\n",
       "      <td>45</td>\n",
       "      <td>1</td>\n",
       "    </tr>\n",
       "    <tr>\n",
       "      <th>11</th>\n",
       "      <td>56</td>\n",
       "      <td>70.0</td>\n",
       "      <td>1</td>\n",
       "      <td>75</td>\n",
       "      <td>0</td>\n",
       "      <td>35</td>\n",
       "      <td>0</td>\n",
       "      <td>223000.00</td>\n",
       "      <td>2.7</td>\n",
       "      <td>138</td>\n",
       "      <td>1</td>\n",
       "      <td>1</td>\n",
       "      <td>54</td>\n",
       "      <td>0</td>\n",
       "    </tr>\n",
       "    <tr>\n",
       "      <th>12</th>\n",
       "      <td>61</td>\n",
       "      <td>50.0</td>\n",
       "      <td>0</td>\n",
       "      <td>318</td>\n",
       "      <td>0</td>\n",
       "      <td>40</td>\n",
       "      <td>1</td>\n",
       "      <td>216000.00</td>\n",
       "      <td>2.3</td>\n",
       "      <td>131</td>\n",
       "      <td>0</td>\n",
       "      <td>0</td>\n",
       "      <td>60</td>\n",
       "      <td>1</td>\n",
       "    </tr>\n",
       "    <tr>\n",
       "      <th>13</th>\n",
       "      <td>65</td>\n",
       "      <td>60.0</td>\n",
       "      <td>0</td>\n",
       "      <td>68</td>\n",
       "      <td>0</td>\n",
       "      <td>20</td>\n",
       "      <td>0</td>\n",
       "      <td>119000.00</td>\n",
       "      <td>2.9</td>\n",
       "      <td>127</td>\n",
       "      <td>1</td>\n",
       "      <td>1</td>\n",
       "      <td>64</td>\n",
       "      <td>1</td>\n",
       "    </tr>\n",
       "    <tr>\n",
       "      <th>14</th>\n",
       "      <td>82</td>\n",
       "      <td>60.0</td>\n",
       "      <td>1</td>\n",
       "      <td>76</td>\n",
       "      <td>1</td>\n",
       "      <td>25</td>\n",
       "      <td>0</td>\n",
       "      <td>196000.00</td>\n",
       "      <td>2.5</td>\n",
       "      <td>132</td>\n",
       "      <td>0</td>\n",
       "      <td>0</td>\n",
       "      <td>77</td>\n",
       "      <td>1</td>\n",
       "    </tr>\n",
       "    <tr>\n",
       "      <th>15</th>\n",
       "      <td>104</td>\n",
       "      <td>60.0</td>\n",
       "      <td>0</td>\n",
       "      <td>53</td>\n",
       "      <td>0</td>\n",
       "      <td>50</td>\n",
       "      <td>1</td>\n",
       "      <td>286000.00</td>\n",
       "      <td>2.3</td>\n",
       "      <td>143</td>\n",
       "      <td>0</td>\n",
       "      <td>0</td>\n",
       "      <td>87</td>\n",
       "      <td>0</td>\n",
       "    </tr>\n",
       "    <tr>\n",
       "      <th>16</th>\n",
       "      <td>117</td>\n",
       "      <td>85.0</td>\n",
       "      <td>1</td>\n",
       "      <td>102</td>\n",
       "      <td>0</td>\n",
       "      <td>60</td>\n",
       "      <td>0</td>\n",
       "      <td>507000.00</td>\n",
       "      <td>3.2</td>\n",
       "      <td>138</td>\n",
       "      <td>0</td>\n",
       "      <td>0</td>\n",
       "      <td>94</td>\n",
       "      <td>0</td>\n",
       "    </tr>\n",
       "    <tr>\n",
       "      <th>17</th>\n",
       "      <td>124</td>\n",
       "      <td>60.0</td>\n",
       "      <td>0</td>\n",
       "      <td>582</td>\n",
       "      <td>0</td>\n",
       "      <td>40</td>\n",
       "      <td>0</td>\n",
       "      <td>217000.00</td>\n",
       "      <td>3.7</td>\n",
       "      <td>134</td>\n",
       "      <td>1</td>\n",
       "      <td>0</td>\n",
       "      <td>96</td>\n",
       "      <td>1</td>\n",
       "    </tr>\n",
       "    <tr>\n",
       "      <th>18</th>\n",
       "      <td>129</td>\n",
       "      <td>53.0</td>\n",
       "      <td>1</td>\n",
       "      <td>270</td>\n",
       "      <td>1</td>\n",
       "      <td>35</td>\n",
       "      <td>0</td>\n",
       "      <td>227000.00</td>\n",
       "      <td>3.4</td>\n",
       "      <td>145</td>\n",
       "      <td>1</td>\n",
       "      <td>0</td>\n",
       "      <td>105</td>\n",
       "      <td>0</td>\n",
       "    </tr>\n",
       "    <tr>\n",
       "      <th>19</th>\n",
       "      <td>131</td>\n",
       "      <td>60.0</td>\n",
       "      <td>1</td>\n",
       "      <td>1082</td>\n",
       "      <td>1</td>\n",
       "      <td>45</td>\n",
       "      <td>0</td>\n",
       "      <td>250000.00</td>\n",
       "      <td>6.1</td>\n",
       "      <td>131</td>\n",
       "      <td>1</td>\n",
       "      <td>0</td>\n",
       "      <td>107</td>\n",
       "      <td>0</td>\n",
       "    </tr>\n",
       "    <tr>\n",
       "      <th>20</th>\n",
       "      <td>150</td>\n",
       "      <td>72.0</td>\n",
       "      <td>0</td>\n",
       "      <td>233</td>\n",
       "      <td>0</td>\n",
       "      <td>45</td>\n",
       "      <td>1</td>\n",
       "      <td>235000.00</td>\n",
       "      <td>2.5</td>\n",
       "      <td>135</td>\n",
       "      <td>0</td>\n",
       "      <td>0</td>\n",
       "      <td>115</td>\n",
       "      <td>1</td>\n",
       "    </tr>\n",
       "    <tr>\n",
       "      <th>21</th>\n",
       "      <td>167</td>\n",
       "      <td>59.0</td>\n",
       "      <td>0</td>\n",
       "      <td>66</td>\n",
       "      <td>1</td>\n",
       "      <td>20</td>\n",
       "      <td>0</td>\n",
       "      <td>70000.00</td>\n",
       "      <td>2.4</td>\n",
       "      <td>134</td>\n",
       "      <td>1</td>\n",
       "      <td>0</td>\n",
       "      <td>135</td>\n",
       "      <td>1</td>\n",
       "    </tr>\n",
       "    <tr>\n",
       "      <th>22</th>\n",
       "      <td>183</td>\n",
       "      <td>75.0</td>\n",
       "      <td>0</td>\n",
       "      <td>99</td>\n",
       "      <td>0</td>\n",
       "      <td>38</td>\n",
       "      <td>1</td>\n",
       "      <td>224000.00</td>\n",
       "      <td>2.5</td>\n",
       "      <td>134</td>\n",
       "      <td>1</td>\n",
       "      <td>0</td>\n",
       "      <td>162</td>\n",
       "      <td>1</td>\n",
       "    </tr>\n",
       "    <tr>\n",
       "      <th>23</th>\n",
       "      <td>203</td>\n",
       "      <td>60.0</td>\n",
       "      <td>0</td>\n",
       "      <td>59</td>\n",
       "      <td>0</td>\n",
       "      <td>25</td>\n",
       "      <td>1</td>\n",
       "      <td>212000.00</td>\n",
       "      <td>3.5</td>\n",
       "      <td>136</td>\n",
       "      <td>1</td>\n",
       "      <td>1</td>\n",
       "      <td>187</td>\n",
       "      <td>0</td>\n",
       "    </tr>\n",
       "    <tr>\n",
       "      <th>24</th>\n",
       "      <td>217</td>\n",
       "      <td>54.0</td>\n",
       "      <td>1</td>\n",
       "      <td>427</td>\n",
       "      <td>0</td>\n",
       "      <td>70</td>\n",
       "      <td>1</td>\n",
       "      <td>151000.00</td>\n",
       "      <td>9.0</td>\n",
       "      <td>137</td>\n",
       "      <td>0</td>\n",
       "      <td>0</td>\n",
       "      <td>196</td>\n",
       "      <td>1</td>\n",
       "    </tr>\n",
       "    <tr>\n",
       "      <th>25</th>\n",
       "      <td>228</td>\n",
       "      <td>65.0</td>\n",
       "      <td>0</td>\n",
       "      <td>56</td>\n",
       "      <td>0</td>\n",
       "      <td>25</td>\n",
       "      <td>0</td>\n",
       "      <td>237000.00</td>\n",
       "      <td>5.0</td>\n",
       "      <td>130</td>\n",
       "      <td>0</td>\n",
       "      <td>0</td>\n",
       "      <td>207</td>\n",
       "      <td>0</td>\n",
       "    </tr>\n",
       "    <tr>\n",
       "      <th>26</th>\n",
       "      <td>247</td>\n",
       "      <td>64.0</td>\n",
       "      <td>0</td>\n",
       "      <td>143</td>\n",
       "      <td>0</td>\n",
       "      <td>25</td>\n",
       "      <td>0</td>\n",
       "      <td>246000.00</td>\n",
       "      <td>2.4</td>\n",
       "      <td>135</td>\n",
       "      <td>1</td>\n",
       "      <td>0</td>\n",
       "      <td>214</td>\n",
       "      <td>0</td>\n",
       "    </tr>\n",
       "    <tr>\n",
       "      <th>27</th>\n",
       "      <td>281</td>\n",
       "      <td>70.0</td>\n",
       "      <td>0</td>\n",
       "      <td>582</td>\n",
       "      <td>0</td>\n",
       "      <td>40</td>\n",
       "      <td>0</td>\n",
       "      <td>51000.00</td>\n",
       "      <td>2.7</td>\n",
       "      <td>136</td>\n",
       "      <td>1</td>\n",
       "      <td>1</td>\n",
       "      <td>250</td>\n",
       "      <td>0</td>\n",
       "    </tr>\n",
       "    <tr>\n",
       "      <th>28</th>\n",
       "      <td>282</td>\n",
       "      <td>42.0</td>\n",
       "      <td>0</td>\n",
       "      <td>64</td>\n",
       "      <td>0</td>\n",
       "      <td>30</td>\n",
       "      <td>0</td>\n",
       "      <td>215000.00</td>\n",
       "      <td>3.8</td>\n",
       "      <td>128</td>\n",
       "      <td>1</td>\n",
       "      <td>1</td>\n",
       "      <td>250</td>\n",
       "      <td>0</td>\n",
       "    </tr>\n",
       "  </tbody>\n",
       "</table>\n",
       "</div>"
      ],
      "text/plain": [
       "    index   age  anaemia  creatinine_phosphokinase  diabetes  \\\n",
       "0       4  65.0        1                       160         1   \n",
       "1       9  80.0        1                       123         0   \n",
       "2      10  75.0        1                        81         0   \n",
       "3      28  58.0        1                        60         0   \n",
       "4      31  85.0        0                        23         0   \n",
       "5      35  69.0        0                       582         1   \n",
       "6      38  60.0        0                      2656         1   \n",
       "7      39  60.0        0                       235         1   \n",
       "8      48  80.0        1                       553         0   \n",
       "9      52  60.0        0                      3964         1   \n",
       "10     54  60.0        1                       260         1   \n",
       "11     56  70.0        1                        75         0   \n",
       "12     61  50.0        0                       318         0   \n",
       "13     65  60.0        0                        68         0   \n",
       "14     82  60.0        1                        76         1   \n",
       "15    104  60.0        0                        53         0   \n",
       "16    117  85.0        1                       102         0   \n",
       "17    124  60.0        0                       582         0   \n",
       "18    129  53.0        1                       270         1   \n",
       "19    131  60.0        1                      1082         1   \n",
       "20    150  72.0        0                       233         0   \n",
       "21    167  59.0        0                        66         1   \n",
       "22    183  75.0        0                        99         0   \n",
       "23    203  60.0        0                        59         0   \n",
       "24    217  54.0        1                       427         0   \n",
       "25    228  65.0        0                        56         0   \n",
       "26    247  64.0        0                       143         0   \n",
       "27    281  70.0        0                       582         0   \n",
       "28    282  42.0        0                        64         0   \n",
       "\n",
       "    ejection_fraction  high_blood_pressure  platelets  serum_creatinine  \\\n",
       "0                  20                    0  327000.00               2.7   \n",
       "1                  35                    1  388000.00               9.4   \n",
       "2                  38                    1  368000.00               4.0   \n",
       "3                  38                    0  153000.00               5.8   \n",
       "4                  45                    0  360000.00               3.0   \n",
       "5                  35                    0  228000.00               3.5   \n",
       "6                  30                    0  305000.00               2.3   \n",
       "7                  38                    0  329000.00               3.0   \n",
       "8                  20                    1  140000.00               4.4   \n",
       "9                  62                    0  263358.03               6.8   \n",
       "10                 38                    0  255000.00               2.2   \n",
       "11                 35                    0  223000.00               2.7   \n",
       "12                 40                    1  216000.00               2.3   \n",
       "13                 20                    0  119000.00               2.9   \n",
       "14                 25                    0  196000.00               2.5   \n",
       "15                 50                    1  286000.00               2.3   \n",
       "16                 60                    0  507000.00               3.2   \n",
       "17                 40                    0  217000.00               3.7   \n",
       "18                 35                    0  227000.00               3.4   \n",
       "19                 45                    0  250000.00               6.1   \n",
       "20                 45                    1  235000.00               2.5   \n",
       "21                 20                    0   70000.00               2.4   \n",
       "22                 38                    1  224000.00               2.5   \n",
       "23                 25                    1  212000.00               3.5   \n",
       "24                 70                    1  151000.00               9.0   \n",
       "25                 25                    0  237000.00               5.0   \n",
       "26                 25                    0  246000.00               2.4   \n",
       "27                 40                    0   51000.00               2.7   \n",
       "28                 30                    0  215000.00               3.8   \n",
       "\n",
       "    serum_sodium  sex  smoking  time  DEATH_EVENT  \n",
       "0            116    0        0     8            1  \n",
       "1            133    1        1    10            1  \n",
       "2            131    1        1    10            1  \n",
       "3            134    1        0    26            1  \n",
       "4            132    1        0    28            1  \n",
       "5            134    1        0    30            1  \n",
       "6            137    1        0    30            0  \n",
       "7            142    0        0    30            1  \n",
       "8            133    1        0    41            1  \n",
       "9            146    0        0    43            1  \n",
       "10           132    0        1    45            1  \n",
       "11           138    1        1    54            0  \n",
       "12           131    0        0    60            1  \n",
       "13           127    1        1    64            1  \n",
       "14           132    0        0    77            1  \n",
       "15           143    0        0    87            0  \n",
       "16           138    0        0    94            0  \n",
       "17           134    1        0    96            1  \n",
       "18           145    1        0   105            0  \n",
       "19           131    1        0   107            0  \n",
       "20           135    0        0   115            1  \n",
       "21           134    1        0   135            1  \n",
       "22           134    1        0   162            1  \n",
       "23           136    1        1   187            0  \n",
       "24           137    0        0   196            1  \n",
       "25           130    0        0   207            0  \n",
       "26           135    1        0   214            0  \n",
       "27           136    1        1   250            0  \n",
       "28           128    1        1   250            0  "
      ]
     },
     "execution_count": 23,
     "metadata": {},
     "output_type": "execute_result"
    }
   ],
   "source": [
    "# get upper values\n",
    "df[df['serum_creatinine'] > upper1].reset_index()"
   ]
  },
  {
   "cell_type": "code",
   "execution_count": 24,
   "id": "0f37ac7d-5430-4e9b-ade9-4ccc0c764bc8",
   "metadata": {},
   "outputs": [
    {
     "data": {
      "text/html": [
       "<div>\n",
       "<style scoped>\n",
       "    .dataframe tbody tr th:only-of-type {\n",
       "        vertical-align: middle;\n",
       "    }\n",
       "\n",
       "    .dataframe tbody tr th {\n",
       "        vertical-align: top;\n",
       "    }\n",
       "\n",
       "    .dataframe thead th {\n",
       "        text-align: right;\n",
       "    }\n",
       "</style>\n",
       "<table border=\"1\" class=\"dataframe\">\n",
       "  <thead>\n",
       "    <tr style=\"text-align: right;\">\n",
       "      <th></th>\n",
       "      <th>age</th>\n",
       "      <th>anaemia</th>\n",
       "      <th>creatinine_phosphokinase</th>\n",
       "      <th>diabetes</th>\n",
       "      <th>ejection_fraction</th>\n",
       "      <th>high_blood_pressure</th>\n",
       "      <th>platelets</th>\n",
       "      <th>serum_creatinine</th>\n",
       "      <th>serum_sodium</th>\n",
       "      <th>sex</th>\n",
       "      <th>smoking</th>\n",
       "      <th>time</th>\n",
       "      <th>DEATH_EVENT</th>\n",
       "    </tr>\n",
       "  </thead>\n",
       "  <tbody>\n",
       "    <tr>\n",
       "      <th>38</th>\n",
       "      <td>60.0</td>\n",
       "      <td>0</td>\n",
       "      <td>2656</td>\n",
       "      <td>1</td>\n",
       "      <td>30</td>\n",
       "      <td>0</td>\n",
       "      <td>305000.00</td>\n",
       "      <td>2.3</td>\n",
       "      <td>137</td>\n",
       "      <td>1</td>\n",
       "      <td>0</td>\n",
       "      <td>30</td>\n",
       "      <td>0</td>\n",
       "    </tr>\n",
       "    <tr>\n",
       "      <th>52</th>\n",
       "      <td>60.0</td>\n",
       "      <td>0</td>\n",
       "      <td>3964</td>\n",
       "      <td>1</td>\n",
       "      <td>62</td>\n",
       "      <td>0</td>\n",
       "      <td>263358.03</td>\n",
       "      <td>6.8</td>\n",
       "      <td>146</td>\n",
       "      <td>0</td>\n",
       "      <td>0</td>\n",
       "      <td>43</td>\n",
       "      <td>1</td>\n",
       "    </tr>\n",
       "  </tbody>\n",
       "</table>\n",
       "</div>"
      ],
      "text/plain": [
       "     age  anaemia  creatinine_phosphokinase  diabetes  ejection_fraction  \\\n",
       "38  60.0        0                      2656         1                 30   \n",
       "52  60.0        0                      3964         1                 62   \n",
       "\n",
       "    high_blood_pressure  platelets  serum_creatinine  serum_sodium  sex  \\\n",
       "38                    0  305000.00               2.3           137    1   \n",
       "52                    0  263358.03               6.8           146    0   \n",
       "\n",
       "    smoking  time  DEATH_EVENT  \n",
       "38        0    30            0  \n",
       "52        0    43            1  "
      ]
     },
     "execution_count": 24,
     "metadata": {},
     "output_type": "execute_result"
    }
   ],
   "source": [
    "df[cond1 & cond2]"
   ]
  },
  {
   "cell_type": "code",
   "execution_count": 25,
   "id": "6f50e6cd-2db7-4a5c-9508-5d5dbfd908d2",
   "metadata": {},
   "outputs": [
    {
     "data": {
      "text/html": [
       "<div>\n",
       "<style scoped>\n",
       "    .dataframe tbody tr th:only-of-type {\n",
       "        vertical-align: middle;\n",
       "    }\n",
       "\n",
       "    .dataframe tbody tr th {\n",
       "        vertical-align: top;\n",
       "    }\n",
       "\n",
       "    .dataframe thead th {\n",
       "        text-align: right;\n",
       "    }\n",
       "</style>\n",
       "<table border=\"1\" class=\"dataframe\">\n",
       "  <thead>\n",
       "    <tr style=\"text-align: right;\">\n",
       "      <th></th>\n",
       "      <th>age</th>\n",
       "      <th>anaemia</th>\n",
       "      <th>creatinine_phosphokinase</th>\n",
       "      <th>diabetes</th>\n",
       "      <th>ejection_fraction</th>\n",
       "      <th>high_blood_pressure</th>\n",
       "      <th>platelets</th>\n",
       "      <th>serum_creatinine</th>\n",
       "      <th>serum_sodium</th>\n",
       "      <th>sex</th>\n",
       "      <th>smoking</th>\n",
       "      <th>time</th>\n",
       "      <th>DEATH_EVENT</th>\n",
       "    </tr>\n",
       "  </thead>\n",
       "  <tbody>\n",
       "  </tbody>\n",
       "</table>\n",
       "</div>"
      ],
      "text/plain": [
       "Empty DataFrame\n",
       "Columns: [age, anaemia, creatinine_phosphokinase, diabetes, ejection_fraction, high_blood_pressure, platelets, serum_creatinine, serum_sodium, sex, smoking, time, DEATH_EVENT]\n",
       "Index: []"
      ]
     },
     "execution_count": 25,
     "metadata": {},
     "output_type": "execute_result"
    }
   ],
   "source": [
    "df[cond1 & cond2 & cond3]"
   ]
  },
  {
   "cell_type": "markdown",
   "id": "f782f6e9-1b5e-4e83-81c2-88de09a16c49",
   "metadata": {},
   "source": [
    "We see that of the 29 outliers there are only 2 outliers that are outliers in the 2 other variables/biomarkers. Those 2 should be super safer to remove, but then again its only 2 records, not sure if its worth it. \n",
    "\n",
    "We could save this for the transform section and make a two copies of the data, but for now lets move on with the original data."
   ]
  },
  {
   "cell_type": "code",
   "execution_count": 26,
   "id": "7370e2bc-26f4-4cdb-94ee-2687db558193",
   "metadata": {},
   "outputs": [],
   "source": [
    "#df_filtered, rows_removed = remove_outliers(df, 'serum_creatinine')\n",
    "#print(rows_removed)"
   ]
  },
  {
   "cell_type": "code",
   "execution_count": 27,
   "id": "0c0590ac-1040-49b5-9355-5a0cb33c0b40",
   "metadata": {},
   "outputs": [],
   "source": [
    "#print_outlier_diff(df,df_filtered, 'serum_creatinine')"
   ]
  },
  {
   "cell_type": "code",
   "execution_count": 28,
   "id": "28c803bd-e5ff-421a-a2a3-376d05e46d24",
   "metadata": {},
   "outputs": [],
   "source": [
    "#stats, headers = outlier_stats(df,df_filtered, 'serum_creatinine')\n",
    "\n",
    "#tabulate(stats, headers=headers, tablefmt='html')"
   ]
  },
  {
   "cell_type": "markdown",
   "id": "4dac654d-610d-45cf-97a6-165b040e95e9",
   "metadata": {},
   "source": [
    "### Pairwise\n",
    "\n",
    "Here I'll look at 2 variables together to get a sense of their interactions. Mostly how they correlate to the DEATH_EVENT our target variable"
   ]
  },
  {
   "cell_type": "code",
   "execution_count": 29,
   "id": "71bb34cf-9dc0-4d90-9e2a-1a7054f3dd6a",
   "metadata": {},
   "outputs": [],
   "source": [
    "def correlation(data, x, y):\n",
    "    res = []\n",
    "    pr = stats.pearsonr(data[x], data[y])[0]\n",
    "    sr = stats.spearmanr(data[x], data[y])[0]\n",
    "    res.append(pr)\n",
    "    res.append(sr)\n",
    "    #print('Pearson r:\\t', pr)\n",
    "    #print('Spearman ro:\\t', sr)\n",
    "    return res\n",
    "\n",
    "def all_corrs(df, columns):\n",
    "    res = []\n",
    "    for x in cols:\n",
    "        correlations = correlation(df, x, 'DEATH_EVENT')\n",
    "        new_list = []\n",
    "        new_list.append(x)\n",
    "        # merge two lists\n",
    "        new_list.extend(correlations)\n",
    "        # append new list to results\n",
    "        res.append(new_list)\n",
    "\n",
    "    res = pd.DataFrame(res, columns=['feature', 'pearson (r)', 'spearman'])\n",
    "    return res.sort_values(by='pearson (r)', ascending=False)"
   ]
  },
  {
   "cell_type": "code",
   "execution_count": 30,
   "id": "0cc5c1fd-294a-468f-ad44-fddde6d3d9d5",
   "metadata": {},
   "outputs": [
    {
     "data": {
      "text/html": [
       "<div>\n",
       "<style scoped>\n",
       "    .dataframe tbody tr th:only-of-type {\n",
       "        vertical-align: middle;\n",
       "    }\n",
       "\n",
       "    .dataframe tbody tr th {\n",
       "        vertical-align: top;\n",
       "    }\n",
       "\n",
       "    .dataframe thead th {\n",
       "        text-align: right;\n",
       "    }\n",
       "</style>\n",
       "<table border=\"1\" class=\"dataframe\">\n",
       "  <thead>\n",
       "    <tr style=\"text-align: right;\">\n",
       "      <th>DEATH_EVENT</th>\n",
       "      <th>0</th>\n",
       "      <th>1</th>\n",
       "      <th>All</th>\n",
       "    </tr>\n",
       "    <tr>\n",
       "      <th>anaemia</th>\n",
       "      <th></th>\n",
       "      <th></th>\n",
       "      <th></th>\n",
       "    </tr>\n",
       "  </thead>\n",
       "  <tbody>\n",
       "    <tr>\n",
       "      <th>0</th>\n",
       "      <td>120</td>\n",
       "      <td>50</td>\n",
       "      <td>170</td>\n",
       "    </tr>\n",
       "    <tr>\n",
       "      <th>1</th>\n",
       "      <td>83</td>\n",
       "      <td>46</td>\n",
       "      <td>129</td>\n",
       "    </tr>\n",
       "    <tr>\n",
       "      <th>All</th>\n",
       "      <td>203</td>\n",
       "      <td>96</td>\n",
       "      <td>299</td>\n",
       "    </tr>\n",
       "  </tbody>\n",
       "</table>\n",
       "</div>"
      ],
      "text/plain": [
       "DEATH_EVENT    0   1  All\n",
       "anaemia                  \n",
       "0            120  50  170\n",
       "1             83  46  129\n",
       "All          203  96  299"
      ]
     },
     "metadata": {},
     "output_type": "display_data"
    },
    {
     "data": {
      "text/html": [
       "<div>\n",
       "<style scoped>\n",
       "    .dataframe tbody tr th:only-of-type {\n",
       "        vertical-align: middle;\n",
       "    }\n",
       "\n",
       "    .dataframe tbody tr th {\n",
       "        vertical-align: top;\n",
       "    }\n",
       "\n",
       "    .dataframe thead th {\n",
       "        text-align: right;\n",
       "    }\n",
       "</style>\n",
       "<table border=\"1\" class=\"dataframe\">\n",
       "  <thead>\n",
       "    <tr style=\"text-align: right;\">\n",
       "      <th>DEATH_EVENT</th>\n",
       "      <th>0</th>\n",
       "      <th>1</th>\n",
       "      <th>All</th>\n",
       "    </tr>\n",
       "    <tr>\n",
       "      <th>diabetes</th>\n",
       "      <th></th>\n",
       "      <th></th>\n",
       "      <th></th>\n",
       "    </tr>\n",
       "  </thead>\n",
       "  <tbody>\n",
       "    <tr>\n",
       "      <th>0</th>\n",
       "      <td>118</td>\n",
       "      <td>56</td>\n",
       "      <td>174</td>\n",
       "    </tr>\n",
       "    <tr>\n",
       "      <th>1</th>\n",
       "      <td>85</td>\n",
       "      <td>40</td>\n",
       "      <td>125</td>\n",
       "    </tr>\n",
       "    <tr>\n",
       "      <th>All</th>\n",
       "      <td>203</td>\n",
       "      <td>96</td>\n",
       "      <td>299</td>\n",
       "    </tr>\n",
       "  </tbody>\n",
       "</table>\n",
       "</div>"
      ],
      "text/plain": [
       "DEATH_EVENT    0   1  All\n",
       "diabetes                 \n",
       "0            118  56  174\n",
       "1             85  40  125\n",
       "All          203  96  299"
      ]
     },
     "metadata": {},
     "output_type": "display_data"
    },
    {
     "data": {
      "text/html": [
       "<div>\n",
       "<style scoped>\n",
       "    .dataframe tbody tr th:only-of-type {\n",
       "        vertical-align: middle;\n",
       "    }\n",
       "\n",
       "    .dataframe tbody tr th {\n",
       "        vertical-align: top;\n",
       "    }\n",
       "\n",
       "    .dataframe thead th {\n",
       "        text-align: right;\n",
       "    }\n",
       "</style>\n",
       "<table border=\"1\" class=\"dataframe\">\n",
       "  <thead>\n",
       "    <tr style=\"text-align: right;\">\n",
       "      <th>DEATH_EVENT</th>\n",
       "      <th>0</th>\n",
       "      <th>1</th>\n",
       "      <th>All</th>\n",
       "    </tr>\n",
       "    <tr>\n",
       "      <th>high_blood_pressure</th>\n",
       "      <th></th>\n",
       "      <th></th>\n",
       "      <th></th>\n",
       "    </tr>\n",
       "  </thead>\n",
       "  <tbody>\n",
       "    <tr>\n",
       "      <th>0</th>\n",
       "      <td>137</td>\n",
       "      <td>57</td>\n",
       "      <td>194</td>\n",
       "    </tr>\n",
       "    <tr>\n",
       "      <th>1</th>\n",
       "      <td>66</td>\n",
       "      <td>39</td>\n",
       "      <td>105</td>\n",
       "    </tr>\n",
       "    <tr>\n",
       "      <th>All</th>\n",
       "      <td>203</td>\n",
       "      <td>96</td>\n",
       "      <td>299</td>\n",
       "    </tr>\n",
       "  </tbody>\n",
       "</table>\n",
       "</div>"
      ],
      "text/plain": [
       "DEATH_EVENT            0   1  All\n",
       "high_blood_pressure              \n",
       "0                    137  57  194\n",
       "1                     66  39  105\n",
       "All                  203  96  299"
      ]
     },
     "metadata": {},
     "output_type": "display_data"
    },
    {
     "data": {
      "text/html": [
       "<div>\n",
       "<style scoped>\n",
       "    .dataframe tbody tr th:only-of-type {\n",
       "        vertical-align: middle;\n",
       "    }\n",
       "\n",
       "    .dataframe tbody tr th {\n",
       "        vertical-align: top;\n",
       "    }\n",
       "\n",
       "    .dataframe thead th {\n",
       "        text-align: right;\n",
       "    }\n",
       "</style>\n",
       "<table border=\"1\" class=\"dataframe\">\n",
       "  <thead>\n",
       "    <tr style=\"text-align: right;\">\n",
       "      <th>DEATH_EVENT</th>\n",
       "      <th>0</th>\n",
       "      <th>1</th>\n",
       "      <th>All</th>\n",
       "    </tr>\n",
       "    <tr>\n",
       "      <th>sex</th>\n",
       "      <th></th>\n",
       "      <th></th>\n",
       "      <th></th>\n",
       "    </tr>\n",
       "  </thead>\n",
       "  <tbody>\n",
       "    <tr>\n",
       "      <th>0</th>\n",
       "      <td>71</td>\n",
       "      <td>34</td>\n",
       "      <td>105</td>\n",
       "    </tr>\n",
       "    <tr>\n",
       "      <th>1</th>\n",
       "      <td>132</td>\n",
       "      <td>62</td>\n",
       "      <td>194</td>\n",
       "    </tr>\n",
       "    <tr>\n",
       "      <th>All</th>\n",
       "      <td>203</td>\n",
       "      <td>96</td>\n",
       "      <td>299</td>\n",
       "    </tr>\n",
       "  </tbody>\n",
       "</table>\n",
       "</div>"
      ],
      "text/plain": [
       "DEATH_EVENT    0   1  All\n",
       "sex                      \n",
       "0             71  34  105\n",
       "1            132  62  194\n",
       "All          203  96  299"
      ]
     },
     "metadata": {},
     "output_type": "display_data"
    },
    {
     "data": {
      "text/html": [
       "<div>\n",
       "<style scoped>\n",
       "    .dataframe tbody tr th:only-of-type {\n",
       "        vertical-align: middle;\n",
       "    }\n",
       "\n",
       "    .dataframe tbody tr th {\n",
       "        vertical-align: top;\n",
       "    }\n",
       "\n",
       "    .dataframe thead th {\n",
       "        text-align: right;\n",
       "    }\n",
       "</style>\n",
       "<table border=\"1\" class=\"dataframe\">\n",
       "  <thead>\n",
       "    <tr style=\"text-align: right;\">\n",
       "      <th>DEATH_EVENT</th>\n",
       "      <th>0</th>\n",
       "      <th>1</th>\n",
       "      <th>All</th>\n",
       "    </tr>\n",
       "    <tr>\n",
       "      <th>smoking</th>\n",
       "      <th></th>\n",
       "      <th></th>\n",
       "      <th></th>\n",
       "    </tr>\n",
       "  </thead>\n",
       "  <tbody>\n",
       "    <tr>\n",
       "      <th>0</th>\n",
       "      <td>137</td>\n",
       "      <td>66</td>\n",
       "      <td>203</td>\n",
       "    </tr>\n",
       "    <tr>\n",
       "      <th>1</th>\n",
       "      <td>66</td>\n",
       "      <td>30</td>\n",
       "      <td>96</td>\n",
       "    </tr>\n",
       "    <tr>\n",
       "      <th>All</th>\n",
       "      <td>203</td>\n",
       "      <td>96</td>\n",
       "      <td>299</td>\n",
       "    </tr>\n",
       "  </tbody>\n",
       "</table>\n",
       "</div>"
      ],
      "text/plain": [
       "DEATH_EVENT    0   1  All\n",
       "smoking                  \n",
       "0            137  66  203\n",
       "1             66  30   96\n",
       "All          203  96  299"
      ]
     },
     "metadata": {},
     "output_type": "display_data"
    }
   ],
   "source": [
    "from IPython.display import display\n",
    "\n",
    "for x in cols_cat:\n",
    "    display(pd.crosstab(df[x], df['DEATH_EVENT'], margins=True))"
   ]
  },
  {
   "cell_type": "markdown",
   "id": "b4ec6986-9b29-44c4-901a-3318c87eef9a",
   "metadata": {},
   "source": [
    "Interesting, not sure this helps much but ok. Lets look at correlations"
   ]
  },
  {
   "cell_type": "code",
   "execution_count": 31,
   "id": "a03e8c8a-28d8-45b9-be6d-e4f7b97320f6",
   "metadata": {},
   "outputs": [
    {
     "data": {
      "text/html": [
       "<div>\n",
       "<style scoped>\n",
       "    .dataframe tbody tr th:only-of-type {\n",
       "        vertical-align: middle;\n",
       "    }\n",
       "\n",
       "    .dataframe tbody tr th {\n",
       "        vertical-align: top;\n",
       "    }\n",
       "\n",
       "    .dataframe thead th {\n",
       "        text-align: right;\n",
       "    }\n",
       "</style>\n",
       "<table border=\"1\" class=\"dataframe\">\n",
       "  <thead>\n",
       "    <tr style=\"text-align: right;\">\n",
       "      <th></th>\n",
       "      <th>feature</th>\n",
       "      <th>pearson (r)</th>\n",
       "      <th>spearman</th>\n",
       "    </tr>\n",
       "  </thead>\n",
       "  <tbody>\n",
       "    <tr>\n",
       "      <th>7</th>\n",
       "      <td>serum_creatinine</td>\n",
       "      <td>0.294278</td>\n",
       "      <td>0.370630</td>\n",
       "    </tr>\n",
       "    <tr>\n",
       "      <th>0</th>\n",
       "      <td>age</td>\n",
       "      <td>0.253729</td>\n",
       "      <td>0.218125</td>\n",
       "    </tr>\n",
       "    <tr>\n",
       "      <th>5</th>\n",
       "      <td>high_blood_pressure</td>\n",
       "      <td>0.079351</td>\n",
       "      <td>0.079351</td>\n",
       "    </tr>\n",
       "    <tr>\n",
       "      <th>1</th>\n",
       "      <td>anaemia</td>\n",
       "      <td>0.066270</td>\n",
       "      <td>0.066270</td>\n",
       "    </tr>\n",
       "    <tr>\n",
       "      <th>2</th>\n",
       "      <td>creatinine_phosphokinase</td>\n",
       "      <td>0.062728</td>\n",
       "      <td>0.023616</td>\n",
       "    </tr>\n",
       "    <tr>\n",
       "      <th>3</th>\n",
       "      <td>diabetes</td>\n",
       "      <td>-0.001943</td>\n",
       "      <td>-0.001943</td>\n",
       "    </tr>\n",
       "    <tr>\n",
       "      <th>9</th>\n",
       "      <td>sex</td>\n",
       "      <td>-0.004316</td>\n",
       "      <td>-0.004316</td>\n",
       "    </tr>\n",
       "    <tr>\n",
       "      <th>10</th>\n",
       "      <td>smoking</td>\n",
       "      <td>-0.012623</td>\n",
       "      <td>-0.012623</td>\n",
       "    </tr>\n",
       "    <tr>\n",
       "      <th>6</th>\n",
       "      <td>platelets</td>\n",
       "      <td>-0.049139</td>\n",
       "      <td>-0.046200</td>\n",
       "    </tr>\n",
       "    <tr>\n",
       "      <th>8</th>\n",
       "      <td>serum_sodium</td>\n",
       "      <td>-0.195204</td>\n",
       "      <td>-0.209837</td>\n",
       "    </tr>\n",
       "    <tr>\n",
       "      <th>4</th>\n",
       "      <td>ejection_fraction</td>\n",
       "      <td>-0.268603</td>\n",
       "      <td>-0.286869</td>\n",
       "    </tr>\n",
       "    <tr>\n",
       "      <th>11</th>\n",
       "      <td>time</td>\n",
       "      <td>-0.526964</td>\n",
       "      <td>-0.543179</td>\n",
       "    </tr>\n",
       "  </tbody>\n",
       "</table>\n",
       "</div>"
      ],
      "text/plain": [
       "                     feature  pearson (r)  spearman\n",
       "7           serum_creatinine     0.294278  0.370630\n",
       "0                        age     0.253729  0.218125\n",
       "5        high_blood_pressure     0.079351  0.079351\n",
       "1                    anaemia     0.066270  0.066270\n",
       "2   creatinine_phosphokinase     0.062728  0.023616\n",
       "3                   diabetes    -0.001943 -0.001943\n",
       "9                        sex    -0.004316 -0.004316\n",
       "10                   smoking    -0.012623 -0.012623\n",
       "6                  platelets    -0.049139 -0.046200\n",
       "8               serum_sodium    -0.195204 -0.209837\n",
       "4          ejection_fraction    -0.268603 -0.286869\n",
       "11                      time    -0.526964 -0.543179"
      ]
     },
     "execution_count": 31,
     "metadata": {},
     "output_type": "execute_result"
    }
   ],
   "source": [
    "all_corrs(df, cols)"
   ]
  },
  {
   "cell_type": "code",
   "execution_count": 32,
   "id": "679f1045-c2ae-4202-8490-fd3f0c296d62",
   "metadata": {},
   "outputs": [
    {
     "data": {
      "text/plain": [
       "age                         0.253729\n",
       "anaemia                     0.066270\n",
       "creatinine_phosphokinase    0.062728\n",
       "diabetes                   -0.001943\n",
       "ejection_fraction          -0.268603\n",
       "high_blood_pressure         0.079351\n",
       "platelets                  -0.049139\n",
       "serum_creatinine            0.294278\n",
       "serum_sodium               -0.195204\n",
       "sex                        -0.004316\n",
       "smoking                    -0.012623\n",
       "time                       -0.526964\n",
       "DEATH_EVENT                 1.000000\n",
       "Name: DEATH_EVENT, dtype: float64"
      ]
     },
     "execution_count": 32,
     "metadata": {},
     "output_type": "execute_result"
    }
   ],
   "source": [
    "# I just found out you could do this...\n",
    "df.corr()['DEATH_EVENT']"
   ]
  },
  {
   "cell_type": "code",
   "execution_count": 33,
   "id": "77f81e11-deb9-41ff-ac22-491427347686",
   "metadata": {},
   "outputs": [
    {
     "data": {
      "text/plain": [
       "age                  0.253729\n",
       "ejection_fraction   -0.268603\n",
       "serum_creatinine     0.294278\n",
       "serum_sodium        -0.195204\n",
       "time                -0.526964\n",
       "DEATH_EVENT          1.000000\n",
       "Name: DEATH_EVENT, dtype: float64"
      ]
     },
     "execution_count": 33,
     "metadata": {},
     "output_type": "execute_result"
    }
   ],
   "source": [
    "# lets get the biggest difference makers\n",
    "df.corr()[abs(df.corr()['DEATH_EVENT']) > 0.1]['DEATH_EVENT']"
   ]
  },
  {
   "cell_type": "markdown",
   "id": "c061b3e3-69dc-41a6-aabb-2ae52ddde0ac",
   "metadata": {},
   "source": [
    "We can see serum_creatinine has the highest correlation to the death rate. \n",
    "\n",
    "Lets run normal linear regression on each pair to see the coefficents. We know linear regression on a classification dataset (DEATH_EVENT = {0, 1}) is misleading and is susceptible to outliers but lets take a look anyway."
   ]
  },
  {
   "cell_type": "code",
   "execution_count": 34,
   "id": "f0db1ec4-ca90-4b6d-a63e-c9be0d73a510",
   "metadata": {},
   "outputs": [],
   "source": [
    "from numpy.polynomial import Polynomial\n",
    "\n",
    "def plot_regression(df, col):\n",
    "    # create xs\n",
    "    line_x = np.linspace(df[col].min(), df[col].max(), 10)\n",
    "\n",
    "#     # legacy \n",
    "#     fit = np.polyfit(df[col], df['DEATH_EVENT'],1) \n",
    "#     # create polynomial object and pass in coef\n",
    "#     line = np.poly1d(fit)\n",
    "#     # evaluate line at every line_x to make ys\n",
    "#     line_y = list(map(line, line_x))\n",
    "\n",
    "    # new\n",
    "    fit = Polynomial.fit(df[col], df['DEATH_EVENT'], 1)\n",
    "    # create polynomial object and pass in coef from series\n",
    "    p = Polynomial(fit.convert().coef)\n",
    "    #line_y = list(map(p, line_x))       # option 1, pass in poly object\n",
    "    line_y = list(map(fit, line_x))     # option 2, pass in series object\n",
    "\n",
    "    fig, ax = plt.subplots()\n",
    "\n",
    "    ax.scatter(df[col], df.DEATH_EVENT)\n",
    "    ax.plot(line_x, line_y, color='red')\n",
    "    ax.set_title(col)\n",
    "\n",
    "    print(f'Reg Line for {col}: {p}')\n",
    "    plt.show()\n",
    "    plt.close()\n",
    "\n",
    "def get_coefs(df, cols):\n",
    "    res = []\n",
    "    for x in cols:\n",
    "        coefs = []\n",
    "        # create xs\n",
    "        line_x = np.linspace(df[x].min(), df[x].max(), 10)\n",
    "\n",
    "        # new\n",
    "        fit = Polynomial.fit(df[x], df['DEATH_EVENT'], 1)\n",
    "        # create polynomial object and pass in coef from series\n",
    "        p = Polynomial(fit.convert().coef)\n",
    "        \n",
    "        coefs.append(x)\n",
    "        coefs.append(p.coef[0])\n",
    "        coefs.append(p.coef[1])\n",
    "        res.append(coefs)\n",
    "    \n",
    "    \n",
    "    #res = list(zip(cols, res))\n",
    "    return res    "
   ]
  },
  {
   "cell_type": "code",
   "execution_count": 35,
   "id": "72c92199-dafb-417d-aaa6-e025d7811ddf",
   "metadata": {},
   "outputs": [
    {
     "name": "stdout",
     "output_type": "stream",
     "text": [
      "Reg Line for age: -0.28580214117333613 + 0.009975892476922332 x**1\n"
     ]
    },
    {
     "data": {
      "image/png": "[encoded data removed]",
      "text/plain": [
       "<Figure size 432x288 with 1 Axes>"
      ]
     },
     "metadata": {
      "needs_background": "light"
     },
     "output_type": "display_data"
    },
    {
     "name": "stdout",
     "output_type": "stream",
     "text": [
      "Reg Line for creatinine_phosphokinase: 0.30347864681471776 + 3.023443468643732e-05 x**1\n"
     ]
    },
    {
     "data": {
      "image/png": "[encoded data removed]",
      "text/plain": [
       "<Figure size 432x288 with 1 Axes>"
      ]
     },
     "metadata": {
      "needs_background": "light"
     },
     "output_type": "display_data"
    },
    {
     "name": "stdout",
     "output_type": "stream",
     "text": [
      "Reg Line for ejection_fraction: 0.7252987876378196 - 0.010614238825301485 x**1\n"
     ]
    },
    {
     "data": {
      "image/png": "[encoded data removed]",
      "text/plain": [
       "<Figure size 432x288 with 1 Axes>"
      ]
     },
     "metadata": {
      "needs_background": "light"
     },
     "output_type": "display_data"
    },
    {
     "name": "stdout",
     "output_type": "stream",
     "text": [
      "Reg Line for platelets: 0.3829507536821339 - 2.3496727911166046e-07 x**1\n"
     ]
    },
    {
     "data": {
      "image/png": "[encoded data removed]",
      "text/plain": [
       "<Figure size 432x288 with 1 Axes>"
      ]
     },
     "metadata": {
      "needs_background": "light"
     },
     "output_type": "display_data"
    },
    {
     "name": "stdout",
     "output_type": "stream",
     "text": [
      "Reg Line for serum_creatinine: 0.13563698891294285 + 0.13303390434779402 x**1\n"
     ]
    },
    {
     "data": {
      "image/png": "[encoded data removed]",
      "text/plain": [
       "<Figure size 432x288 with 1 Axes>"
      ]
     },
     "metadata": {
      "needs_background": "light"
     },
     "output_type": "display_data"
    },
    {
     "name": "stdout",
     "output_type": "stream",
     "text": [
      "Reg Line for serum_sodium: 3.147750880210652 - 0.02068927353511505 x**1\n"
     ]
    },
    {
     "data": {
      "image/png": "[encoded data removed]",
      "text/plain": [
       "<Figure size 432x288 with 1 Axes>"
      ]
     },
     "metadata": {
      "needs_background": "light"
     },
     "output_type": "display_data"
    },
    {
     "name": "stdout",
     "output_type": "stream",
     "text": [
      "Reg Line for time: 0.7346825076290924 - 0.003175261111766934 x**1\n"
     ]
    },
    {
     "data": {
      "image/png": "[encoded data removed]",
      "text/plain": [
       "<Figure size 432x288 with 1 Axes>"
      ]
     },
     "metadata": {
      "needs_background": "light"
     },
     "output_type": "display_data"
    }
   ],
   "source": [
    "for x in cols_num:\n",
    "    plot_regression(df, x)"
   ]
  },
  {
   "cell_type": "code",
   "execution_count": 36,
   "id": "cb225f90-713a-4054-935d-3441ab88dd62",
   "metadata": {},
   "outputs": [
    {
     "data": {
      "text/html": [
       "<div>\n",
       "<style scoped>\n",
       "    .dataframe tbody tr th:only-of-type {\n",
       "        vertical-align: middle;\n",
       "    }\n",
       "\n",
       "    .dataframe tbody tr th {\n",
       "        vertical-align: top;\n",
       "    }\n",
       "\n",
       "    .dataframe thead th {\n",
       "        text-align: right;\n",
       "    }\n",
       "</style>\n",
       "<table border=\"1\" class=\"dataframe\">\n",
       "  <thead>\n",
       "    <tr style=\"text-align: right;\">\n",
       "      <th></th>\n",
       "      <th>feature</th>\n",
       "      <th>beta0</th>\n",
       "      <th>beta1</th>\n",
       "    </tr>\n",
       "  </thead>\n",
       "  <tbody>\n",
       "    <tr>\n",
       "      <th>7</th>\n",
       "      <td>serum_creatinine</td>\n",
       "      <td>0.135637</td>\n",
       "      <td>1.330339e-01</td>\n",
       "    </tr>\n",
       "    <tr>\n",
       "      <th>5</th>\n",
       "      <td>high_blood_pressure</td>\n",
       "      <td>0.293814</td>\n",
       "      <td>7.761414e-02</td>\n",
       "    </tr>\n",
       "    <tr>\n",
       "      <th>1</th>\n",
       "      <td>anaemia</td>\n",
       "      <td>0.294118</td>\n",
       "      <td>6.247150e-02</td>\n",
       "    </tr>\n",
       "    <tr>\n",
       "      <th>0</th>\n",
       "      <td>age</td>\n",
       "      <td>-0.285802</td>\n",
       "      <td>9.975892e-03</td>\n",
       "    </tr>\n",
       "    <tr>\n",
       "      <th>2</th>\n",
       "      <td>creatinine_phosphokinase</td>\n",
       "      <td>0.303479</td>\n",
       "      <td>3.023443e-05</td>\n",
       "    </tr>\n",
       "    <tr>\n",
       "      <th>6</th>\n",
       "      <td>platelets</td>\n",
       "      <td>0.382951</td>\n",
       "      <td>-2.349673e-07</td>\n",
       "    </tr>\n",
       "    <tr>\n",
       "      <th>3</th>\n",
       "      <td>diabetes</td>\n",
       "      <td>0.321839</td>\n",
       "      <td>-1.839080e-03</td>\n",
       "    </tr>\n",
       "    <tr>\n",
       "      <th>11</th>\n",
       "      <td>time</td>\n",
       "      <td>0.734683</td>\n",
       "      <td>-3.175261e-03</td>\n",
       "    </tr>\n",
       "    <tr>\n",
       "      <th>9</th>\n",
       "      <td>sex</td>\n",
       "      <td>0.323810</td>\n",
       "      <td>-4.221895e-03</td>\n",
       "    </tr>\n",
       "    <tr>\n",
       "      <th>4</th>\n",
       "      <td>ejection_fraction</td>\n",
       "      <td>0.725299</td>\n",
       "      <td>-1.061424e-02</td>\n",
       "    </tr>\n",
       "    <tr>\n",
       "      <th>10</th>\n",
       "      <td>smoking</td>\n",
       "      <td>0.325123</td>\n",
       "      <td>-1.262315e-02</td>\n",
       "    </tr>\n",
       "    <tr>\n",
       "      <th>8</th>\n",
       "      <td>serum_sodium</td>\n",
       "      <td>3.147751</td>\n",
       "      <td>-2.068927e-02</td>\n",
       "    </tr>\n",
       "  </tbody>\n",
       "</table>\n",
       "</div>"
      ],
      "text/plain": [
       "                     feature     beta0         beta1\n",
       "7           serum_creatinine  0.135637  1.330339e-01\n",
       "5        high_blood_pressure  0.293814  7.761414e-02\n",
       "1                    anaemia  0.294118  6.247150e-02\n",
       "0                        age -0.285802  9.975892e-03\n",
       "2   creatinine_phosphokinase  0.303479  3.023443e-05\n",
       "6                  platelets  0.382951 -2.349673e-07\n",
       "3                   diabetes  0.321839 -1.839080e-03\n",
       "11                      time  0.734683 -3.175261e-03\n",
       "9                        sex  0.323810 -4.221895e-03\n",
       "4          ejection_fraction  0.725299 -1.061424e-02\n",
       "10                   smoking  0.325123 -1.262315e-02\n",
       "8               serum_sodium  3.147751 -2.068927e-02"
      ]
     },
     "execution_count": 36,
     "metadata": {},
     "output_type": "execute_result"
    }
   ],
   "source": [
    "coefs = get_coefs(df, cols)\n",
    "\n",
    "# get all coeficients and sort by their beta1. bet0 is the intercept\n",
    "pd.DataFrame(coefs, columns=['feature', 'beta0', 'beta1']).sort_values(by='beta1', ascending=False)\n",
    "\n",
    "#print(coefs)\n",
    "#tabulate(coefs, tablefmt='html', headers = ['Feature','$\\\\beta_{0}$', '$\\\\beta_{1}$'])"
   ]
  },
  {
   "cell_type": "markdown",
   "id": "886098e2-9938-4414-80b3-9a5ef4baeba8",
   "metadata": {},
   "source": [
    "### Transforms"
   ]
  },
  {
   "cell_type": "markdown",
   "id": "80938381-e66f-4fbe-90d2-5fc49e4c1599",
   "metadata": {},
   "source": [
    "I'm going to copy the original dataset and convert the categorical variables into pandas categories"
   ]
  },
  {
   "cell_type": "code",
   "execution_count": 37,
   "id": "ab7437c9-cfe8-412f-a5c7-1b3880485463",
   "metadata": {},
   "outputs": [],
   "source": [
    "df_new = df.copy()\n",
    "\n",
    "df_new.DEATH_EVENT = pd.Categorical(df_new['DEATH_EVENT'])\n",
    "df_new.high_blood_pressure = pd.Categorical(df_new.high_blood_pressure)\n",
    "df_new.sex = pd.Categorical(df_new.sex)\n",
    "df_new.smoking = pd.Categorical(df_new.smoking)"
   ]
  },
  {
   "cell_type": "markdown",
   "id": "d3b4fc52-5c82-4b4f-80b4-5d3a5ad23f7f",
   "metadata": {},
   "source": [
    "### Modeling"
   ]
  },
  {
   "cell_type": "markdown",
   "id": "fb9135db-0ed4-4e74-8249-e00e8a04743f",
   "metadata": {},
   "source": [
    "Now I can start modeling, I'm going to do subtractive modeling and then add in some interaction terms. Lets split into TEST and TRAIN datasets first"
   ]
  },
  {
   "cell_type": "code",
   "execution_count": 51,
   "id": "ca9d292e-a8da-4b08-bc32-bc0ef00950a0",
   "metadata": {},
   "outputs": [],
   "source": [
    "# Creating a dataframe with 75%\n",
    "train = df.sample(frac = 0.80).copy()\n",
    "  \n",
    "# Creating dataframe with rest of the 25% values\n",
    "test = df.drop(train.index)"
   ]
  },
  {
   "cell_type": "code",
   "execution_count": 52,
   "id": "e6f57b9e-7668-4d8e-b80e-1e862953045f",
   "metadata": {},
   "outputs": [
    {
     "data": {
      "text/html": [
       "<p><strong>Model: DEATH_EVENT ~ age + anaemia + creatinine_phosphokinase + diabetes + ejection_fraction + high_blood_pressure + platelets + serum_creatinine + serum_sodium + sex + smoking + time</strong><br/><table>\n",
       "<tbody>\n",
       "<tr><td><strong>Coefficients</strong</td><td>                      </td><td><strong>Value</strong</td></tr>\n",
       "<tr><td>                             </td><td>$\\beta_{0}$           </td><td>0.00                  </td></tr>\n",
       "<tr><td>age                          </td><td>$\\beta_{1}$           </td><td>0.04                  </td></tr>\n",
       "<tr><td>anaemia                      </td><td>$\\beta_{2}$           </td><td>0.00                  </td></tr>\n",
       "<tr><td>creatinine_phosphokinase     </td><td>$\\beta_{3}$           </td><td>0.00                  </td></tr>\n",
       "<tr><td>diabetes                     </td><td>$\\beta_{4}$           </td><td>0.00                  </td></tr>\n",
       "<tr><td>ejection_fraction            </td><td>$\\beta_{5}$           </td><td>-0.07                 </td></tr>\n",
       "<tr><td>high_blood_pressure          </td><td>$\\beta_{6}$           </td><td>-0.00                 </td></tr>\n",
       "<tr><td>platelets                    </td><td>$\\beta_{7}$           </td><td>-0.00                 </td></tr>\n",
       "<tr><td>serum_creatinine             </td><td>$\\beta_{8}$           </td><td>0.00                  </td></tr>\n",
       "<tr><td>serum_sodium                 </td><td>$\\beta_{9}$           </td><td>0.01                  </td></tr>\n",
       "<tr><td>sex                          </td><td>$\\beta_{10}$          </td><td>-0.00                 </td></tr>\n",
       "<tr><td>smoking                      </td><td>$\\beta_{11}$          </td><td>-0.00                 </td></tr>\n",
       "<tr><td>time                         </td><td>$\\beta_{12}$          </td><td>-0.02                 </td></tr>\n",
       "<tr><td>                             </td><td>                      </td><td>                      </td></tr>\n",
       "<tr><td><strong>Metrics</strong     </td><td><strong>Value</strong</td><td>                      </td></tr>\n",
       "<tr><td>Error (%)                    </td><td>17.15                 </td><td>                      </td></tr>\n",
       "<tr><td>Efron&#x27;s $R^2$                </td><td>0.45                  </td><td>                      </td></tr>\n",
       "</tbody>\n",
       "</table></p>"
      ],
      "text/latex": [
       "\\textbf{Model: DEATH\\_EVENT $\\sim$ age + anaemia + creatinine\\_phosphokinase + diabetes + ejection\\_fraction + high\\_blood\\_pressure + platelets + serum\\_creatinine + serum\\_sodium + sex + smoking + time}\n",
       "\n",
       "\\begin{tabular}{lll}\n",
       "\\toprule\n",
       " \\textbf{Coefficients}     &                & \\textbf{Value} \\\\\n",
       "                           & $\\beta_{0}$    & 0.00           \\\\\n",
       " age                       & $\\beta_{1}$    & 0.04           \\\\\n",
       " anaemia                   & $\\beta_{2}$    & 0.00           \\\\\n",
       " creatinine\\_phosphokinase & $\\beta_{3}$    & 0.00           \\\\\n",
       " diabetes                  & $\\beta_{4}$    & 0.00           \\\\\n",
       " ejection\\_fraction        & $\\beta_{5}$    & -0.07          \\\\\n",
       " high\\_blood\\_pressure     & $\\beta_{6}$    & -0.00          \\\\\n",
       " platelets                 & $\\beta_{7}$    & -0.00          \\\\\n",
       " serum\\_creatinine         & $\\beta_{8}$    & 0.00           \\\\\n",
       " serum\\_sodium             & $\\beta_{9}$    & 0.01           \\\\\n",
       " sex                       & $\\beta_{10}$   & -0.00          \\\\\n",
       " smoking                   & $\\beta_{11}$   & -0.00          \\\\\n",
       " time                      & $\\beta_{12}$   & -0.02          \\\\\n",
       "                           &                &                \\\\\n",
       " \\textbf{Metrics}          & \\textbf{Value} &                \\\\\n",
       " Error (\\%)                 & 17.15          &                \\\\\n",
       " Efron's $R^2$             & 0.45           &                \\\\\n",
       "\\bottomrule\n",
       "\\end{tabular}"
      ],
      "text/markdown": [
       "Model: DEATH_EVENT ~ age + anaemia + creatinine_phosphokinase + diabetes + ejection_fraction + high_blood_pressure + platelets + serum_creatinine + serum_sodium + sex + smoking + time\n",
       "|--------------------------|--------------|-----------|\n",
       "| **Coefficients**         |              | **Value** |\n",
       "|                          | $\\beta_{0}$  | 0.00      |\n",
       "| age                      | $\\beta_{1}$  | 0.04      |\n",
       "| anaemia                  | $\\beta_{2}$  | 0.00      |\n",
       "| creatinine_phosphokinase | $\\beta_{3}$  | 0.00      |\n",
       "| diabetes                 | $\\beta_{4}$  | 0.00      |\n",
       "| ejection_fraction        | $\\beta_{5}$  | -0.07     |\n",
       "| high_blood_pressure      | $\\beta_{6}$  | -0.00     |\n",
       "| platelets                | $\\beta_{7}$  | -0.00     |\n",
       "| serum_creatinine         | $\\beta_{8}$  | 0.00      |\n",
       "| serum_sodium             | $\\beta_{9}$  | 0.01      |\n",
       "| sex                      | $\\beta_{10}$ | -0.00     |\n",
       "| smoking                  | $\\beta_{11}$ | -0.00     |\n",
       "| time                     | $\\beta_{12}$ | -0.02     |\n",
       "|                          |              |           |\n",
       "| **Metrics**              | **Value**    |           |\n",
       "| Error (%)                | 17.15        |           |\n",
       "| Efron's $R^2$            | 0.45         |           |"
      ],
      "text/plain": [
       "<helper.ResultsWrapper at 0x21e6eeb7d48>"
      ]
     },
     "execution_count": 52,
     "metadata": {},
     "output_type": "execute_result"
    }
   ],
   "source": [
    "formula1 = 'DEATH_EVENT ~ age + anaemia + creatinine_phosphokinase + diabetes + ejection_fraction + high_blood_pressure + platelets + serum_creatinine + serum_sodium + sex + smoking + time'\n",
    "model1 = helper.logistic_regression(formula1, data = train)\n",
    "helper.simple_describe_lgr(model1)"
   ]
  },
  {
   "cell_type": "markdown",
   "id": "0fe19c71-2839-4040-b256-e7d17db8df94",
   "metadata": {},
   "source": [
    "NOTE: I kept getting the error below apparently it has to do with Scipy and Sklearn not playing nice. I just keep restarting kernel and usually I can get it to work.\n",
    "\n",
    "AttributeError: 'str' object has no attribute 'decode'"
   ]
  },
  {
   "cell_type": "markdown",
   "id": "4317fe07-b2b0-43bf-a9c4-962d8227d5d6",
   "metadata": {},
   "source": [
    "Lets only add in the features that had highest correlations"
   ]
  },
  {
   "cell_type": "code",
   "execution_count": 53,
   "id": "50e77906-02e0-47e8-b496-fd79d00a0ba4",
   "metadata": {},
   "outputs": [
    {
     "data": {
      "text/plain": [
       "age                  0.253729\n",
       "ejection_fraction   -0.268603\n",
       "serum_creatinine     0.294278\n",
       "serum_sodium        -0.195204\n",
       "time                -0.526964\n",
       "DEATH_EVENT          1.000000\n",
       "Name: DEATH_EVENT, dtype: float64"
      ]
     },
     "execution_count": 53,
     "metadata": {},
     "output_type": "execute_result"
    }
   ],
   "source": [
    "df.corr()[abs(df.corr()['DEATH_EVENT']) > 0.1]['DEATH_EVENT']"
   ]
  },
  {
   "cell_type": "code",
   "execution_count": 54,
   "id": "11bbad81-f4b5-416c-bcda-2a78fa241f2c",
   "metadata": {},
   "outputs": [
    {
     "data": {
      "text/html": [
       "<p><strong>Model: DEATH_EVENT ~ age + ejection_fraction + serum_creatinine + serum_sodium + time</strong><br/><table>\n",
       "<tbody>\n",
       "<tr><td><strong>Coefficients</strong</td><td>                      </td><td><strong>Value</strong</td></tr>\n",
       "<tr><td>                             </td><td>$\\beta_{0}$           </td><td>0.39                  </td></tr>\n",
       "<tr><td>age                          </td><td>$\\beta_{1}$           </td><td>0.04                  </td></tr>\n",
       "<tr><td>ejection_fraction            </td><td>$\\beta_{2}$           </td><td>-0.07                 </td></tr>\n",
       "<tr><td>serum_creatinine             </td><td>$\\beta_{3}$           </td><td>0.42                  </td></tr>\n",
       "<tr><td>serum_sodium                 </td><td>$\\beta_{4}$           </td><td>0.00                  </td></tr>\n",
       "<tr><td>time                         </td><td>$\\beta_{5}$           </td><td>-0.02                 </td></tr>\n",
       "<tr><td>                             </td><td>                      </td><td>                      </td></tr>\n",
       "<tr><td><strong>Metrics</strong     </td><td><strong>Value</strong</td><td>                      </td></tr>\n",
       "<tr><td>Error (%)                    </td><td>15.48                 </td><td>                      </td></tr>\n",
       "<tr><td>Efron&#x27;s $R^2$                </td><td>0.47                  </td><td>                      </td></tr>\n",
       "</tbody>\n",
       "</table></p>"
      ],
      "text/latex": [
       "\\textbf{Model: DEATH\\_EVENT $\\sim$ age + ejection\\_fraction + serum\\_creatinine + serum\\_sodium + time}\n",
       "\n",
       "\\begin{tabular}{lll}\n",
       "\\toprule\n",
       " \\textbf{Coefficients} &                & \\textbf{Value} \\\\\n",
       "                       & $\\beta_{0}$    & 0.39           \\\\\n",
       " age                   & $\\beta_{1}$    & 0.04           \\\\\n",
       " ejection\\_fraction    & $\\beta_{2}$    & -0.07          \\\\\n",
       " serum\\_creatinine     & $\\beta_{3}$    & 0.42           \\\\\n",
       " serum\\_sodium         & $\\beta_{4}$    & 0.00           \\\\\n",
       " time                  & $\\beta_{5}$    & -0.02          \\\\\n",
       "                       &                &                \\\\\n",
       " \\textbf{Metrics}      & \\textbf{Value} &                \\\\\n",
       " Error (\\%)             & 15.48          &                \\\\\n",
       " Efron's $R^2$         & 0.47           &                \\\\\n",
       "\\bottomrule\n",
       "\\end{tabular}"
      ],
      "text/markdown": [
       "Model: DEATH_EVENT ~ age + ejection_fraction + serum_creatinine + serum_sodium + time\n",
       "|-------------------|-------------|-----------|\n",
       "| **Coefficients**  |             | **Value** |\n",
       "|                   | $\\beta_{0}$ | 0.39      |\n",
       "| age               | $\\beta_{1}$ | 0.04      |\n",
       "| ejection_fraction | $\\beta_{2}$ | -0.07     |\n",
       "| serum_creatinine  | $\\beta_{3}$ | 0.42      |\n",
       "| serum_sodium      | $\\beta_{4}$ | 0.00      |\n",
       "| time              | $\\beta_{5}$ | -0.02     |\n",
       "|                   |             |           |\n",
       "| **Metrics**       | **Value**   |           |\n",
       "| Error (%)         | 15.48       |           |\n",
       "| Efron's $R^2$     | 0.47        |           |"
      ],
      "text/plain": [
       "<helper.ResultsWrapper at 0x21e6f1b0688>"
      ]
     },
     "execution_count": 54,
     "metadata": {},
     "output_type": "execute_result"
    }
   ],
   "source": [
    "formula = 'DEATH_EVENT ~ age + ejection_fraction + serum_creatinine + serum_sodium + time'\n",
    "model2 = helper.logistic_regression(formula, data = train)\n",
    "helper.simple_describe_lgr(model2)"
   ]
  },
  {
   "cell_type": "markdown",
   "id": "5d2c0cad-4a87-47e9-b33f-30a0b331a7f6",
   "metadata": {},
   "source": [
    "Lets add in interactions terms with ejection fraction since I think that would change as you get older and also time since that feature seems to have high predictive power"
   ]
  },
  {
   "cell_type": "code",
   "execution_count": 55,
   "id": "26e78c53-f2dc-43d1-82a7-883fde340a39",
   "metadata": {},
   "outputs": [
    {
     "data": {
      "text/html": [
       "<p><strong>Model: DEATH_EVENT ~ age + ejection_fraction + serum_creatinine + time + age:ejection_fraction + time:ejection_fraction</strong><br/><table>\n",
       "<tbody>\n",
       "<tr><td><strong>Coefficients</strong</td><td>                      </td><td><strong>Value</strong</td></tr>\n",
       "<tr><td>                             </td><td>$\\beta_{0}$           </td><td>0.00                  </td></tr>\n",
       "<tr><td>age                          </td><td>$\\beta_{1}$           </td><td>0.02                  </td></tr>\n",
       "<tr><td>ejection_fraction            </td><td>$\\beta_{2}$           </td><td>-0.03                 </td></tr>\n",
       "<tr><td>serum_creatinine             </td><td>$\\beta_{3}$           </td><td>0.36                  </td></tr>\n",
       "<tr><td>time                         </td><td>$\\beta_{4}$           </td><td>0.02                  </td></tr>\n",
       "<tr><td>age:ejection_fraction        </td><td>$\\beta_{5}$           </td><td>0.00                  </td></tr>\n",
       "<tr><td>time:ejection_fraction       </td><td>$\\beta_{6}$           </td><td>-0.00                 </td></tr>\n",
       "<tr><td>                             </td><td>                      </td><td>                      </td></tr>\n",
       "<tr><td><strong>Metrics</strong     </td><td><strong>Value</strong</td><td>                      </td></tr>\n",
       "<tr><td>Error (%)                    </td><td>13.39                 </td><td>                      </td></tr>\n",
       "<tr><td>Efron&#x27;s $R^2$                </td><td>0.51                  </td><td>                      </td></tr>\n",
       "</tbody>\n",
       "</table></p>"
      ],
      "text/latex": [
       "\\textbf{Model: DEATH\\_EVENT $\\sim$ age + ejection\\_fraction + serum\\_creatinine + time + age:ejection\\_fraction + time:ejection\\_fraction}\n",
       "\n",
       "\\begin{tabular}{lll}\n",
       "\\toprule\n",
       " \\textbf{Coefficients}   &                & \\textbf{Value} \\\\\n",
       "                         & $\\beta_{0}$    & 0.00           \\\\\n",
       " age                     & $\\beta_{1}$    & 0.02           \\\\\n",
       " ejection\\_fraction      & $\\beta_{2}$    & -0.03          \\\\\n",
       " serum\\_creatinine       & $\\beta_{3}$    & 0.36           \\\\\n",
       " time                    & $\\beta_{4}$    & 0.02           \\\\\n",
       " age:ejection\\_fraction  & $\\beta_{5}$    & 0.00           \\\\\n",
       " time:ejection\\_fraction & $\\beta_{6}$    & -0.00          \\\\\n",
       "                         &                &                \\\\\n",
       " \\textbf{Metrics}        & \\textbf{Value} &                \\\\\n",
       " Error (\\%)               & 13.39          &                \\\\\n",
       " Efron's $R^2$           & 0.51           &                \\\\\n",
       "\\bottomrule\n",
       "\\end{tabular}"
      ],
      "text/markdown": [
       "Model: DEATH_EVENT ~ age + ejection_fraction + serum_creatinine + time + age:ejection_fraction + time:ejection_fraction\n",
       "|------------------------|-------------|-----------|\n",
       "| **Coefficients**       |             | **Value** |\n",
       "|                        | $\\beta_{0}$ | 0.00      |\n",
       "| age                    | $\\beta_{1}$ | 0.02      |\n",
       "| ejection_fraction      | $\\beta_{2}$ | -0.03     |\n",
       "| serum_creatinine       | $\\beta_{3}$ | 0.36      |\n",
       "| time                   | $\\beta_{4}$ | 0.02      |\n",
       "| age:ejection_fraction  | $\\beta_{5}$ | 0.00      |\n",
       "| time:ejection_fraction | $\\beta_{6}$ | -0.00     |\n",
       "|                        |             |           |\n",
       "| **Metrics**            | **Value**   |           |\n",
       "| Error (%)              | 13.39       |           |\n",
       "| Efron's $R^2$          | 0.51        |           |"
      ],
      "text/plain": [
       "<helper.ResultsWrapper at 0x21e6f1e6908>"
      ]
     },
     "execution_count": 55,
     "metadata": {},
     "output_type": "execute_result"
    }
   ],
   "source": [
    "formula = 'DEATH_EVENT ~ age + ejection_fraction + serum_creatinine + time + age:ejection_fraction + time:ejection_fraction'\n",
    "model3 = helper.logistic_regression(formula, data = train)\n",
    "helper.simple_describe_lgr(model3)"
   ]
  },
  {
   "cell_type": "code",
   "execution_count": 56,
   "id": "b568fffb-00e2-4461-a60f-e8ec6304e107",
   "metadata": {},
   "outputs": [
    {
     "data": {
      "image/png": "[encoded data removed]",
      "text/plain": [
       "<Figure size 432x288 with 1 Axes>"
      ]
     },
     "metadata": {
      "needs_background": "light"
     },
     "output_type": "display_data"
    },
    {
     "data": {
      "image/png": "[encoded data removed]",
      "text/plain": [
       "<Figure size 432x288 with 1 Axes>"
      ]
     },
     "metadata": {
      "needs_background": "light"
     },
     "output_type": "display_data"
    },
    {
     "data": {
      "image/png": "[encoded data removed]",
      "text/plain": [
       "<Figure size 432x288 with 1 Axes>"
      ]
     },
     "metadata": {
      "needs_background": "light"
     },
     "output_type": "display_data"
    },
    {
     "data": {
      "image/png": "[encoded data removed]",
      "text/plain": [
       "<Figure size 432x288 with 1 Axes>"
      ]
     },
     "metadata": {
      "needs_background": "light"
     },
     "output_type": "display_data"
    }
   ],
   "source": [
    "features = ['age','ejection_fraction','serum_creatinine','time']\n",
    "for i in features:\n",
    "    fig, ax = plt.subplots()\n",
    "\n",
    "    #residuals = np.array([r[0] for r in model3[\"residuals\"]])\n",
    "    residuals = model3[\"residuals\"]\n",
    "    trials = model3['n']\n",
    "\n",
    "    variable = 'ejection_fraction'\n",
    "    keyed_values = sorted(zip(train[variable].values, residuals), key=lambda x: x[ 0])\n",
    "    ordered_residuals = [x[ 1] for x in keyed_values]\n",
    "\n",
    "    ax.plot(list(range(trials)), ordered_residuals,'.', color=\"dimgray\", alpha=0.75)\n",
    "\n",
    "    plt.show()\n",
    "    plt.close()"
   ]
  },
  {
   "cell_type": "markdown",
   "id": "7be3f823-7a52-4df3-a8a2-304c1f768896",
   "metadata": {},
   "source": [
    "Residuals look evenly distrbuted and this looks like a decent model, error is pretty low and R2 isn't too bad. Lets make predictions with it and see the results"
   ]
  },
  {
   "cell_type": "markdown",
   "id": "8f7bfc21-3ff9-409e-b682-3192d1f17b12",
   "metadata": {},
   "source": [
    "### Predictions"
   ]
  },
  {
   "cell_type": "code",
   "execution_count": 57,
   "id": "ee0ad30d-804b-4df4-93f9-f85952e4aa48",
   "metadata": {},
   "outputs": [],
   "source": [
    "# we need to split our features from our target so I can pass them into my model\n",
    "x = test[['age','ejection_fraction','serum_creatinine','time']].copy()\n",
    "# add interaction terms\n",
    "x['age:ejection_fraction'] = x['age'] * x['ejection_fraction']\n",
    "x['time:ejection_fraction'] = x['time'] * x['ejection_fraction']\n",
    "\n",
    "# add intercept\n",
    "x['intercept'] = x['age'] - x['age']\n",
    "\n",
    "# shift column 'Name' to first position\n",
    "first_column = x.pop('intercept')\n",
    "  \n",
    "# insert column using insert(position,column_name,# first_column) function\n",
    "x.insert(0, 'intercept', first_column)\n",
    "\n",
    "# make predictions\n",
    "preds = model3['model'].predict(x)\n",
    "\n",
    "# add values back into \n",
    "x['y'] = test['DEATH_EVENT']\n",
    "x['preds'] = preds.tolist()\n",
    "\n",
    "# predicted True but actually false\n",
    "FP = x.loc[(x['preds'] == 1) & (x['y'] == 0)].shape[0]\n",
    "# predicted True and actually true\n",
    "TP = x.loc[(x['preds'] == 1) & (x['y'] == 1)].shape[0]\n",
    "\n",
    "# predicted False and actually false\n",
    "TN = x.loc[(x['preds'] == 0) & (x['y'] == 0)].shape[0]\n",
    "# predicted False but actually true\n",
    "FN = x.loc[(x['preds'] == 0) & (x['y'] == 1)].shape[0]\n",
    "\n",
    "cm = np.array([[f'TN={TN}', f'FP={FP}'], [f'FN={FN}',f'TP={TP}']])"
   ]
  },
  {
   "cell_type": "code",
   "execution_count": 58,
   "id": "3d829069-ddea-4b0b-a3a6-0e9b1e44795a",
   "metadata": {},
   "outputs": [
    {
     "data": {
      "text/html": [
       "<table>\n",
       "<tbody>\n",
       "<tr><td>TN=36</td><td>FP=4 </td></tr>\n",
       "<tr><td>FN=8 </td><td>TP=12</td></tr>\n",
       "</tbody>\n",
       "</table>"
      ],
      "text/plain": [
       "'<table>\\n<tbody>\\n<tr><td>TN=36</td><td>FP=4 </td></tr>\\n<tr><td>FN=8 </td><td>TP=12</td></tr>\\n</tbody>\\n</table>'"
      ]
     },
     "execution_count": 58,
     "metadata": {},
     "output_type": "execute_result"
    }
   ],
   "source": [
    "tabulate(cm,tablefmt='html')"
   ]
  },
  {
   "cell_type": "markdown",
   "id": "65c2459b-0cb4-43a5-9f57-c300b232a0e2",
   "metadata": {},
   "source": [
    "### Using SciKit Learn\n",
    "\n",
    "This uses sklearn non modified packages and essential gets the same thing\n",
    "\n",
    "ref: https://scikit-learn.org/stable/index.html"
   ]
  },
  {
   "cell_type": "code",
   "execution_count": 59,
   "id": "ef2abb92-1937-4c0f-b2ea-1f9e6c005405",
   "metadata": {},
   "outputs": [
    {
     "name": "stdout",
     "output_type": "stream",
     "text": [
      "              precision    recall  f1-score   support\n",
      "\n",
      "           0       0.88      0.86      0.87        42\n",
      "           1       0.68      0.72      0.70        18\n",
      "\n",
      "    accuracy                           0.82        60\n",
      "   macro avg       0.78      0.79      0.79        60\n",
      "weighted avg       0.82      0.82      0.82        60\n",
      "\n",
      "matrix:\n",
      "[[36  6]\n",
      " [ 5 13]]\n"
     ]
    }
   ],
   "source": [
    "from sklearn.model_selection import train_test_split\n",
    "from sklearn.linear_model import LogisticRegression\n",
    "from sklearn.metrics import classification_report,confusion_matrix\n",
    "\n",
    "\n",
    "x = df[['age','ejection_fraction','serum_creatinine','serum_sodium','time']]\n",
    "y = df['DEATH_EVENT']\n",
    "\n",
    "X_train, X_test, y_train, y_test = train_test_split(x, y, test_size=0.20)\n",
    "\n",
    "logmodel = LogisticRegression()\n",
    "logmodel.fit(X_train,y_train)\n",
    "predictions = logmodel.predict(X_test)\n",
    "\n",
    "print(classification_report(y_test, predictions))\n",
    "print('matrix:')\n",
    "print(confusion_matrix(y_test, predictions))"
   ]
  },
  {
   "cell_type": "markdown",
   "id": "faacc8ae-e498-437e-ab79-9a8bee5b35dd",
   "metadata": {},
   "source": [
    "My method seems to be close to sklearn so thats good! Part 2 I will remove some of those outliers and see if it helps"
   ]
  },
  {
   "cell_type": "code",
   "execution_count": null,
   "id": "eaf35f95-648d-4737-b28d-c841ee4a32e0",
   "metadata": {},
   "outputs": [],
   "source": []
  }
 ],
 "metadata": {
  "kernelspec": {
   "display_name": "Python 3",
   "language": "python",
   "name": "python3"
  },
  "language_info": {
   "codemirror_mode": {
    "name": "ipython",
    "version": 3
   },
   "file_extension": ".py",
   "mimetype": "text/x-python",
   "name": "python",
   "nbconvert_exporter": "python",
   "pygments_lexer": "ipython3",
   "version": "3.8.8"
  }
 },
 "nbformat": 4,
 "nbformat_minor": 5
}
